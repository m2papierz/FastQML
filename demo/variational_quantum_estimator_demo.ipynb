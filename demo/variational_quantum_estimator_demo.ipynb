{
 "cells": [
  {
   "cell_type": "markdown",
   "source": [
    "### Binary Classification Using VQClassifier with JAX Backend in FastQML\n",
    "\n",
    "This demonstration showcases the FastQML library's capabilities in implementing and training Quantum Machine Learning (QML) models efficiently. FastQML, integrated with PennyLane, allows customizable components for each part of the model implementation. Here, we focus on employing the Variational Quantum Classifier (VQClassifier) for binary classification. The VQClassifier utilizes quantum circuits for data processing and is enhanced by JAX for accelerated CPU computations. The demo includes steps for setting up the quantum circuit, dataset preparation, and classifier execution, emphasizing FastQML's performance enhancements."
   ],
   "metadata": {
    "collapsed": false
   },
   "id": "71554a334fd27fd7"
  },
  {
   "cell_type": "code",
   "outputs": [],
   "source": [
    "import time\n",
    "import matplotlib.pyplot as plt\n",
    "from sklearn.datasets import load_breast_cancer\n",
    "from sklearn.model_selection import train_test_split\n",
    "from sklearn.metrics import classification_report\n",
    "from sklearn.preprocessing import MinMaxScaler\n",
    "from sklearn.metrics import confusion_matrix, ConfusionMatrixDisplay\n",
    "\n",
    "import fast_qml\n",
    "import pennylane as qml\n",
    "from fast_qml.quantum_circuits.feature_maps import AmplitudeEmbedding\n",
    "from fast_qml.quantum_circuits.variational_forms import TwoLocal, Ansatz\n",
    "from fast_qml.machine_learning.estimators.vqa import VQClassifier\n",
    "from fast_qml.machine_learning.callbacks import EarlyStopping"
   ],
   "metadata": {
    "collapsed": false,
    "ExecuteTime": {
     "end_time": "2024-01-31T21:18:53.325112100Z",
     "start_time": "2024-01-31T21:18:51.756722100Z"
    }
   },
   "id": "b0e243e0c0e69dc6",
   "execution_count": 1
  },
  {
   "cell_type": "markdown",
   "source": [
    "To compare the execution time of the training process across different backends (default PennyLane interface and JAX interface with Just-in-time compilation), we utilize a custom decorator. This decorator measures and displays the execution time of the function it wraps, providing insights into the performance improvements offered by JAX."
   ],
   "metadata": {
    "collapsed": false
   },
   "id": "3f0eeb6efd06f329"
  },
  {
   "cell_type": "code",
   "outputs": [],
   "source": [
    "def execution_time(func):\n",
    "    \"\"\"\n",
    "    A decorator that prints the execution time of the function it decorates.\n",
    "    \"\"\"\n",
    "    def wrapper(*args, **kwargs):\n",
    "        start_time = time.time()\n",
    "        result = func(*args, **kwargs) \n",
    "        end_time = time.time()\n",
    "        print(f\"Executing {func.__name__} took {end_time - start_time:.5f} seconds.\")\n",
    "        return result\n",
    "    return wrapper"
   ],
   "metadata": {
    "collapsed": false,
    "ExecuteTime": {
     "end_time": "2024-01-31T21:18:53.326111400Z",
     "start_time": "2024-01-31T21:18:53.175506Z"
    }
   },
   "id": "5ff678bb087b7728",
   "execution_count": 2
  },
  {
   "cell_type": "markdown",
   "source": [
    "The breast cancer dataset from sklearn serves as our binary classification task. This dataset, derived from digitized images of fine needle aspirates of breast masses, contains 30 features representing cell nuclei characteristics. The classification task is to categorize these instances as benign or malignant.\n",
    "\n",
    "We begin by normalizing the data and dividing it into training, validation, and testing sets. This step is crucial for a comprehensive evaluation of the VQClassifier's performance."
   ],
   "metadata": {
    "collapsed": false
   },
   "id": "607b6bc055aa37c0"
  },
  {
   "cell_type": "code",
   "outputs": [
    {
     "name": "stdout",
     "output_type": "stream",
     "text": [
      "(455, 30) (57, 30) (57, 30)\n"
     ]
    }
   ],
   "source": [
    "# Load the breast cancer dataset\n",
    "data = load_breast_cancer()\n",
    "X, y = data.data, data.target\n",
    "\n",
    "# Normalize the data\n",
    "scaler = MinMaxScaler()\n",
    "X_normalized = scaler.fit_transform(X)\n",
    "\n",
    "# Split the dataset into training and testing sets\n",
    "X_train, X_test, y_train, y_test = train_test_split(\n",
    "    X_normalized, y, test_size=0.2, random_state=42)\n",
    "\n",
    "X_val, X_test, y_val, y_test = train_test_split(\n",
    "    X_test, y_test, test_size=0.5, random_state=42)\n",
    "\n",
    "print(X_train.shape, X_test.shape, X_val.shape)"
   ],
   "metadata": {
    "collapsed": false,
    "ExecuteTime": {
     "end_time": "2024-01-31T21:18:58.354443200Z",
     "start_time": "2024-01-31T21:18:58.334443200Z"
    }
   },
   "id": "100ca38e1b11823f",
   "execution_count": 3
  },
  {
   "cell_type": "markdown",
   "source": [
    "In this step, we will construct the fundamental components of our quantum classifier using FastQML: the feature map and the ansatz. The feature map's role is to encode classical data into a quantum state. For this purpose, we will utilize the AmplitudeEmbedding method from FastQML, which efficiently encodes data into quantum states. Given that a single sample from our dataset contains 30 features, and AmplitudeEmbedding can encode 2^qubits_number of features, we will use 5 qubits. This configuration allows us to encode up to 32 features, with the last two being padded with 0.0 to fit our data structure.\n",
    "\n",
    "Next, we will set up the ansatz for our quantum classifier. The ansatz, composed of a sequence of quantum gates, is responsible for processing the quantum data. In this demonstration, we will employ the TwoLocal form available in FastQML. The TwoLocal form is a versatile and commonly used ansatz, and we will use it with its default parameters. This choice provides a balance between simplicity and the ability to demonstrate the essential features of quantum data processing in FastQML.\n",
    "\n",
    "By following these steps, we effectively establish the quantum environment necessary for our classifier, showcasing the ease and flexibility of feature mapping and ansatz configuration in FastQML."
   ],
   "metadata": {
    "collapsed": false
   },
   "id": "9cf572ffc61940f2"
  },
  {
   "cell_type": "code",
   "outputs": [],
   "source": [
    "# With 5 qubits we have 2^5=32 features at maximum to be encoded\n",
    "n_qubits = 5\n",
    "\n",
    "# Create AmplitudeEmbedding feature map with 0.0 padding\n",
    "feature_map = AmplitudeEmbedding(\n",
    "    n_qubits=n_qubits,\n",
    "    pad_with=0.0\n",
    ")\n",
    "\n",
    "# TwoLocal ansatz with default parameters\n",
    "ansatz = TwoLocal(\n",
    "    n_qubits=n_qubits,\n",
    "    controlled_gate='CNOT',\n",
    "    entanglement='linear',\n",
    "    skip_last_rotations=False,\n",
    "    reps=2\n",
    ")"
   ],
   "metadata": {
    "collapsed": false,
    "ExecuteTime": {
     "end_time": "2024-01-31T21:18:59.775884700Z",
     "start_time": "2024-01-31T21:18:59.769375600Z"
    }
   },
   "id": "3aa9d78a28342207",
   "execution_count": 4
  },
  {
   "cell_type": "code",
   "outputs": [],
   "source": [
    "# Create VQClassifier model with defined ansatz and feature map\n",
    "model = VQClassifier(\n",
    "    n_qubits=n_qubits,\n",
    "    feature_map=feature_map,\n",
    "    ansatz=ansatz,\n",
    "    classes_num=2\n",
    ")"
   ],
   "metadata": {
    "collapsed": false,
    "ExecuteTime": {
     "end_time": "2024-01-31T21:19:00.783579Z",
     "start_time": "2024-01-31T21:19:00.770573700Z"
    }
   },
   "id": "8f73d4a4c010ee72",
   "execution_count": 5
  },
  {
   "cell_type": "markdown",
   "source": [
    "To better understand the structure of our quantum circuit, we can visualize it with build-in _draw_circuit()_ method. It can be usefully in debugging and optimizing the quantum circuit design."
   ],
   "metadata": {
    "collapsed": false
   },
   "id": "907e7ba66dd72acd"
  },
  {
   "cell_type": "code",
   "outputs": [
    {
     "name": "stdout",
     "output_type": "stream",
     "text": [
      "0: ─╭|Ψ⟩──RY(0.02)─╭●───────────||──RY(0.07)─╭●───────────||──RY(0.10)─┤  \n",
      "1: ─├|Ψ⟩──RY(0.05)─╰X─╭●────────||──RY(0.01)─╰X─╭●────────||──RY(0.09)─┤  \n",
      "2: ─├|Ψ⟩──RY(0.05)────╰X─╭●─────||──RY(0.00)────╰X─╭●─────||──RY(0.04)─┤  \n",
      "3: ─├|Ψ⟩──RY(0.03)───────╰X─╭●──||──RY(0.06)───────╰X─╭●──||──RY(0.01)─┤  \n",
      "4: ─╰|Ψ⟩──RY(0.01)──────────╰X──||──RY(0.03)──────────╰X──||──RY(0.02)─┤  \n"
     ]
    }
   ],
   "source": [
    "model.draw_circuit()"
   ],
   "metadata": {
    "collapsed": false,
    "ExecuteTime": {
     "end_time": "2024-01-31T21:19:06.579135200Z",
     "start_time": "2024-01-31T21:19:06.573977200Z"
    }
   },
   "id": "ce82af9be5148cc2",
   "execution_count": 6
  },
  {
   "cell_type": "markdown",
   "source": [
    "At this stage, we are ready to train our quantum classifier using FastQML. The training process is designed to optimize the model's parameters based on the training data, while also incorporating validation data to ensure robustness and generalizability. To proceed with training, we will set the number of epochs to 150. An epoch is a complete pass through the entire training dataset, and this number determines the duration of the training process. The choice of 250 epochs allows for a thorough optimization of the model's parameters.\n",
    "\n",
    "Additionally, we will set the learning rate to 0.3. The learning rate is a crucial hyperparameter in machine learning that influences the rate at which the model learns. A learning rate of 0.3 is selected to balance the speed of convergence and the stability of the training process."
   ],
   "metadata": {
    "collapsed": false
   },
   "id": "b695defa137ac0e0"
  },
  {
   "cell_type": "code",
   "outputs": [
    {
     "name": "stdout",
     "output_type": "stream",
     "text": [
      "Epoch 1/150 - train_loss: 0.69144, val_loss: 0.64049\n",
      "Epoch 2/150 - train_loss: 0.66405, val_loss: 0.71313\n",
      "Epoch 3/150 - train_loss: 0.69759, val_loss: 0.77663\n",
      "Epoch 4/150 - train_loss: 0.72126, val_loss: 0.80738\n",
      "Epoch 5/150 - train_loss: 0.72721, val_loss: 0.81478\n",
      "Epoch 6/150 - train_loss: 0.70773, val_loss: 0.78315\n",
      "Epoch 7/150 - train_loss: 0.67986, val_loss: 0.71883\n",
      "Epoch 8/150 - train_loss: 0.71892, val_loss: 0.70163\n",
      "Epoch 9/150 - train_loss: 0.71673, val_loss: 0.70435\n",
      "Epoch 10/150 - train_loss: 0.68414, val_loss: 0.70623\n",
      "Epoch 11/150 - train_loss: 0.68307, val_loss: 0.74176\n",
      "Epoch 12/150 - train_loss: 0.69703, val_loss: 0.77858\n",
      "Epoch 13/150 - train_loss: 0.69987, val_loss: 0.78708\n",
      "Epoch 14/150 - train_loss: 0.68795, val_loss: 0.76586\n",
      "Epoch 15/150 - train_loss: 0.67176, val_loss: 0.72750\n",
      "Epoch 16/150 - train_loss: 0.66794, val_loss: 0.69404\n",
      "Epoch 17/150 - train_loss: 0.67700, val_loss: 0.68008\n",
      "Epoch 18/150 - train_loss: 0.67215, val_loss: 0.67683\n",
      "Epoch 19/150 - train_loss: 0.65710, val_loss: 0.68268\n",
      "Epoch 20/150 - train_loss: 0.65078, val_loss: 0.69907\n",
      "Epoch 21/150 - train_loss: 0.65092, val_loss: 0.71329\n",
      "Epoch 22/150 - train_loss: 0.65011, val_loss: 0.71622\n",
      "Epoch 23/150 - train_loss: 0.64689, val_loss: 0.70894\n",
      "Epoch 24/150 - train_loss: 0.64376, val_loss: 0.69676\n",
      "Epoch 25/150 - train_loss: 0.64368, val_loss: 0.68513\n",
      "Epoch 26/150 - train_loss: 0.64713, val_loss: 0.67756\n",
      "Epoch 27/150 - train_loss: 0.65061, val_loss: 0.67429\n",
      "Epoch 28/150 - train_loss: 0.65002, val_loss: 0.67382\n",
      "Epoch 29/150 - train_loss: 0.64597, val_loss: 0.67591\n",
      "Epoch 30/150 - train_loss: 0.64230, val_loss: 0.68101\n",
      "Epoch 31/150 - train_loss: 0.64101, val_loss: 0.68795\n",
      "Epoch 32/150 - train_loss: 0.64133, val_loss: 0.69421\n",
      "Epoch 33/150 - train_loss: 0.64174, val_loss: 0.69756\n",
      "Epoch 34/150 - train_loss: 0.64135, val_loss: 0.69691\n",
      "Epoch 35/150 - train_loss: 0.64031, val_loss: 0.69251\n",
      "Epoch 36/150 - train_loss: 0.63937, val_loss: 0.68599\n",
      "Epoch 37/150 - train_loss: 0.63902, val_loss: 0.67983\n",
      "Epoch 38/150 - train_loss: 0.63853, val_loss: 0.67620\n",
      "Epoch 39/150 - train_loss: 0.63680, val_loss: 0.67589\n",
      "Epoch 40/150 - train_loss: 0.63414, val_loss: 0.67841\n",
      "Epoch 41/150 - train_loss: 0.63169, val_loss: 0.68215\n",
      "Epoch 42/150 - train_loss: 0.62983, val_loss: 0.68507\n",
      "Epoch 43/150 - train_loss: 0.62830, val_loss: 0.68579\n",
      "Epoch 44/150 - train_loss: 0.62692, val_loss: 0.68419\n",
      "Epoch 45/150 - train_loss: 0.62582, val_loss: 0.68110\n",
      "Epoch 46/150 - train_loss: 0.62509, val_loss: 0.67769\n",
      "Epoch 47/150 - train_loss: 0.62447, val_loss: 0.67494\n",
      "Epoch 48/150 - train_loss: 0.62348, val_loss: 0.67339\n",
      "Epoch 49/150 - train_loss: 0.62195, val_loss: 0.67318\n",
      "Epoch 50/150 - train_loss: 0.62023, val_loss: 0.67410\n",
      "Epoch 51/150 - train_loss: 0.61871, val_loss: 0.67546\n",
      "Epoch 52/150 - train_loss: 0.61747, val_loss: 0.67622\n",
      "Epoch 53/150 - train_loss: 0.61628, val_loss: 0.67548\n",
      "Epoch 54/150 - train_loss: 0.61502, val_loss: 0.67304\n",
      "Epoch 55/150 - train_loss: 0.61372, val_loss: 0.66955\n",
      "Epoch 56/150 - train_loss: 0.61244, val_loss: 0.66624\n",
      "Epoch 57/150 - train_loss: 0.61101, val_loss: 0.66422\n",
      "Epoch 58/150 - train_loss: 0.60932, val_loss: 0.66390\n",
      "Epoch 59/150 - train_loss: 0.60746, val_loss: 0.66474\n",
      "Epoch 60/150 - train_loss: 0.60557, val_loss: 0.66557\n",
      "Epoch 61/150 - train_loss: 0.60358, val_loss: 0.66519\n",
      "Epoch 62/150 - train_loss: 0.60145, val_loss: 0.66319\n",
      "Epoch 63/150 - train_loss: 0.59925, val_loss: 0.66015\n",
      "Epoch 64/150 - train_loss: 0.59697, val_loss: 0.65720\n",
      "Epoch 65/150 - train_loss: 0.59438, val_loss: 0.65509\n",
      "Epoch 66/150 - train_loss: 0.59137, val_loss: 0.65366\n",
      "Epoch 67/150 - train_loss: 0.58795, val_loss: 0.65180\n",
      "Epoch 68/150 - train_loss: 0.58400, val_loss: 0.64798\n",
      "Epoch 69/150 - train_loss: 0.57935, val_loss: 0.64131\n",
      "Epoch 70/150 - train_loss: 0.57400, val_loss: 0.63229\n",
      "Epoch 71/150 - train_loss: 0.56796, val_loss: 0.62225\n",
      "Epoch 72/150 - train_loss: 0.56110, val_loss: 0.61202\n",
      "Epoch 73/150 - train_loss: 0.55354, val_loss: 0.60133\n",
      "Epoch 74/150 - train_loss: 0.54564, val_loss: 0.58930\n",
      "Epoch 75/150 - train_loss: 0.53775, val_loss: 0.57554\n",
      "Epoch 76/150 - train_loss: 0.53046, val_loss: 0.56110\n",
      "Epoch 77/150 - train_loss: 0.52435, val_loss: 0.54787\n",
      "Epoch 78/150 - train_loss: 0.51985, val_loss: 0.53721\n",
      "Epoch 79/150 - train_loss: 0.51726, val_loss: 0.52942\n",
      "Epoch 80/150 - train_loss: 0.51657, val_loss: 0.52389\n",
      "Epoch 81/150 - train_loss: 0.51729, val_loss: 0.51980\n",
      "Epoch 82/150 - train_loss: 0.51868, val_loss: 0.51669\n",
      "Epoch 83/150 - train_loss: 0.51994, val_loss: 0.51450\n",
      "Epoch 84/150 - train_loss: 0.52044, val_loss: 0.51324\n",
      "Epoch 85/150 - train_loss: 0.51986, val_loss: 0.51280\n",
      "Epoch 86/150 - train_loss: 0.51828, val_loss: 0.51284\n",
      "Epoch 87/150 - train_loss: 0.51605, val_loss: 0.51303\n",
      "Epoch 88/150 - train_loss: 0.51366, val_loss: 0.51331\n",
      "Epoch 89/150 - train_loss: 0.51160, val_loss: 0.51405\n",
      "Epoch 90/150 - train_loss: 0.51016, val_loss: 0.51580\n",
      "Epoch 91/150 - train_loss: 0.50940, val_loss: 0.51878\n",
      "Epoch 92/150 - train_loss: 0.50927, val_loss: 0.52254\n",
      "Epoch 93/150 - train_loss: 0.50962, val_loss: 0.52616\n",
      "Epoch 94/150 - train_loss: 0.51022, val_loss: 0.52891\n",
      "Epoch 95/150 - train_loss: 0.51087, val_loss: 0.53077\n",
      "Epoch 96/150 - train_loss: 0.51143, val_loss: 0.53221\n",
      "Epoch 97/150 - train_loss: 0.51178, val_loss: 0.53344\n",
      "Epoch 98/150 - train_loss: 0.51190, val_loss: 0.53410\n",
      "Epoch 99/150 - train_loss: 0.51179, val_loss: 0.53372\n",
      "Epoch 100/150 - train_loss: 0.51149, val_loss: 0.53228\n",
      "Epoch 101/150 - train_loss: 0.51110, val_loss: 0.53038\n",
      "Epoch 102/150 - train_loss: 0.51068, val_loss: 0.52861\n",
      "Epoch 103/150 - train_loss: 0.51031, val_loss: 0.52701\n",
      "Epoch 104/150 - train_loss: 0.51004, val_loss: 0.52529\n",
      "Epoch 105/150 - train_loss: 0.50989, val_loss: 0.52331\n",
      "Epoch 106/150 - train_loss: 0.50986, val_loss: 0.52142\n",
      "Epoch 107/150 - train_loss: 0.50993, val_loss: 0.52004\n",
      "Epoch 108/150 - train_loss: 0.51004, val_loss: 0.51929\n",
      "Epoch 109/150 - train_loss: 0.51014, val_loss: 0.51885\n",
      "Epoch 110/150 - train_loss: 0.51020, val_loss: 0.51841\n",
      "Epoch 111/150 - train_loss: 0.51019, val_loss: 0.51801\n",
      "Epoch 112/150 - train_loss: 0.51010, val_loss: 0.51791\n",
      "Epoch 113/150 - train_loss: 0.50995, val_loss: 0.51826\n",
      "Epoch 114/150 - train_loss: 0.50977, val_loss: 0.51891\n",
      "Epoch 115/150 - train_loss: 0.50959, val_loss: 0.51957\n",
      "Epoch 116/150 - train_loss: 0.50945, val_loss: 0.52014\n",
      "Epoch 117/150 - train_loss: 0.50935, val_loss: 0.52079\n",
      "Epoch 118/150 - train_loss: 0.50930, val_loss: 0.52166\n",
      "Epoch 119/150 - train_loss: 0.50929, val_loss: 0.52263\n",
      "Epoch 120/150 - train_loss: 0.50931, val_loss: 0.52341\n",
      "Epoch 121/150 - train_loss: 0.50934, val_loss: 0.52383\n",
      "Epoch 122/150 - train_loss: 0.50936, val_loss: 0.52401\n",
      "Epoch 123/150 - train_loss: 0.50936, val_loss: 0.52412\n",
      "Epoch 124/150 - train_loss: 0.50935, val_loss: 0.52414\n",
      "Epoch 125/150 - train_loss: 0.50931, val_loss: 0.52393\n",
      "Epoch 126/150 - train_loss: 0.50928, val_loss: 0.52344\n",
      "Epoch 127/150 - train_loss: 0.50924, val_loss: 0.52283\n",
      "Epoch 128/150 - train_loss: 0.50921, val_loss: 0.52229\n",
      "Epoch 129/150 - train_loss: 0.50919, val_loss: 0.52186\n",
      "Epoch 130/150 - train_loss: 0.50919, val_loss: 0.52142\n",
      "Epoch 131/150 - train_loss: 0.50920, val_loss: 0.52092\n",
      "Epoch 132/150 - train_loss: 0.50921, val_loss: 0.52048\n",
      "Epoch 133/150 - train_loss: 0.50922, val_loss: 0.52022\n",
      "Epoch 134/150 - train_loss: 0.50923, val_loss: 0.52013\n",
      "Epoch 135/150 - train_loss: 0.50924, val_loss: 0.52011\n",
      "Epoch 136/150 - train_loss: 0.50923, val_loss: 0.52010\n",
      "Epoch 137/150 - train_loss: 0.50922, val_loss: 0.52018\n",
      "Epoch 138/150 - train_loss: 0.50921, val_loss: 0.52042\n",
      "Epoch 139/150 - train_loss: 0.50920, val_loss: 0.52076\n",
      "Epoch 140/150 - train_loss: 0.50919, val_loss: 0.52108\n",
      "Epoch 141/150 - train_loss: 0.50919, val_loss: 0.52133\n",
      "Epoch 142/150 - train_loss: 0.50919, val_loss: 0.52156\n",
      "Epoch 143/150 - train_loss: 0.50919, val_loss: 0.52182\n",
      "Epoch 144/150 - train_loss: 0.50919, val_loss: 0.52204\n",
      "Epoch 145/150 - train_loss: 0.50919, val_loss: 0.52215\n",
      "Epoch 146/150 - train_loss: 0.50919, val_loss: 0.52215\n",
      "Epoch 147/150 - train_loss: 0.50919, val_loss: 0.52211\n",
      "Epoch 148/150 - train_loss: 0.50918, val_loss: 0.52208\n",
      "Epoch 149/150 - train_loss: 0.50918, val_loss: 0.52200\n",
      "Epoch 150/150 - train_loss: 0.50917, val_loss: 0.52183\n",
      "Executing fit_model took 4.51382 seconds.\n"
     ]
    }
   ],
   "source": [
    "@execution_time\n",
    "def fit_model():\n",
    "    model.fit(\n",
    "        x_train=X_train,\n",
    "        y_train=y_train,\n",
    "        x_val=X_val,\n",
    "        y_val=y_val,\n",
    "        num_epochs=150,\n",
    "        learning_rate=0.3\n",
    "    )\n",
    "    \n",
    "fit_model()"
   ],
   "metadata": {
    "collapsed": false,
    "ExecuteTime": {
     "end_time": "2024-01-31T21:19:16.493796300Z",
     "start_time": "2024-01-31T21:19:11.973918900Z"
    }
   },
   "id": "be197712bd816304",
   "execution_count": 7
  },
  {
   "cell_type": "markdown",
   "source": [
    "We trained the model in **~4.51 seconds**.\n",
    "\n",
    "With the model now trained, our next step is to evaluate its performance on the test data. In order to present the model's performance Scikit-learn _classification_report_ and _ConfusionMatrixDisplay_ methods will be used."
   ],
   "metadata": {
    "collapsed": false
   },
   "id": "4bba96af9c2c9fa4"
  },
  {
   "cell_type": "code",
   "outputs": [
    {
     "name": "stdout",
     "output_type": "stream",
     "text": [
      "              precision    recall  f1-score   support\n",
      "\n",
      "           0       0.64      0.56      0.60        16\n",
      "           1       0.84      0.88      0.86        41\n",
      "\n",
      "    accuracy                           0.79        57\n",
      "   macro avg       0.74      0.72      0.73        57\n",
      "weighted avg       0.78      0.79      0.78        57\n"
     ]
    },
    {
     "data": {
      "text/plain": "<Figure size 640x480 with 2 Axes>",
      "image/png": "[encoded data removed]"
     },
     "metadata": {},
     "output_type": "display_data"
    }
   ],
   "source": [
    "# Make predictions\n",
    "y_pred = model.predict(X_test)\n",
    "\n",
    "# Evaluate the classifier\n",
    "print(classification_report(y_test, y_pred))\n",
    "\n",
    "# Display confusion matrix\n",
    "cm = confusion_matrix(y_test, y_pred, labels=[0, 1])\n",
    "disp = ConfusionMatrixDisplay(confusion_matrix=cm, display_labels=['benign', 'malignant'])\n",
    "disp.plot(cmap='Greens')\n",
    "plt.show()"
   ],
   "metadata": {
    "collapsed": false,
    "ExecuteTime": {
     "end_time": "2024-01-31T21:19:25.202231900Z",
     "start_time": "2024-01-31T21:19:24.932932200Z"
    }
   },
   "id": "fad9248642ccc4d",
   "execution_count": 8
  },
  {
   "cell_type": "markdown",
   "source": [
    "Having achieved approximately 80% accuracy with our current model setup, our next objective is to enhance the model's performance while also aiming for a more efficient training time. To accomplish this, we will explore the customization capabilities of FastQML by implementing a custom variational function.\n",
    "\n",
    "Furthermore, we will utilize the JAX backend for training. The JAX backend in FastQML is known for its efficiency in computation, particularly beneficial for quantum machine learning tasks. By leveraging Just-in-Time (JIT) compilation and other optimization features of JAX, we anticipate a reduction in training time without compromising the model's performance."
   ],
   "metadata": {
    "collapsed": false
   },
   "id": "7d3dd40ac60f3548"
  },
  {
   "cell_type": "code",
   "outputs": [],
   "source": [
    "# Set backend to JAX for CPU computations acceleration\n",
    "fast_qml.update(device='cpu.jax')"
   ],
   "metadata": {
    "collapsed": false,
    "ExecuteTime": {
     "end_time": "2024-01-31T21:19:29.252230Z",
     "start_time": "2024-01-31T21:19:29.245822400Z"
    }
   },
   "id": "55a721e25bfbf9da",
   "execution_count": 9
  },
  {
   "cell_type": "code",
   "outputs": [],
   "source": [
    "n_qubits = 5\n",
    "\n",
    "# Define custom variational function\n",
    "def naive_var_func(params):\n",
    "    # First block of rotations\n",
    "    first_block_rotations = [qml.RX, qml.RY, qml.RX, qml.RY, qml.RX]\n",
    "    for i, rotation in enumerate(first_block_rotations):\n",
    "        rotation(params[i], wires=[i])\n",
    "        \n",
    "    # Second block of rotations\n",
    "    rot_number = 0\n",
    "    for i in range(0, n_qubits, 2):\n",
    "        qml.RY(params[n_qubits + rot_number], wires=[i])\n",
    "        rot_number += 1\n",
    "    \n",
    "# We wil use the same features map\n",
    "feature_map = AmplitudeEmbedding(\n",
    "    n_qubits=n_qubits,\n",
    "    pad_with=0.0\n",
    ")\n",
    "\n",
    "# We can define ansatz with our user-defined variational form function\n",
    "ansatz = Ansatz(\n",
    "    n_qubits=n_qubits,\n",
    "    variational_func=naive_var_func,\n",
    "    parameters_num=8,\n",
    "    entanglement='circular',\n",
    "    reps=2\n",
    ")"
   ],
   "metadata": {
    "collapsed": false,
    "ExecuteTime": {
     "end_time": "2024-01-31T21:19:30.253058300Z",
     "start_time": "2024-01-31T21:19:30.248824800Z"
    }
   },
   "id": "64604c0d2cde8450",
   "execution_count": 10
  },
  {
   "cell_type": "code",
   "outputs": [],
   "source": [
    "# Create VQClassifier model with defined ansatz and feature map\n",
    "model = VQClassifier(\n",
    "    n_qubits=n_qubits,\n",
    "    feature_map=feature_map,\n",
    "    ansatz=ansatz,\n",
    "    classes_num=2\n",
    ")"
   ],
   "metadata": {
    "collapsed": false,
    "ExecuteTime": {
     "end_time": "2024-01-31T21:19:31.766727400Z",
     "start_time": "2024-01-31T21:19:31.727444900Z"
    }
   },
   "id": "9fb50f50b0c6276b",
   "execution_count": 11
  },
  {
   "cell_type": "code",
   "outputs": [
    {
     "name": "stdout",
     "output_type": "stream",
     "text": [
      "0: ─╭|Ψ⟩──RX(0.09)──RY(0.05)─╭●──────────╭X──||──RX(0.02)──RY(0.03)─╭●──────────╭X──||──RX(0.07)\n",
      "1: ─├|Ψ⟩──RY(0.00)───────────╰X─╭●───────│───||──RY(0.06)───────────╰X─╭●───────│───||──RY(0.02)\n",
      "2: ─├|Ψ⟩──RX(0.01)──RY(0.06)────╰X─╭●────│───||──RX(0.06)──RY(0.00)────╰X─╭●────│───||──RX(0.03)\n",
      "3: ─├|Ψ⟩──RY(0.02)─────────────────╰X─╭●─│───||──RY(0.07)─────────────────╰X─╭●─│───||──RY(0.05)\n",
      "4: ─╰|Ψ⟩──RX(0.10)──RY(0.10)──────────╰X─╰●──||──RX(0.08)──RY(0.05)──────────╰X─╰●──||──RX(0.05)\n",
      "\n",
      "───RY(0.01)─┤  \n",
      "────────────┤  \n",
      "───RY(0.08)─┤  \n",
      "────────────┤  \n",
      "───RY(0.08)─┤  \n"
     ]
    }
   ],
   "source": [
    "model.draw_circuit()"
   ],
   "metadata": {
    "collapsed": false,
    "ExecuteTime": {
     "end_time": "2024-01-31T21:19:33.057566900Z",
     "start_time": "2024-01-31T21:19:33.054667700Z"
    }
   },
   "id": "c9928962e4727c0e",
   "execution_count": 12
  },
  {
   "cell_type": "code",
   "outputs": [
    {
     "name": "stdout",
     "output_type": "stream",
     "text": [
      "Epoch 1/150 - train_loss: 0.43728, val_loss: 0.54271\n",
      "Epoch 2/150 - train_loss: 0.62788, val_loss: 0.61781\n",
      "Epoch 3/150 - train_loss: 0.53856, val_loss: 0.50884\n",
      "Epoch 4/150 - train_loss: 0.48991, val_loss: 0.49824\n",
      "Epoch 5/150 - train_loss: 0.51431, val_loss: 0.52020\n",
      "Epoch 6/150 - train_loss: 0.50182, val_loss: 0.54541\n",
      "Epoch 7/150 - train_loss: 0.50821, val_loss: 0.51273\n",
      "Epoch 8/150 - train_loss: 0.48849, val_loss: 0.45940\n",
      "Epoch 9/150 - train_loss: 0.46390, val_loss: 0.44079\n",
      "Epoch 10/150 - train_loss: 0.46369, val_loss: 0.45262\n",
      "Epoch 11/150 - train_loss: 0.46572, val_loss: 0.47794\n",
      "Epoch 12/150 - train_loss: 0.46655, val_loss: 0.50271\n",
      "Epoch 13/150 - train_loss: 0.47062, val_loss: 0.50419\n",
      "Epoch 14/150 - train_loss: 0.46578, val_loss: 0.48143\n",
      "Epoch 15/150 - train_loss: 0.45267, val_loss: 0.45582\n",
      "Epoch 16/150 - train_loss: 0.44597, val_loss: 0.44300\n",
      "Epoch 17/150 - train_loss: 0.44935, val_loss: 0.44321\n",
      "Epoch 18/150 - train_loss: 0.45260, val_loss: 0.45281\n",
      "Epoch 19/150 - train_loss: 0.45248, val_loss: 0.46521\n",
      "Epoch 20/150 - train_loss: 0.45232, val_loss: 0.47079\n",
      "Epoch 21/150 - train_loss: 0.45091, val_loss: 0.46601\n",
      "Epoch 22/150 - train_loss: 0.44715, val_loss: 0.45501\n",
      "Epoch 23/150 - train_loss: 0.44363, val_loss: 0.44464\n",
      "Epoch 24/150 - train_loss: 0.44326, val_loss: 0.43908\n",
      "Epoch 25/150 - train_loss: 0.44497, val_loss: 0.43868\n",
      "Epoch 26/150 - train_loss: 0.44535, val_loss: 0.44276\n",
      "Epoch 27/150 - train_loss: 0.44467, val_loss: 0.44864\n",
      "Epoch 28/150 - train_loss: 0.44452, val_loss: 0.45132\n",
      "Epoch 29/150 - train_loss: 0.44385, val_loss: 0.44821\n",
      "Epoch 30/150 - train_loss: 0.44180, val_loss: 0.44206\n",
      "Epoch 31/150 - train_loss: 0.44003, val_loss: 0.43799\n",
      "Epoch 32/150 - train_loss: 0.44006, val_loss: 0.43883\n",
      "Epoch 33/150 - train_loss: 0.44067, val_loss: 0.44422\n",
      "Epoch 34/150 - train_loss: 0.44070, val_loss: 0.45144\n",
      "Epoch 35/150 - train_loss: 0.44082, val_loss: 0.45575\n",
      "Epoch 36/150 - train_loss: 0.44084, val_loss: 0.45366\n",
      "Epoch 37/150 - train_loss: 0.43979, val_loss: 0.44653\n",
      "Epoch 38/150 - train_loss: 0.43842, val_loss: 0.43936\n",
      "Epoch 39/150 - train_loss: 0.43831, val_loss: 0.43623\n",
      "Epoch 40/150 - train_loss: 0.43895, val_loss: 0.43792\n",
      "Epoch 41/150 - train_loss: 0.43888, val_loss: 0.44257\n",
      "Epoch 42/150 - train_loss: 0.43856, val_loss: 0.44635\n",
      "Epoch 43/150 - train_loss: 0.43851, val_loss: 0.44629\n",
      "Epoch 44/150 - train_loss: 0.43828, val_loss: 0.44324\n",
      "Epoch 45/150 - train_loss: 0.43805, val_loss: 0.44040\n",
      "Epoch 46/150 - train_loss: 0.43812, val_loss: 0.43995\n",
      "Epoch 47/150 - train_loss: 0.43810, val_loss: 0.44181\n",
      "Epoch 48/150 - train_loss: 0.43793, val_loss: 0.44399\n",
      "Epoch 49/150 - train_loss: 0.43796, val_loss: 0.44425\n",
      "Epoch 50/150 - train_loss: 0.43802, val_loss: 0.44235\n",
      "Epoch 51/150 - train_loss: 0.43791, val_loss: 0.44034\n",
      "Epoch 52/150 - train_loss: 0.43778, val_loss: 0.44023\n",
      "Epoch 53/150 - train_loss: 0.43768, val_loss: 0.44220\n",
      "Epoch 54/150 - train_loss: 0.43761, val_loss: 0.44453\n",
      "Epoch 55/150 - train_loss: 0.43763, val_loss: 0.44507\n",
      "Epoch 56/150 - train_loss: 0.43760, val_loss: 0.44333\n",
      "Epoch 57/150 - train_loss: 0.43752, val_loss: 0.44091\n",
      "Epoch 58/150 - train_loss: 0.43756, val_loss: 0.43980\n",
      "Epoch 59/150 - train_loss: 0.43761, val_loss: 0.44076\n",
      "Epoch 60/150 - train_loss: 0.43751, val_loss: 0.44290\n",
      "Epoch 61/150 - train_loss: 0.43741, val_loss: 0.44441\n",
      "Epoch 62/150 - train_loss: 0.43739, val_loss: 0.44426\n",
      "Epoch 63/150 - train_loss: 0.43740, val_loss: 0.44310\n",
      "Epoch 64/150 - train_loss: 0.43744, val_loss: 0.44228\n",
      "Epoch 65/150 - train_loss: 0.43744, val_loss: 0.44240\n",
      "Epoch 66/150 - train_loss: 0.43736, val_loss: 0.44289\n",
      "Epoch 67/150 - train_loss: 0.43734, val_loss: 0.44278\n",
      "Epoch 68/150 - train_loss: 0.43736, val_loss: 0.44186\n",
      "Epoch 69/150 - train_loss: 0.43736, val_loss: 0.44098\n",
      "Epoch 70/150 - train_loss: 0.43735, val_loss: 0.44103\n",
      "Epoch 71/150 - train_loss: 0.43735, val_loss: 0.44202\n",
      "Epoch 72/150 - train_loss: 0.43733, val_loss: 0.44306\n",
      "Epoch 73/150 - train_loss: 0.43731, val_loss: 0.44318\n",
      "Epoch 74/150 - train_loss: 0.43730, val_loss: 0.44234\n",
      "Epoch 75/150 - train_loss: 0.43730, val_loss: 0.44140\n",
      "Epoch 76/150 - train_loss: 0.43732, val_loss: 0.44120\n",
      "Epoch 77/150 - train_loss: 0.43732, val_loss: 0.44176\n",
      "Epoch 78/150 - train_loss: 0.43730, val_loss: 0.44235\n",
      "Epoch 79/150 - train_loss: 0.43729, val_loss: 0.44231\n",
      "Epoch 80/150 - train_loss: 0.43729, val_loss: 0.44177\n",
      "Epoch 81/150 - train_loss: 0.43729, val_loss: 0.44136\n",
      "Epoch 82/150 - train_loss: 0.43729, val_loss: 0.44148\n",
      "Epoch 83/150 - train_loss: 0.43728, val_loss: 0.44192\n",
      "Epoch 84/150 - train_loss: 0.43728, val_loss: 0.44212\n",
      "Epoch 85/150 - train_loss: 0.43728, val_loss: 0.44191\n",
      "Epoch 86/150 - train_loss: 0.43728, val_loss: 0.44162\n",
      "Epoch 87/150 - train_loss: 0.43727, val_loss: 0.44170\n",
      "Epoch 88/150 - train_loss: 0.43728, val_loss: 0.44212\n",
      "Epoch 89/150 - train_loss: 0.43728, val_loss: 0.44243\n",
      "Epoch 90/150 - train_loss: 0.43727, val_loss: 0.44229\n",
      "Epoch 91/150 - train_loss: 0.43727, val_loss: 0.44186\n",
      "Epoch 92/150 - train_loss: 0.43727, val_loss: 0.44163\n",
      "Epoch 93/150 - train_loss: 0.43727, val_loss: 0.44184\n",
      "Epoch 94/150 - train_loss: 0.43727, val_loss: 0.44223\n",
      "Epoch 95/150 - train_loss: 0.43727, val_loss: 0.44237\n",
      "Epoch 96/150 - train_loss: 0.43727, val_loss: 0.44217\n",
      "Epoch 97/150 - train_loss: 0.43727, val_loss: 0.44191\n",
      "Epoch 98/150 - train_loss: 0.43727, val_loss: 0.44188\n",
      "Epoch 99/150 - train_loss: 0.43727, val_loss: 0.44206\n",
      "Epoch 100/150 - train_loss: 0.43727, val_loss: 0.44217\n",
      "Epoch 101/150 - train_loss: 0.43727, val_loss: 0.44208\n",
      "Epoch 102/150 - train_loss: 0.43727, val_loss: 0.44195\n",
      "Epoch 103/150 - train_loss: 0.43727, val_loss: 0.44198\n",
      "Epoch 104/150 - train_loss: 0.43727, val_loss: 0.44213\n",
      "Epoch 105/150 - train_loss: 0.43726, val_loss: 0.44218\n",
      "Epoch 106/150 - train_loss: 0.43726, val_loss: 0.44201\n",
      "Epoch 107/150 - train_loss: 0.43726, val_loss: 0.44179\n",
      "Epoch 108/150 - train_loss: 0.43726, val_loss: 0.44175\n",
      "Epoch 109/150 - train_loss: 0.43726, val_loss: 0.44193\n",
      "Epoch 110/150 - train_loss: 0.43726, val_loss: 0.44213\n",
      "Epoch 111/150 - train_loss: 0.43726, val_loss: 0.44214\n",
      "Epoch 112/150 - train_loss: 0.43726, val_loss: 0.44203\n",
      "Epoch 113/150 - train_loss: 0.43726, val_loss: 0.44195\n",
      "Epoch 114/150 - train_loss: 0.43726, val_loss: 0.44197\n",
      "Epoch 115/150 - train_loss: 0.43726, val_loss: 0.44201\n",
      "Epoch 116/150 - train_loss: 0.43726, val_loss: 0.44196\n",
      "Epoch 117/150 - train_loss: 0.43726, val_loss: 0.44189\n",
      "Epoch 118/150 - train_loss: 0.43726, val_loss: 0.44191\n",
      "Epoch 119/150 - train_loss: 0.43726, val_loss: 0.44202\n",
      "Epoch 120/150 - train_loss: 0.43726, val_loss: 0.44210\n",
      "Epoch 121/150 - train_loss: 0.43726, val_loss: 0.44206\n",
      "Epoch 122/150 - train_loss: 0.43726, val_loss: 0.44196\n",
      "Epoch 123/150 - train_loss: 0.43726, val_loss: 0.44193\n",
      "Epoch 124/150 - train_loss: 0.43726, val_loss: 0.44199\n",
      "Epoch 125/150 - train_loss: 0.43726, val_loss: 0.44205\n",
      "Epoch 126/150 - train_loss: 0.43726, val_loss: 0.44203\n",
      "Epoch 127/150 - train_loss: 0.43726, val_loss: 0.44197\n",
      "Epoch 128/150 - train_loss: 0.43726, val_loss: 0.44195\n",
      "Epoch 129/150 - train_loss: 0.43726, val_loss: 0.44199\n",
      "Epoch 130/150 - train_loss: 0.43726, val_loss: 0.44201\n",
      "Epoch 131/150 - train_loss: 0.43726, val_loss: 0.44198\n",
      "Epoch 132/150 - train_loss: 0.43726, val_loss: 0.44195\n",
      "Epoch 133/150 - train_loss: 0.43726, val_loss: 0.44197\n",
      "Epoch 134/150 - train_loss: 0.43726, val_loss: 0.44202\n",
      "Epoch 135/150 - train_loss: 0.43726, val_loss: 0.44203\n",
      "Epoch 136/150 - train_loss: 0.43726, val_loss: 0.44198\n",
      "Epoch 137/150 - train_loss: 0.43726, val_loss: 0.44195\n",
      "Epoch 138/150 - train_loss: 0.43726, val_loss: 0.44197\n",
      "Epoch 139/150 - train_loss: 0.43726, val_loss: 0.44201\n",
      "Epoch 140/150 - train_loss: 0.43726, val_loss: 0.44202\n",
      "Epoch 141/150 - train_loss: 0.43726, val_loss: 0.44199\n",
      "Epoch 142/150 - train_loss: 0.43726, val_loss: 0.44198\n",
      "Epoch 143/150 - train_loss: 0.43726, val_loss: 0.44200\n",
      "Epoch 144/150 - train_loss: 0.43726, val_loss: 0.44201\n",
      "Epoch 145/150 - train_loss: 0.43726, val_loss: 0.44201\n",
      "Epoch 146/150 - train_loss: 0.43726, val_loss: 0.44199\n",
      "Epoch 147/150 - train_loss: 0.43726, val_loss: 0.44199\n",
      "Epoch 148/150 - train_loss: 0.43726, val_loss: 0.44201\n",
      "Epoch 149/150 - train_loss: 0.43726, val_loss: 0.44201\n",
      "Epoch 150/150 - train_loss: 0.43726, val_loss: 0.44199\n",
      "Executing fit_model took 0.78263 seconds.\n"
     ]
    }
   ],
   "source": [
    "@execution_time\n",
    "def fit_model():\n",
    "    model.fit(\n",
    "        x_train=X_train,\n",
    "        y_train=y_train,\n",
    "        x_val=X_val,\n",
    "        y_val=y_val,\n",
    "        learning_rate=0.3,\n",
    "        num_epochs=150\n",
    "    )\n",
    "    \n",
    "fit_model()"
   ],
   "metadata": {
    "collapsed": false,
    "ExecuteTime": {
     "end_time": "2024-01-31T21:19:43.342503700Z",
     "start_time": "2024-01-31T21:19:42.554618800Z"
    }
   },
   "id": "75d1afe1b9c5e95a",
   "execution_count": 14
  },
  {
   "cell_type": "markdown",
   "source": [
    "Remarkably, the training time with the customized variational function and JAX backend in FastQML has been reduced to approximately 0.78 seconds. This is a significant improvement, showcasing more than 5.5 times faster execution compared to the previous setup."
   ],
   "metadata": {
    "collapsed": false
   },
   "id": "35179d706b4248"
  },
  {
   "cell_type": "code",
   "outputs": [
    {
     "name": "stdout",
     "output_type": "stream",
     "text": [
      "              precision    recall  f1-score   support\n",
      "\n",
      "           0       0.87      0.81      0.84        16\n",
      "           1       0.93      0.95      0.94        41\n",
      "\n",
      "    accuracy                           0.91        57\n",
      "   macro avg       0.90      0.88      0.89        57\n",
      "weighted avg       0.91      0.91      0.91        57\n"
     ]
    },
    {
     "data": {
      "text/plain": "<Figure size 640x480 with 2 Axes>",
      "image/png": "[encoded data removed]"
     },
     "metadata": {},
     "output_type": "display_data"
    }
   ],
   "source": [
    "# Make predictions\n",
    "y_pred = model.predict(X_test)\n",
    "\n",
    "# Evaluate the classifier\n",
    "print(classification_report(y_test, y_pred))\n",
    "\n",
    "# Display confusion matrix\n",
    "cm = confusion_matrix(y_test, y_pred, labels=[0, 1])\n",
    "disp = ConfusionMatrixDisplay(confusion_matrix=cm, display_labels=['benign', 'malignant'])\n",
    "disp.plot(cmap='Greens')\n",
    "plt.show()"
   ],
   "metadata": {
    "collapsed": false,
    "ExecuteTime": {
     "end_time": "2024-01-31T21:20:29.316160700Z",
     "start_time": "2024-01-31T21:20:27.610519400Z"
    }
   },
   "id": "d1e5e9a410647864",
   "execution_count": 15
  },
  {
   "cell_type": "markdown",
   "source": [
    "With the implementation of custom variational functions and the JAX backend in FastQML, we have successfully improved the model's accuracy to approximately 91%\n",
    "\n",
    "Observing the variational loss, we noted that it plateaued after a certain number of epochs. This indicates an opportunity to optimize the training process further. To address this, we will implement the early stopping mechanism available in FastQML. Early stopping is a powerful technique that halts the training process once the model ceases to show improvement over a defined number of epochs. This approach not only saves computational resources but also prevents potential overfitting."
   ],
   "metadata": {
    "collapsed": false
   },
   "id": "cfcdcf14f92d393"
  },
  {
   "cell_type": "code",
   "outputs": [
    {
     "name": "stdout",
     "output_type": "stream",
     "text": [
      "Epoch 1/500 - train_loss: 0.43730, val_loss: 0.58552\n",
      "Epoch 2/500 - train_loss: 0.80783, val_loss: 0.48262\n",
      "Epoch 3/500 - train_loss: 0.47486, val_loss: 0.48461\n",
      "Epoch 4/500 - train_loss: 0.47149, val_loss: 0.53393\n",
      "Epoch 5/500 - train_loss: 0.53347, val_loss: 0.57759\n",
      "Epoch 6/500 - train_loss: 0.53496, val_loss: 0.62637\n",
      "Epoch 7/500 - train_loss: 0.54951, val_loss: 0.62273\n",
      "Epoch 8/500 - train_loss: 0.54643, val_loss: 0.58412\n",
      "Epoch 9/500 - train_loss: 0.53182, val_loss: 0.55488\n",
      "Epoch 10/500 - train_loss: 0.52625, val_loss: 0.53789\n",
      "Epoch 11/500 - train_loss: 0.51389, val_loss: 0.53007\n",
      "Epoch 12/500 - train_loss: 0.49674, val_loss: 0.52230\n",
      "Epoch 13/500 - train_loss: 0.48503, val_loss: 0.49628\n",
      "Epoch 14/500 - train_loss: 0.47130, val_loss: 0.46047\n",
      "Epoch 15/500 - train_loss: 0.45955, val_loss: 0.43705\n",
      "Epoch 16/500 - train_loss: 0.46044, val_loss: 0.42969\n",
      "Epoch 17/500 - train_loss: 0.46672, val_loss: 0.42922\n",
      "Epoch 18/500 - train_loss: 0.46502, val_loss: 0.43653\n",
      "Epoch 19/500 - train_loss: 0.45899, val_loss: 0.45285\n",
      "Epoch 20/500 - train_loss: 0.45647, val_loss: 0.46856\n",
      "Epoch 21/500 - train_loss: 0.45696, val_loss: 0.47188\n",
      "Epoch 22/500 - train_loss: 0.45493, val_loss: 0.46361\n",
      "Epoch 23/500 - train_loss: 0.45113, val_loss: 0.45417\n",
      "Epoch 24/500 - train_loss: 0.45020, val_loss: 0.45035\n",
      "Epoch 25/500 - train_loss: 0.45095, val_loss: 0.45166\n",
      "Epoch 26/500 - train_loss: 0.44858, val_loss: 0.45672\n",
      "Epoch 27/500 - train_loss: 0.44505, val_loss: 0.46209\n",
      "Epoch 28/500 - train_loss: 0.44427, val_loss: 0.46138\n",
      "Epoch 29/500 - train_loss: 0.44483, val_loss: 0.45342\n",
      "Epoch 30/500 - train_loss: 0.44516, val_loss: 0.44341\n",
      "Epoch 31/500 - train_loss: 0.44586, val_loss: 0.43617\n",
      "Epoch 32/500 - train_loss: 0.44570, val_loss: 0.43404\n",
      "Epoch 33/500 - train_loss: 0.44299, val_loss: 0.43859\n",
      "Epoch 34/500 - train_loss: 0.44028, val_loss: 0.44765\n",
      "Epoch 35/500 - train_loss: 0.44023, val_loss: 0.45485\n",
      "Epoch 36/500 - train_loss: 0.44138, val_loss: 0.45569\n",
      "Epoch 37/500 - train_loss: 0.44166, val_loss: 0.45180\n",
      "Epoch 38/500 - train_loss: 0.44155, val_loss: 0.44785\n",
      "Epoch 39/500 - train_loss: 0.44177, val_loss: 0.44651\n",
      "Epoch 40/500 - train_loss: 0.44120, val_loss: 0.44792\n",
      "Epoch 41/500 - train_loss: 0.43979, val_loss: 0.45018\n",
      "Epoch 42/500 - train_loss: 0.43906, val_loss: 0.44986\n",
      "Epoch 43/500 - train_loss: 0.43896, val_loss: 0.44570\n",
      "Epoch 44/500 - train_loss: 0.43881, val_loss: 0.44034\n",
      "Epoch 45/500 - train_loss: 0.43881, val_loss: 0.43743\n",
      "Epoch 46/500 - train_loss: 0.43891, val_loss: 0.43865\n",
      "Stopping early at epoch 47.\n",
      "Executing fit_model took 0.23968 seconds.\n"
     ]
    }
   ],
   "source": [
    "early_stopping = EarlyStopping()\n",
    "\n",
    "@execution_time\n",
    "def fit_model():\n",
    "    model.fit(\n",
    "        x_train=X_train,\n",
    "        y_train=y_train,\n",
    "        x_val=X_val,\n",
    "        y_val=y_val,\n",
    "        learning_rate=0.3,\n",
    "        num_epochs=500,\n",
    "        early_stopping=early_stopping\n",
    "    )\n",
    "    \n",
    "fit_model()"
   ],
   "metadata": {
    "collapsed": false,
    "ExecuteTime": {
     "end_time": "2024-01-31T21:20:44.820734200Z",
     "start_time": "2024-01-31T21:20:44.574613600Z"
    }
   },
   "id": "fa9327135c64d011",
   "execution_count": 18
  },
  {
   "cell_type": "code",
   "outputs": [
    {
     "name": "stdout",
     "output_type": "stream",
     "text": [
      "              precision    recall  f1-score   support\n",
      "\n",
      "           0       0.87      0.81      0.84        16\n",
      "           1       0.93      0.95      0.94        41\n",
      "\n",
      "    accuracy                           0.91        57\n",
      "   macro avg       0.90      0.88      0.89        57\n",
      "weighted avg       0.91      0.91      0.91        57\n"
     ]
    },
    {
     "data": {
      "text/plain": "<Figure size 640x480 with 2 Axes>",
      "image/png": "[encoded data removed]"
     },
     "metadata": {},
     "output_type": "display_data"
    }
   ],
   "source": [
    "# Make predictions\n",
    "y_pred = model.predict(X_test)\n",
    "\n",
    "# Evaluate the classifier\n",
    "print(classification_report(y_test, y_pred))\n",
    "\n",
    "# Display confusion matrix\n",
    "cm = confusion_matrix(y_test, y_pred, labels=[0, 1])\n",
    "disp = ConfusionMatrixDisplay(confusion_matrix=cm, display_labels=['benign', 'malignant'])\n",
    "disp.plot(cmap='Greens')\n",
    "plt.show()"
   ],
   "metadata": {
    "collapsed": false,
    "ExecuteTime": {
     "end_time": "2024-01-31T21:20:48.603640800Z",
     "start_time": "2024-01-31T21:20:47.264319Z"
    }
   },
   "id": "b09b200bc2b14d9e",
   "execution_count": 19
  },
  {
   "cell_type": "markdown",
   "source": [
    "Cool, we have successfully achieved the same level of model accuracy, but in fewer epochs!"
   ],
   "metadata": {
    "collapsed": false
   },
   "id": "8b402c18cf777350"
  }
 ],
 "metadata": {
  "kernelspec": {
   "display_name": "Python 3",
   "language": "python",
   "name": "python3"
  },
  "language_info": {
   "codemirror_mode": {
    "name": "ipython",
    "version": 2
   },
   "file_extension": ".py",
   "mimetype": "text/x-python",
   "name": "python",
   "nbconvert_exporter": "python",
   "pygments_lexer": "ipython2",
   "version": "2.7.6"
  }
 },
 "nbformat": 4,
 "nbformat_minor": 5
}
