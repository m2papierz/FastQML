{
 "cells": [
  {
   "cell_type": "markdown",
   "source": [
    "### Binary Classification Using VQClassifier with JAX Backend in FastQML\n",
    "\n",
    "This demonstration showcases the FastQML library's capabilities in implementing and training Quantum Machine Learning (QML) models efficiently. FastQML, integrated with PennyLane, allows customizable components for each part of the model implementation. Here, we focus on employing the Variational Quantum Classifier (VQClassifier) for binary classification. The VQClassifier utilizes quantum circuits for data processing and is enhanced by JAX for accelerated CPU computations. The demo includes steps for setting up the quantum circuit, dataset preparation, and classifier execution, emphasizing FastQML's performance enhancements."
   ],
   "metadata": {
    "collapsed": false
   },
   "id": "71554a334fd27fd7"
  },
  {
   "cell_type": "code",
   "outputs": [],
   "source": [
    "import time\n",
    "import matplotlib.pyplot as plt\n",
    "from sklearn.datasets import load_breast_cancer\n",
    "from sklearn.model_selection import train_test_split\n",
    "from sklearn.metrics import classification_report\n",
    "from sklearn.preprocessing import MinMaxScaler\n",
    "from sklearn.metrics import confusion_matrix, ConfusionMatrixDisplay\n",
    "\n",
    "import fast_qml\n",
    "import pennylane as qml\n",
    "from fast_qml.quantum_circuits.feature_maps import AmplitudeEmbedding\n",
    "from fast_qml.quantum_circuits.variational_forms import TwoLocal, Ansatz\n",
    "from fast_qml.machine_learning.estimators.vqa import VQClassifier\n",
    "from fast_qml.machine_learning.callbacks import EarlyStopping"
   ],
   "metadata": {
    "collapsed": false,
    "ExecuteTime": {
     "end_time": "2024-01-31T21:05:47.132509700Z",
     "start_time": "2024-01-31T21:05:45.806473800Z"
    }
   },
   "id": "b0e243e0c0e69dc6",
   "execution_count": 1
  },
  {
   "cell_type": "markdown",
   "source": [
    "To compare the execution time of the training process across different backends (default PennyLane interface and JAX interface with Just-in-time compilation), we utilize a custom decorator. This decorator measures and displays the execution time of the function it wraps, providing insights into the performance improvements offered by JAX."
   ],
   "metadata": {
    "collapsed": false
   },
   "id": "3f0eeb6efd06f329"
  },
  {
   "cell_type": "code",
   "outputs": [],
   "source": [
    "def execution_time(func):\n",
    "    \"\"\"\n",
    "    A decorator that prints the execution time of the function it decorates.\n",
    "    \"\"\"\n",
    "    def wrapper(*args, **kwargs):\n",
    "        start_time = time.time()\n",
    "        result = func(*args, **kwargs) \n",
    "        end_time = time.time()\n",
    "        print(f\"Executing {func.__name__} took {end_time - start_time:.5f} seconds.\")\n",
    "        return result\n",
    "    return wrapper"
   ],
   "metadata": {
    "collapsed": false,
    "ExecuteTime": {
     "end_time": "2024-01-31T21:05:47.975219800Z",
     "start_time": "2024-01-31T21:05:47.971170800Z"
    }
   },
   "id": "5ff678bb087b7728",
   "execution_count": 2
  },
  {
   "cell_type": "markdown",
   "source": [
    "The breast cancer dataset from sklearn serves as our binary classification task. This dataset, derived from digitized images of fine needle aspirates of breast masses, contains 30 features representing cell nuclei characteristics. The classification task is to categorize these instances as benign or malignant.\n",
    "\n",
    "We begin by normalizing the data and dividing it into training, validation, and testing sets. This step is crucial for a comprehensive evaluation of the VQClassifier's performance."
   ],
   "metadata": {
    "collapsed": false
   },
   "id": "607b6bc055aa37c0"
  },
  {
   "cell_type": "code",
   "outputs": [
    {
     "name": "stdout",
     "output_type": "stream",
     "text": [
      "(455, 30) (57, 30) (57, 30)\n"
     ]
    }
   ],
   "source": [
    "# Load the breast cancer dataset\n",
    "data = load_breast_cancer()\n",
    "X, y = data.data, data.target\n",
    "\n",
    "# Normalize the data\n",
    "scaler = MinMaxScaler()\n",
    "X_normalized = scaler.fit_transform(X)\n",
    "\n",
    "# Split the dataset into training and testing sets\n",
    "X_train, X_test, y_train, y_test = train_test_split(\n",
    "    X_normalized, y, test_size=0.2, random_state=42)\n",
    "\n",
    "X_val, X_test, y_val, y_test = train_test_split(\n",
    "    X_test, y_test, test_size=0.5, random_state=42)\n",
    "\n",
    "print(X_train.shape, X_test.shape, X_val.shape)"
   ],
   "metadata": {
    "collapsed": false,
    "ExecuteTime": {
     "end_time": "2024-01-31T21:05:49.971990200Z",
     "start_time": "2024-01-31T21:05:49.957404200Z"
    }
   },
   "id": "100ca38e1b11823f",
   "execution_count": 3
  },
  {
   "cell_type": "markdown",
   "source": [
    "In this step, we will construct the fundamental components of our quantum classifier using FastQML: the feature map and the ansatz. The feature map's role is to encode classical data into a quantum state. For this purpose, we will utilize the AmplitudeEmbedding method from FastQML, which efficiently encodes data into quantum states. Given that a single sample from our dataset contains 30 features, and AmplitudeEmbedding can encode 2^qubits_number of features, we will use 5 qubits. This configuration allows us to encode up to 32 features, with the last two being padded with 0.0 to fit our data structure.\n",
    "\n",
    "Next, we will set up the ansatz for our quantum classifier. The ansatz, composed of a sequence of quantum gates, is responsible for processing the quantum data. In this demonstration, we will employ the TwoLocal form available in FastQML. The TwoLocal form is a versatile and commonly used ansatz, and we will use it with its default parameters. This choice provides a balance between simplicity and the ability to demonstrate the essential features of quantum data processing in FastQML.\n",
    "\n",
    "By following these steps, we effectively establish the quantum environment necessary for our classifier, showcasing the ease and flexibility of feature mapping and ansatz configuration in FastQML."
   ],
   "metadata": {
    "collapsed": false
   },
   "id": "9cf572ffc61940f2"
  },
  {
   "cell_type": "code",
   "outputs": [],
   "source": [
    "# With 5 qubits we have 2^5=32 features at maximum to be encoded\n",
    "n_qubits = 5\n",
    "\n",
    "# Create AmplitudeEmbedding feature map with 0.0 padding\n",
    "feature_map = AmplitudeEmbedding(\n",
    "    n_qubits=n_qubits,\n",
    "    pad_with=0.0\n",
    ")\n",
    "\n",
    "# TwoLocal ansatz with default parameters\n",
    "ansatz = TwoLocal(\n",
    "    n_qubits=n_qubits,\n",
    "    controlled_gate='CNOT',\n",
    "    entanglement='linear',\n",
    "    skip_last_rotations=False,\n",
    "    reps=2\n",
    ")"
   ],
   "metadata": {
    "collapsed": false,
    "ExecuteTime": {
     "end_time": "2024-01-31T21:05:52.385357900Z",
     "start_time": "2024-01-31T21:05:52.382848300Z"
    }
   },
   "id": "3aa9d78a28342207",
   "execution_count": 4
  },
  {
   "cell_type": "code",
   "outputs": [],
   "source": [
    "# Create VQClassifier model with defined ansatz and feature map\n",
    "model = VQClassifier(\n",
    "    n_qubits=n_qubits,\n",
    "    feature_map=feature_map,\n",
    "    ansatz=ansatz,\n",
    "    classes_num=2\n",
    ")"
   ],
   "metadata": {
    "collapsed": false,
    "ExecuteTime": {
     "end_time": "2024-01-31T21:05:54.614003100Z",
     "start_time": "2024-01-31T21:05:54.604147900Z"
    }
   },
   "id": "8f73d4a4c010ee72",
   "execution_count": 5
  },
  {
   "cell_type": "markdown",
   "source": [
    "To better understand the structure of our quantum circuit, we can visualize it with build-in _draw_circuit()_ method. It can be usefully in debugging and optimizing the quantum circuit design."
   ],
   "metadata": {
    "collapsed": false
   },
   "id": "907e7ba66dd72acd"
  },
  {
   "cell_type": "code",
   "outputs": [
    {
     "name": "stdout",
     "output_type": "stream",
     "text": [
      "0: ─╭|Ψ⟩──RY(0.05)─╭●───────────||──RY(0.04)─╭●───────────||──RY(0.02)─┤  \n",
      "1: ─├|Ψ⟩──RY(0.06)─╰X─╭●────────||──RY(0.09)─╰X─╭●────────||──RY(0.09)─┤  \n",
      "2: ─├|Ψ⟩──RY(0.04)────╰X─╭●─────||──RY(0.02)────╰X─╭●─────||──RY(0.08)─┤  \n",
      "3: ─├|Ψ⟩──RY(0.03)───────╰X─╭●──||──RY(0.06)───────╰X─╭●──||──RY(0.08)─┤  \n",
      "4: ─╰|Ψ⟩──RY(0.07)──────────╰X──||──RY(0.04)──────────╰X──||──RY(0.02)─┤  \n"
     ]
    }
   ],
   "source": [
    "model.draw_circuit()"
   ],
   "metadata": {
    "collapsed": false,
    "ExecuteTime": {
     "end_time": "2024-01-31T21:05:57.567117500Z",
     "start_time": "2024-01-31T21:05:57.563542100Z"
    }
   },
   "id": "ce82af9be5148cc2",
   "execution_count": 6
  },
  {
   "cell_type": "markdown",
   "source": [
    "At this stage, we are ready to train our quantum classifier using FastQML. The training process is designed to optimize the model's parameters based on the training data, while also incorporating validation data to ensure robustness and generalizability. To proceed with training, we will set the number of epochs to 250. An epoch is a complete pass through the entire training dataset, and this number determines the duration of the training process. The choice of 250 epochs allows for a thorough optimization of the model's parameters.\n",
    "\n",
    "Additionally, we will set the learning rate to 0.3. The learning rate is a crucial hyperparameter in machine learning that influences the rate at which the model learns. A learning rate of 0.3 is selected to balance the speed of convergence and the stability of the training process."
   ],
   "metadata": {
    "collapsed": false
   },
   "id": "b695defa137ac0e0"
  },
  {
   "cell_type": "code",
   "outputs": [
    {
     "name": "stdout",
     "output_type": "stream",
     "text": [
      "Epoch 1/250 - train_loss: 0.69305, val_loss: 0.66574\n",
      "Epoch 2/250 - train_loss: 0.69268, val_loss: 0.74246\n",
      "Epoch 3/250 - train_loss: 0.72208, val_loss: 0.77573\n",
      "Epoch 4/250 - train_loss: 0.81365, val_loss: 0.85599\n",
      "Epoch 5/250 - train_loss: 1.19250, val_loss: 1.49661\n",
      "Epoch 6/250 - train_loss: 2.80958, val_loss: 3.04929\n",
      "Epoch 7/250 - train_loss: 3.16419, val_loss: 2.61836\n",
      "Epoch 8/250 - train_loss: 2.46889, val_loss: 1.48373\n",
      "Epoch 9/250 - train_loss: 1.74482, val_loss: 0.87864\n",
      "Epoch 10/250 - train_loss: 1.15845, val_loss: 0.77865\n",
      "Epoch 11/250 - train_loss: 0.81821, val_loss: 0.72588\n",
      "Epoch 12/250 - train_loss: 0.75633, val_loss: 0.71613\n",
      "Epoch 13/250 - train_loss: 0.68300, val_loss: 0.72837\n",
      "Epoch 14/250 - train_loss: 0.67922, val_loss: 0.74710\n",
      "Epoch 15/250 - train_loss: 0.68279, val_loss: 0.76345\n",
      "Epoch 16/250 - train_loss: 0.68739, val_loss: 0.77393\n",
      "Epoch 17/250 - train_loss: 0.69065, val_loss: 0.77837\n",
      "Epoch 18/250 - train_loss: 0.69199, val_loss: 0.77808\n",
      "Epoch 19/250 - train_loss: 0.69158, val_loss: 0.77462\n",
      "Epoch 20/250 - train_loss: 0.68978, val_loss: 0.76926\n",
      "Epoch 21/250 - train_loss: 0.68695, val_loss: 0.76293\n",
      "Epoch 22/250 - train_loss: 0.68339, val_loss: 0.75617\n",
      "Epoch 23/250 - train_loss: 0.67931, val_loss: 0.74930\n",
      "Epoch 24/250 - train_loss: 0.67487, val_loss: 0.74243\n",
      "Epoch 25/250 - train_loss: 0.67020, val_loss: 0.73558\n",
      "Epoch 26/250 - train_loss: 0.66538, val_loss: 0.72869\n",
      "Epoch 27/250 - train_loss: 0.66047, val_loss: 0.72169\n",
      "Epoch 28/250 - train_loss: 0.65551, val_loss: 0.71451\n",
      "Epoch 29/250 - train_loss: 0.65055, val_loss: 0.70707\n",
      "Epoch 30/250 - train_loss: 0.64564, val_loss: 0.69938\n",
      "Epoch 31/250 - train_loss: 0.64084, val_loss: 0.69145\n",
      "Epoch 32/250 - train_loss: 0.63626, val_loss: 0.68337\n",
      "Epoch 33/250 - train_loss: 0.63200, val_loss: 0.67527\n",
      "Epoch 34/250 - train_loss: 0.62818, val_loss: 0.66734\n",
      "Epoch 35/250 - train_loss: 0.62494, val_loss: 0.65976\n",
      "Epoch 36/250 - train_loss: 0.62237, val_loss: 0.65274\n",
      "Epoch 37/250 - train_loss: 0.62053, val_loss: 0.64644\n",
      "Epoch 38/250 - train_loss: 0.61940, val_loss: 0.64098\n",
      "Epoch 39/250 - train_loss: 0.61888, val_loss: 0.63638\n",
      "Epoch 40/250 - train_loss: 0.61878, val_loss: 0.63260\n",
      "Epoch 41/250 - train_loss: 0.61887, val_loss: 0.62954\n",
      "Epoch 42/250 - train_loss: 0.61886, val_loss: 0.62704\n",
      "Epoch 43/250 - train_loss: 0.61848, val_loss: 0.62492\n",
      "Epoch 44/250 - train_loss: 0.61754, val_loss: 0.62308\n",
      "Epoch 45/250 - train_loss: 0.61594, val_loss: 0.62144\n",
      "Epoch 46/250 - train_loss: 0.61372, val_loss: 0.62002\n",
      "Epoch 47/250 - train_loss: 0.61103, val_loss: 0.61893\n",
      "Epoch 48/250 - train_loss: 0.60808, val_loss: 0.61827\n",
      "Epoch 49/250 - train_loss: 0.60512, val_loss: 0.61817\n",
      "Epoch 50/250 - train_loss: 0.60238, val_loss: 0.61870\n",
      "Epoch 51/250 - train_loss: 0.60003, val_loss: 0.61983\n",
      "Epoch 52/250 - train_loss: 0.59813, val_loss: 0.62147\n",
      "Epoch 53/250 - train_loss: 0.59668, val_loss: 0.62345\n",
      "Epoch 54/250 - train_loss: 0.59561, val_loss: 0.62554\n",
      "Epoch 55/250 - train_loss: 0.59481, val_loss: 0.62749\n",
      "Epoch 56/250 - train_loss: 0.59414, val_loss: 0.62908\n",
      "Epoch 57/250 - train_loss: 0.59350, val_loss: 0.63011\n",
      "Epoch 58/250 - train_loss: 0.59278, val_loss: 0.63043\n",
      "Epoch 59/250 - train_loss: 0.59193, val_loss: 0.62997\n",
      "Epoch 60/250 - train_loss: 0.59094, val_loss: 0.62874\n",
      "Epoch 61/250 - train_loss: 0.58983, val_loss: 0.62680\n",
      "Epoch 62/250 - train_loss: 0.58866, val_loss: 0.62427\n",
      "Epoch 63/250 - train_loss: 0.58748, val_loss: 0.62135\n",
      "Epoch 64/250 - train_loss: 0.58637, val_loss: 0.61821\n",
      "Epoch 65/250 - train_loss: 0.58535, val_loss: 0.61507\n",
      "Epoch 66/250 - train_loss: 0.58442, val_loss: 0.61210\n",
      "Epoch 67/250 - train_loss: 0.58354, val_loss: 0.60944\n",
      "Epoch 68/250 - train_loss: 0.58265, val_loss: 0.60718\n",
      "Epoch 69/250 - train_loss: 0.58168, val_loss: 0.60538\n",
      "Epoch 70/250 - train_loss: 0.58061, val_loss: 0.60405\n",
      "Epoch 71/250 - train_loss: 0.57942, val_loss: 0.60319\n",
      "Epoch 72/250 - train_loss: 0.57817, val_loss: 0.60278\n",
      "Epoch 73/250 - train_loss: 0.57692, val_loss: 0.60273\n",
      "Epoch 74/250 - train_loss: 0.57574, val_loss: 0.60295\n",
      "Epoch 75/250 - train_loss: 0.57466, val_loss: 0.60326\n",
      "Epoch 76/250 - train_loss: 0.57368, val_loss: 0.60348\n",
      "Epoch 77/250 - train_loss: 0.57274, val_loss: 0.60341\n",
      "Epoch 78/250 - train_loss: 0.57182, val_loss: 0.60290\n",
      "Epoch 79/250 - train_loss: 0.57086, val_loss: 0.60186\n",
      "Epoch 80/250 - train_loss: 0.56986, val_loss: 0.60026\n",
      "Epoch 81/250 - train_loss: 0.56882, val_loss: 0.59818\n",
      "Epoch 82/250 - train_loss: 0.56779, val_loss: 0.59577\n",
      "Epoch 83/250 - train_loss: 0.56679, val_loss: 0.59322\n",
      "Epoch 84/250 - train_loss: 0.56584, val_loss: 0.59072\n",
      "Epoch 85/250 - train_loss: 0.56493, val_loss: 0.58846\n",
      "Epoch 86/250 - train_loss: 0.56401, val_loss: 0.58654\n",
      "Epoch 87/250 - train_loss: 0.56306, val_loss: 0.58504\n",
      "Epoch 88/250 - train_loss: 0.56207, val_loss: 0.58397\n",
      "Epoch 89/250 - train_loss: 0.56105, val_loss: 0.58327\n",
      "Epoch 90/250 - train_loss: 0.56002, val_loss: 0.58282\n",
      "Epoch 91/250 - train_loss: 0.55901, val_loss: 0.58249\n",
      "Epoch 92/250 - train_loss: 0.55801, val_loss: 0.58206\n",
      "Epoch 93/250 - train_loss: 0.55701, val_loss: 0.58138\n",
      "Epoch 94/250 - train_loss: 0.55598, val_loss: 0.58032\n",
      "Epoch 95/250 - train_loss: 0.55491, val_loss: 0.57884\n",
      "Epoch 96/250 - train_loss: 0.55382, val_loss: 0.57698\n",
      "Epoch 97/250 - train_loss: 0.55271, val_loss: 0.57489\n",
      "Epoch 98/250 - train_loss: 0.55160, val_loss: 0.57272\n",
      "Epoch 99/250 - train_loss: 0.55048, val_loss: 0.57065\n",
      "Epoch 100/250 - train_loss: 0.54936, val_loss: 0.56880\n",
      "Epoch 101/250 - train_loss: 0.54820, val_loss: 0.56724\n",
      "Epoch 102/250 - train_loss: 0.54700, val_loss: 0.56597\n",
      "Epoch 103/250 - train_loss: 0.54577, val_loss: 0.56491\n",
      "Epoch 104/250 - train_loss: 0.54453, val_loss: 0.56394\n",
      "Epoch 105/250 - train_loss: 0.54328, val_loss: 0.56293\n",
      "Epoch 106/250 - train_loss: 0.54201, val_loss: 0.56174\n",
      "Epoch 107/250 - train_loss: 0.54073, val_loss: 0.56028\n",
      "Epoch 108/250 - train_loss: 0.53943, val_loss: 0.55853\n",
      "Epoch 109/250 - train_loss: 0.53812, val_loss: 0.55654\n",
      "Epoch 110/250 - train_loss: 0.53681, val_loss: 0.55441\n",
      "Epoch 111/250 - train_loss: 0.53552, val_loss: 0.55227\n",
      "Epoch 112/250 - train_loss: 0.53425, val_loss: 0.55021\n",
      "Epoch 113/250 - train_loss: 0.53300, val_loss: 0.54833\n",
      "Epoch 114/250 - train_loss: 0.53178, val_loss: 0.54665\n",
      "Epoch 115/250 - train_loss: 0.53058, val_loss: 0.54514\n",
      "Epoch 116/250 - train_loss: 0.52943, val_loss: 0.54375\n",
      "Epoch 117/250 - train_loss: 0.52832, val_loss: 0.54241\n",
      "Epoch 118/250 - train_loss: 0.52727, val_loss: 0.54105\n",
      "Epoch 119/250 - train_loss: 0.52626, val_loss: 0.53960\n",
      "Epoch 120/250 - train_loss: 0.52528, val_loss: 0.53807\n",
      "Epoch 121/250 - train_loss: 0.52435, val_loss: 0.53647\n",
      "Epoch 122/250 - train_loss: 0.52346, val_loss: 0.53485\n",
      "Epoch 123/250 - train_loss: 0.52261, val_loss: 0.53330\n",
      "Epoch 124/250 - train_loss: 0.52179, val_loss: 0.53188\n",
      "Epoch 125/250 - train_loss: 0.52100, val_loss: 0.53063\n",
      "Epoch 126/250 - train_loss: 0.52025, val_loss: 0.52957\n",
      "Epoch 127/250 - train_loss: 0.51953, val_loss: 0.52871\n",
      "Epoch 128/250 - train_loss: 0.51883, val_loss: 0.52798\n",
      "Epoch 129/250 - train_loss: 0.51817, val_loss: 0.52736\n",
      "Epoch 130/250 - train_loss: 0.51755, val_loss: 0.52677\n",
      "Epoch 131/250 - train_loss: 0.51695, val_loss: 0.52619\n",
      "Epoch 132/250 - train_loss: 0.51638, val_loss: 0.52561\n",
      "Epoch 133/250 - train_loss: 0.51584, val_loss: 0.52503\n",
      "Epoch 134/250 - train_loss: 0.51532, val_loss: 0.52449\n",
      "Epoch 135/250 - train_loss: 0.51484, val_loss: 0.52403\n",
      "Epoch 136/250 - train_loss: 0.51437, val_loss: 0.52367\n",
      "Epoch 137/250 - train_loss: 0.51394, val_loss: 0.52343\n",
      "Epoch 138/250 - train_loss: 0.51353, val_loss: 0.52330\n",
      "Epoch 139/250 - train_loss: 0.51314, val_loss: 0.52324\n",
      "Epoch 140/250 - train_loss: 0.51278, val_loss: 0.52321\n",
      "Epoch 141/250 - train_loss: 0.51245, val_loss: 0.52317\n",
      "Epoch 142/250 - train_loss: 0.51214, val_loss: 0.52311\n",
      "Epoch 143/250 - train_loss: 0.51186, val_loss: 0.52300\n",
      "Epoch 144/250 - train_loss: 0.51161, val_loss: 0.52288\n",
      "Epoch 145/250 - train_loss: 0.51137, val_loss: 0.52277\n",
      "Epoch 146/250 - train_loss: 0.51116, val_loss: 0.52270\n",
      "Epoch 147/250 - train_loss: 0.51097, val_loss: 0.52267\n",
      "Epoch 148/250 - train_loss: 0.51079, val_loss: 0.52269\n",
      "Epoch 149/250 - train_loss: 0.51063, val_loss: 0.52273\n",
      "Epoch 150/250 - train_loss: 0.51048, val_loss: 0.52277\n",
      "Epoch 151/250 - train_loss: 0.51035, val_loss: 0.52278\n",
      "Epoch 152/250 - train_loss: 0.51023, val_loss: 0.52275\n",
      "Epoch 153/250 - train_loss: 0.51012, val_loss: 0.52267\n",
      "Epoch 154/250 - train_loss: 0.51002, val_loss: 0.52256\n",
      "Epoch 155/250 - train_loss: 0.50992, val_loss: 0.52245\n",
      "Epoch 156/250 - train_loss: 0.50984, val_loss: 0.52235\n",
      "Epoch 157/250 - train_loss: 0.50977, val_loss: 0.52228\n",
      "Epoch 158/250 - train_loss: 0.50970, val_loss: 0.52224\n",
      "Epoch 159/250 - train_loss: 0.50964, val_loss: 0.52220\n",
      "Epoch 160/250 - train_loss: 0.50959, val_loss: 0.52215\n",
      "Epoch 161/250 - train_loss: 0.50954, val_loss: 0.52208\n",
      "Epoch 162/250 - train_loss: 0.50949, val_loss: 0.52198\n",
      "Epoch 163/250 - train_loss: 0.50945, val_loss: 0.52186\n",
      "Epoch 164/250 - train_loss: 0.50942, val_loss: 0.52174\n",
      "Epoch 165/250 - train_loss: 0.50939, val_loss: 0.52163\n",
      "Epoch 166/250 - train_loss: 0.50936, val_loss: 0.52155\n",
      "Epoch 167/250 - train_loss: 0.50934, val_loss: 0.52150\n",
      "Epoch 168/250 - train_loss: 0.50932, val_loss: 0.52146\n",
      "Epoch 169/250 - train_loss: 0.50930, val_loss: 0.52143\n",
      "Epoch 170/250 - train_loss: 0.50928, val_loss: 0.52140\n",
      "Epoch 171/250 - train_loss: 0.50927, val_loss: 0.52136\n",
      "Epoch 172/250 - train_loss: 0.50926, val_loss: 0.52132\n",
      "Epoch 173/250 - train_loss: 0.50925, val_loss: 0.52127\n",
      "Epoch 174/250 - train_loss: 0.50924, val_loss: 0.52124\n",
      "Epoch 175/250 - train_loss: 0.50923, val_loss: 0.52123\n",
      "Epoch 176/250 - train_loss: 0.50922, val_loss: 0.52125\n",
      "Epoch 177/250 - train_loss: 0.50922, val_loss: 0.52127\n",
      "Epoch 178/250 - train_loss: 0.50921, val_loss: 0.52130\n",
      "Epoch 179/250 - train_loss: 0.50921, val_loss: 0.52132\n",
      "Epoch 180/250 - train_loss: 0.50920, val_loss: 0.52134\n",
      "Epoch 181/250 - train_loss: 0.50920, val_loss: 0.52135\n",
      "Epoch 182/250 - train_loss: 0.50919, val_loss: 0.52135\n",
      "Epoch 183/250 - train_loss: 0.50919, val_loss: 0.52137\n",
      "Epoch 184/250 - train_loss: 0.50919, val_loss: 0.52139\n",
      "Epoch 185/250 - train_loss: 0.50919, val_loss: 0.52142\n",
      "Epoch 186/250 - train_loss: 0.50918, val_loss: 0.52145\n",
      "Epoch 187/250 - train_loss: 0.50918, val_loss: 0.52148\n",
      "Epoch 188/250 - train_loss: 0.50918, val_loss: 0.52150\n",
      "Epoch 189/250 - train_loss: 0.50918, val_loss: 0.52151\n",
      "Epoch 190/250 - train_loss: 0.50918, val_loss: 0.52152\n",
      "Epoch 191/250 - train_loss: 0.50918, val_loss: 0.52152\n",
      "Epoch 192/250 - train_loss: 0.50918, val_loss: 0.52153\n",
      "Epoch 193/250 - train_loss: 0.50917, val_loss: 0.52154\n",
      "Epoch 194/250 - train_loss: 0.50917, val_loss: 0.52155\n",
      "Epoch 195/250 - train_loss: 0.50917, val_loss: 0.52156\n",
      "Epoch 196/250 - train_loss: 0.50917, val_loss: 0.52156\n",
      "Epoch 197/250 - train_loss: 0.50917, val_loss: 0.52155\n",
      "Epoch 198/250 - train_loss: 0.50917, val_loss: 0.52154\n",
      "Epoch 199/250 - train_loss: 0.50917, val_loss: 0.52153\n",
      "Epoch 200/250 - train_loss: 0.50917, val_loss: 0.52152\n",
      "Epoch 201/250 - train_loss: 0.50917, val_loss: 0.52151\n",
      "Epoch 202/250 - train_loss: 0.50917, val_loss: 0.52151\n",
      "Epoch 203/250 - train_loss: 0.50917, val_loss: 0.52150\n",
      "Epoch 204/250 - train_loss: 0.50917, val_loss: 0.52149\n",
      "Epoch 205/250 - train_loss: 0.50917, val_loss: 0.52148\n",
      "Epoch 206/250 - train_loss: 0.50917, val_loss: 0.52147\n",
      "Epoch 207/250 - train_loss: 0.50917, val_loss: 0.52145\n",
      "Epoch 208/250 - train_loss: 0.50917, val_loss: 0.52144\n",
      "Epoch 209/250 - train_loss: 0.50917, val_loss: 0.52144\n",
      "Epoch 210/250 - train_loss: 0.50917, val_loss: 0.52143\n",
      "Epoch 211/250 - train_loss: 0.50917, val_loss: 0.52143\n",
      "Epoch 212/250 - train_loss: 0.50917, val_loss: 0.52143\n",
      "Epoch 213/250 - train_loss: 0.50917, val_loss: 0.52142\n",
      "Epoch 214/250 - train_loss: 0.50917, val_loss: 0.52142\n",
      "Epoch 215/250 - train_loss: 0.50917, val_loss: 0.52141\n",
      "Epoch 216/250 - train_loss: 0.50917, val_loss: 0.52141\n",
      "Epoch 217/250 - train_loss: 0.50917, val_loss: 0.52142\n",
      "Epoch 218/250 - train_loss: 0.50917, val_loss: 0.52142\n",
      "Epoch 219/250 - train_loss: 0.50917, val_loss: 0.52142\n",
      "Epoch 220/250 - train_loss: 0.50917, val_loss: 0.52143\n",
      "Epoch 221/250 - train_loss: 0.50917, val_loss: 0.52143\n",
      "Epoch 222/250 - train_loss: 0.50917, val_loss: 0.52143\n",
      "Epoch 223/250 - train_loss: 0.50917, val_loss: 0.52143\n",
      "Epoch 224/250 - train_loss: 0.50917, val_loss: 0.52143\n",
      "Epoch 225/250 - train_loss: 0.50917, val_loss: 0.52144\n",
      "Epoch 226/250 - train_loss: 0.50917, val_loss: 0.52144\n",
      "Epoch 227/250 - train_loss: 0.50917, val_loss: 0.52144\n",
      "Epoch 228/250 - train_loss: 0.50917, val_loss: 0.52144\n",
      "Epoch 229/250 - train_loss: 0.50917, val_loss: 0.52144\n",
      "Epoch 230/250 - train_loss: 0.50917, val_loss: 0.52144\n",
      "Epoch 231/250 - train_loss: 0.50917, val_loss: 0.52144\n",
      "Epoch 232/250 - train_loss: 0.50917, val_loss: 0.52144\n",
      "Epoch 233/250 - train_loss: 0.50917, val_loss: 0.52144\n",
      "Epoch 234/250 - train_loss: 0.50917, val_loss: 0.52144\n",
      "Epoch 235/250 - train_loss: 0.50917, val_loss: 0.52144\n",
      "Epoch 236/250 - train_loss: 0.50917, val_loss: 0.52144\n",
      "Epoch 237/250 - train_loss: 0.50917, val_loss: 0.52144\n",
      "Epoch 238/250 - train_loss: 0.50917, val_loss: 0.52144\n",
      "Epoch 239/250 - train_loss: 0.50917, val_loss: 0.52143\n",
      "Epoch 240/250 - train_loss: 0.50917, val_loss: 0.52143\n",
      "Epoch 241/250 - train_loss: 0.50917, val_loss: 0.52143\n",
      "Epoch 242/250 - train_loss: 0.50917, val_loss: 0.52143\n",
      "Epoch 243/250 - train_loss: 0.50917, val_loss: 0.52143\n",
      "Epoch 244/250 - train_loss: 0.50917, val_loss: 0.52143\n",
      "Epoch 245/250 - train_loss: 0.50917, val_loss: 0.52142\n",
      "Epoch 246/250 - train_loss: 0.50917, val_loss: 0.52142\n",
      "Epoch 247/250 - train_loss: 0.50917, val_loss: 0.52142\n",
      "Epoch 248/250 - train_loss: 0.50917, val_loss: 0.52142\n",
      "Epoch 249/250 - train_loss: 0.50917, val_loss: 0.52142\n",
      "Epoch 250/250 - train_loss: 0.50917, val_loss: 0.52142\n",
      "Executing fit_model took 7.60808 seconds.\n"
     ]
    }
   ],
   "source": [
    "@execution_time\n",
    "def fit_model():\n",
    "    model.fit(\n",
    "        x_train=X_train,\n",
    "        y_train=y_train,\n",
    "        x_val=X_val,\n",
    "        y_val=y_val,\n",
    "        num_epochs=250,\n",
    "        learning_rate=0.3\n",
    "    )\n",
    "    \n",
    "fit_model()"
   ],
   "metadata": {
    "collapsed": false,
    "ExecuteTime": {
     "end_time": "2024-01-31T21:06:07.638173800Z",
     "start_time": "2024-01-31T21:06:00.024945800Z"
    }
   },
   "id": "be197712bd816304",
   "execution_count": 7
  },
  {
   "cell_type": "markdown",
   "source": [
    "We trained the model in **~7.61 seconds**.\n",
    "\n",
    "With the model now trained, our next step is to evaluate its performance on the test data. In order to present the model's performance Scikit-learn _classification_report_ and _ConfusionMatrixDisplay_ methods will be used."
   ],
   "metadata": {
    "collapsed": false
   },
   "id": "4bba96af9c2c9fa4"
  },
  {
   "cell_type": "code",
   "outputs": [
    {
     "name": "stdout",
     "output_type": "stream",
     "text": [
      "              precision    recall  f1-score   support\n",
      "\n",
      "           0       0.64      0.56      0.60        16\n",
      "           1       0.84      0.88      0.86        41\n",
      "\n",
      "    accuracy                           0.79        57\n",
      "   macro avg       0.74      0.72      0.73        57\n",
      "weighted avg       0.78      0.79      0.78        57\n"
     ]
    },
    {
     "data": {
      "text/plain": "<Figure size 640x480 with 2 Axes>",
      "image/png": "[encoded data removed]"
     },
     "metadata": {},
     "output_type": "display_data"
    }
   ],
   "source": [
    "# Make predictions\n",
    "y_pred = model.predict(X_test)\n",
    "\n",
    "# Evaluate the classifier\n",
    "print(classification_report(y_test, y_pred))\n",
    "\n",
    "# Display confusion matrix\n",
    "cm = confusion_matrix(y_test, y_pred, labels=[0, 1])\n",
    "disp = ConfusionMatrixDisplay(confusion_matrix=cm, display_labels=['benign', 'malignant'])\n",
    "disp.plot(cmap='Greens')\n",
    "plt.show()"
   ],
   "metadata": {
    "collapsed": false,
    "ExecuteTime": {
     "end_time": "2024-01-31T21:06:15.718168100Z",
     "start_time": "2024-01-31T21:06:15.450557500Z"
    }
   },
   "id": "fad9248642ccc4d",
   "execution_count": 8
  },
  {
   "cell_type": "markdown",
   "source": [
    "Having achieved approximately 80% accuracy with our current model setup, our next objective is to enhance the model's performance while also aiming for a more efficient training time. To accomplish this, we will explore the customization capabilities of FastQML by implementing a custom variational function.\n",
    "\n",
    "Furthermore, we will utilize the JAX backend for training. The JAX backend in FastQML is known for its efficiency in computation, particularly beneficial for quantum machine learning tasks. By leveraging Just-in-Time (JIT) compilation and other optimization features of JAX, we anticipate a reduction in training time without compromising the model's performance."
   ],
   "metadata": {
    "collapsed": false
   },
   "id": "7d3dd40ac60f3548"
  },
  {
   "cell_type": "code",
   "outputs": [],
   "source": [
    "# Set backend to JAX for CPU computations acceleration\n",
    "fast_qml.update(device='cpu.jax')"
   ],
   "metadata": {
    "collapsed": false,
    "ExecuteTime": {
     "end_time": "2024-01-31T21:06:20.247535200Z",
     "start_time": "2024-01-31T21:06:20.240406300Z"
    }
   },
   "id": "55a721e25bfbf9da",
   "execution_count": 9
  },
  {
   "cell_type": "code",
   "outputs": [],
   "source": [
    "n_qubits = 5\n",
    "\n",
    "# Define custom variational function\n",
    "def naive_var_func(params):\n",
    "    # First block of rotations\n",
    "    first_block_rotations = [qml.RX, qml.RY, qml.RX, qml.RY, qml.RX]\n",
    "    for i, rotation in enumerate(first_block_rotations):\n",
    "        rotation(params[i], wires=[i])\n",
    "        \n",
    "    # Second block of rotations\n",
    "    rot_number = 0\n",
    "    for i in range(0, n_qubits, 2):\n",
    "        qml.RY(params[n_qubits + rot_number], wires=[i])\n",
    "        rot_number += 1\n",
    "    \n",
    "# We wil use the same features map\n",
    "feature_map = AmplitudeEmbedding(\n",
    "    n_qubits=n_qubits,\n",
    "    pad_with=0.0\n",
    ")\n",
    "\n",
    "# We can define ansatz with our user-defined variational form function\n",
    "ansatz = Ansatz(\n",
    "    n_qubits=n_qubits,\n",
    "    variational_func=naive_var_func,\n",
    "    parameters_num=8,\n",
    "    entanglement='circular',\n",
    "    reps=2\n",
    ")"
   ],
   "metadata": {
    "collapsed": false,
    "ExecuteTime": {
     "end_time": "2024-01-31T21:06:20.782149300Z",
     "start_time": "2024-01-31T21:06:20.776273200Z"
    }
   },
   "id": "64604c0d2cde8450",
   "execution_count": 10
  },
  {
   "cell_type": "code",
   "outputs": [],
   "source": [
    "# Create VQClassifier model with defined ansatz and feature map\n",
    "model = VQClassifier(\n",
    "    n_qubits=n_qubits,\n",
    "    feature_map=feature_map,\n",
    "    ansatz=ansatz,\n",
    "    classes_num=2\n",
    ")"
   ],
   "metadata": {
    "collapsed": false,
    "ExecuteTime": {
     "end_time": "2024-01-31T21:06:22.280547400Z",
     "start_time": "2024-01-31T21:06:22.236583600Z"
    }
   },
   "id": "9fb50f50b0c6276b",
   "execution_count": 11
  },
  {
   "cell_type": "code",
   "outputs": [
    {
     "name": "stdout",
     "output_type": "stream",
     "text": [
      "0: ─╭|Ψ⟩──RX(0.03)──RY(0.04)─╭●──────────╭X──||──RX(0.06)──RY(0.04)─╭●──────────╭X──||──RX(0.04)\n",
      "1: ─├|Ψ⟩──RY(0.06)───────────╰X─╭●───────│───||──RY(0.04)───────────╰X─╭●───────│───||──RY(0.01)\n",
      "2: ─├|Ψ⟩──RX(0.09)──RY(0.01)────╰X─╭●────│───||──RX(0.04)──RY(0.01)────╰X─╭●────│───||──RX(0.03)\n",
      "3: ─├|Ψ⟩──RY(0.03)─────────────────╰X─╭●─│───||──RY(0.06)─────────────────╰X─╭●─│───||──RY(0.09)\n",
      "4: ─╰|Ψ⟩──RX(0.01)──RY(0.01)──────────╰X─╰●──||──RX(0.04)──RY(0.02)──────────╰X─╰●──||──RX(0.01)\n",
      "\n",
      "───RY(0.02)─┤  \n",
      "────────────┤  \n",
      "───RY(0.01)─┤  \n",
      "────────────┤  \n",
      "───RY(0.04)─┤  \n"
     ]
    }
   ],
   "source": [
    "model.draw_circuit()"
   ],
   "metadata": {
    "collapsed": false,
    "ExecuteTime": {
     "end_time": "2024-01-31T21:06:22.562295800Z",
     "start_time": "2024-01-31T21:06:22.558500300Z"
    }
   },
   "id": "c9928962e4727c0e",
   "execution_count": 12
  },
  {
   "cell_type": "code",
   "outputs": [
    {
     "name": "stdout",
     "output_type": "stream",
     "text": [
      "Epoch 1/250 - train_loss: 0.43726, val_loss: 0.50203\n",
      "Epoch 2/250 - train_loss: 0.49061, val_loss: 0.54891\n",
      "Epoch 3/250 - train_loss: 0.50047, val_loss: 0.46806\n",
      "Epoch 4/250 - train_loss: 0.47949, val_loss: 0.45657\n",
      "Epoch 5/250 - train_loss: 0.48996, val_loss: 0.46282\n",
      "Epoch 6/250 - train_loss: 0.46607, val_loss: 0.48078\n",
      "Epoch 7/250 - train_loss: 0.45906, val_loss: 0.47680\n",
      "Epoch 8/250 - train_loss: 0.45651, val_loss: 0.46374\n",
      "Epoch 9/250 - train_loss: 0.45972, val_loss: 0.46430\n",
      "Epoch 10/250 - train_loss: 0.46117, val_loss: 0.47334\n",
      "Epoch 11/250 - train_loss: 0.45795, val_loss: 0.47755\n",
      "Epoch 12/250 - train_loss: 0.45613, val_loss: 0.47033\n",
      "Epoch 13/250 - train_loss: 0.45380, val_loss: 0.46113\n",
      "Epoch 14/250 - train_loss: 0.45224, val_loss: 0.45588\n",
      "Epoch 15/250 - train_loss: 0.45048, val_loss: 0.45370\n",
      "Epoch 16/250 - train_loss: 0.44905, val_loss: 0.45159\n",
      "Epoch 17/250 - train_loss: 0.44816, val_loss: 0.44893\n",
      "Epoch 18/250 - train_loss: 0.44758, val_loss: 0.44706\n",
      "Epoch 19/250 - train_loss: 0.44710, val_loss: 0.44633\n",
      "Epoch 20/250 - train_loss: 0.44514, val_loss: 0.44691\n",
      "Epoch 21/250 - train_loss: 0.44245, val_loss: 0.44823\n",
      "Epoch 22/250 - train_loss: 0.44227, val_loss: 0.44832\n",
      "Epoch 23/250 - train_loss: 0.44403, val_loss: 0.44705\n",
      "Epoch 24/250 - train_loss: 0.44404, val_loss: 0.44633\n",
      "Epoch 25/250 - train_loss: 0.44142, val_loss: 0.44717\n",
      "Epoch 26/250 - train_loss: 0.43952, val_loss: 0.44764\n",
      "Epoch 27/250 - train_loss: 0.43999, val_loss: 0.44606\n",
      "Epoch 28/250 - train_loss: 0.44076, val_loss: 0.44390\n",
      "Epoch 29/250 - train_loss: 0.44024, val_loss: 0.44311\n",
      "Epoch 30/250 - train_loss: 0.43946, val_loss: 0.44310\n",
      "Epoch 31/250 - train_loss: 0.43941, val_loss: 0.44301\n",
      "Epoch 32/250 - train_loss: 0.43956, val_loss: 0.44349\n",
      "Epoch 33/250 - train_loss: 0.43920, val_loss: 0.44471\n",
      "Epoch 34/250 - train_loss: 0.43846, val_loss: 0.44576\n",
      "Epoch 35/250 - train_loss: 0.43836, val_loss: 0.44583\n",
      "Epoch 36/250 - train_loss: 0.43889, val_loss: 0.44444\n",
      "Epoch 37/250 - train_loss: 0.43886, val_loss: 0.44189\n",
      "Epoch 38/250 - train_loss: 0.43841, val_loss: 0.44025\n",
      "Epoch 39/250 - train_loss: 0.43833, val_loss: 0.44131\n",
      "Epoch 40/250 - train_loss: 0.43831, val_loss: 0.44346\n",
      "Epoch 41/250 - train_loss: 0.43821, val_loss: 0.44427\n",
      "Epoch 42/250 - train_loss: 0.43802, val_loss: 0.44430\n",
      "Epoch 43/250 - train_loss: 0.43779, val_loss: 0.44471\n",
      "Epoch 44/250 - train_loss: 0.43770, val_loss: 0.44439\n",
      "Epoch 45/250 - train_loss: 0.43783, val_loss: 0.44273\n",
      "Epoch 46/250 - train_loss: 0.43802, val_loss: 0.44171\n",
      "Epoch 47/250 - train_loss: 0.43793, val_loss: 0.44253\n",
      "Epoch 48/250 - train_loss: 0.43756, val_loss: 0.44351\n",
      "Epoch 49/250 - train_loss: 0.43741, val_loss: 0.44333\n",
      "Epoch 50/250 - train_loss: 0.43756, val_loss: 0.44289\n",
      "Epoch 51/250 - train_loss: 0.43767, val_loss: 0.44261\n",
      "Epoch 52/250 - train_loss: 0.43760, val_loss: 0.44174\n",
      "Epoch 53/250 - train_loss: 0.43751, val_loss: 0.44075\n",
      "Epoch 54/250 - train_loss: 0.43747, val_loss: 0.44105\n",
      "Epoch 55/250 - train_loss: 0.43742, val_loss: 0.44219\n",
      "Epoch 56/250 - train_loss: 0.43742, val_loss: 0.44244\n",
      "Epoch 57/250 - train_loss: 0.43748, val_loss: 0.44196\n",
      "Epoch 58/250 - train_loss: 0.43747, val_loss: 0.44183\n",
      "Epoch 59/250 - train_loss: 0.43740, val_loss: 0.44167\n",
      "Epoch 60/250 - train_loss: 0.43736, val_loss: 0.44115\n",
      "Epoch 61/250 - train_loss: 0.43736, val_loss: 0.44126\n",
      "Epoch 62/250 - train_loss: 0.43737, val_loss: 0.44218\n",
      "Epoch 63/250 - train_loss: 0.43738, val_loss: 0.44256\n",
      "Epoch 64/250 - train_loss: 0.43735, val_loss: 0.44215\n",
      "Epoch 65/250 - train_loss: 0.43731, val_loss: 0.44209\n",
      "Epoch 66/250 - train_loss: 0.43733, val_loss: 0.44234\n",
      "Epoch 67/250 - train_loss: 0.43735, val_loss: 0.44213\n",
      "Epoch 68/250 - train_loss: 0.43731, val_loss: 0.44195\n",
      "Epoch 69/250 - train_loss: 0.43729, val_loss: 0.44235\n",
      "Epoch 70/250 - train_loss: 0.43731, val_loss: 0.44246\n",
      "Epoch 71/250 - train_loss: 0.43732, val_loss: 0.44194\n",
      "Epoch 72/250 - train_loss: 0.43730, val_loss: 0.44178\n",
      "Epoch 73/250 - train_loss: 0.43729, val_loss: 0.44208\n",
      "Epoch 74/250 - train_loss: 0.43729, val_loss: 0.44209\n",
      "Epoch 75/250 - train_loss: 0.43729, val_loss: 0.44204\n",
      "Epoch 76/250 - train_loss: 0.43729, val_loss: 0.44227\n",
      "Epoch 77/250 - train_loss: 0.43729, val_loss: 0.44217\n",
      "Epoch 78/250 - train_loss: 0.43728, val_loss: 0.44175\n",
      "Epoch 79/250 - train_loss: 0.43728, val_loss: 0.44178\n",
      "Epoch 80/250 - train_loss: 0.43728, val_loss: 0.44204\n",
      "Epoch 81/250 - train_loss: 0.43728, val_loss: 0.44204\n",
      "Epoch 82/250 - train_loss: 0.43728, val_loss: 0.44210\n",
      "Epoch 83/250 - train_loss: 0.43727, val_loss: 0.44223\n",
      "Epoch 84/250 - train_loss: 0.43727, val_loss: 0.44202\n",
      "Epoch 85/250 - train_loss: 0.43727, val_loss: 0.44186\n",
      "Epoch 86/250 - train_loss: 0.43727, val_loss: 0.44206\n",
      "Epoch 87/250 - train_loss: 0.43727, val_loss: 0.44216\n",
      "Epoch 88/250 - train_loss: 0.43727, val_loss: 0.44207\n",
      "Epoch 89/250 - train_loss: 0.43727, val_loss: 0.44208\n",
      "Epoch 90/250 - train_loss: 0.43727, val_loss: 0.44199\n",
      "Epoch 91/250 - train_loss: 0.43727, val_loss: 0.44179\n",
      "Epoch 92/250 - train_loss: 0.43727, val_loss: 0.44189\n",
      "Epoch 93/250 - train_loss: 0.43727, val_loss: 0.44207\n",
      "Epoch 94/250 - train_loss: 0.43727, val_loss: 0.44202\n",
      "Epoch 95/250 - train_loss: 0.43727, val_loss: 0.44198\n",
      "Epoch 96/250 - train_loss: 0.43726, val_loss: 0.44194\n",
      "Epoch 97/250 - train_loss: 0.43726, val_loss: 0.44179\n",
      "Epoch 98/250 - train_loss: 0.43727, val_loss: 0.44184\n",
      "Epoch 99/250 - train_loss: 0.43727, val_loss: 0.44202\n",
      "Epoch 100/250 - train_loss: 0.43727, val_loss: 0.44203\n",
      "Epoch 101/250 - train_loss: 0.43726, val_loss: 0.44201\n",
      "Epoch 102/250 - train_loss: 0.43726, val_loss: 0.44203\n",
      "Epoch 103/250 - train_loss: 0.43726, val_loss: 0.44195\n",
      "Epoch 104/250 - train_loss: 0.43726, val_loss: 0.44196\n",
      "Epoch 105/250 - train_loss: 0.43726, val_loss: 0.44208\n",
      "Epoch 106/250 - train_loss: 0.43726, val_loss: 0.44206\n",
      "Epoch 107/250 - train_loss: 0.43726, val_loss: 0.44202\n",
      "Epoch 108/250 - train_loss: 0.43726, val_loss: 0.44204\n",
      "Epoch 109/250 - train_loss: 0.43726, val_loss: 0.44199\n",
      "Epoch 110/250 - train_loss: 0.43726, val_loss: 0.44201\n",
      "Epoch 111/250 - train_loss: 0.43726, val_loss: 0.44207\n",
      "Epoch 112/250 - train_loss: 0.43726, val_loss: 0.44201\n",
      "Epoch 113/250 - train_loss: 0.43726, val_loss: 0.44198\n",
      "Epoch 114/250 - train_loss: 0.43726, val_loss: 0.44198\n",
      "Epoch 115/250 - train_loss: 0.43726, val_loss: 0.44195\n",
      "Epoch 116/250 - train_loss: 0.43726, val_loss: 0.44199\n",
      "Epoch 117/250 - train_loss: 0.43726, val_loss: 0.44202\n",
      "Epoch 118/250 - train_loss: 0.43726, val_loss: 0.44197\n",
      "Epoch 119/250 - train_loss: 0.43726, val_loss: 0.44198\n",
      "Epoch 120/250 - train_loss: 0.43726, val_loss: 0.44198\n",
      "Epoch 121/250 - train_loss: 0.43726, val_loss: 0.44197\n",
      "Epoch 122/250 - train_loss: 0.43726, val_loss: 0.44201\n",
      "Epoch 123/250 - train_loss: 0.43726, val_loss: 0.44200\n",
      "Epoch 124/250 - train_loss: 0.43726, val_loss: 0.44197\n",
      "Epoch 125/250 - train_loss: 0.43726, val_loss: 0.44199\n",
      "Epoch 126/250 - train_loss: 0.43726, val_loss: 0.44199\n",
      "Epoch 127/250 - train_loss: 0.43726, val_loss: 0.44201\n",
      "Epoch 128/250 - train_loss: 0.43726, val_loss: 0.44202\n",
      "Epoch 129/250 - train_loss: 0.43726, val_loss: 0.44198\n",
      "Epoch 130/250 - train_loss: 0.43726, val_loss: 0.44198\n",
      "Epoch 131/250 - train_loss: 0.43726, val_loss: 0.44198\n",
      "Epoch 132/250 - train_loss: 0.43726, val_loss: 0.44198\n",
      "Epoch 133/250 - train_loss: 0.43726, val_loss: 0.44201\n",
      "Epoch 134/250 - train_loss: 0.43726, val_loss: 0.44200\n",
      "Epoch 135/250 - train_loss: 0.43726, val_loss: 0.44198\n",
      "Epoch 136/250 - train_loss: 0.43726, val_loss: 0.44199\n",
      "Epoch 137/250 - train_loss: 0.43726, val_loss: 0.44198\n",
      "Epoch 138/250 - train_loss: 0.43726, val_loss: 0.44200\n",
      "Epoch 139/250 - train_loss: 0.43726, val_loss: 0.44201\n",
      "Epoch 140/250 - train_loss: 0.43726, val_loss: 0.44199\n",
      "Epoch 141/250 - train_loss: 0.43726, val_loss: 0.44200\n",
      "Epoch 142/250 - train_loss: 0.43726, val_loss: 0.44199\n",
      "Epoch 143/250 - train_loss: 0.43726, val_loss: 0.44200\n",
      "Epoch 144/250 - train_loss: 0.43726, val_loss: 0.44201\n",
      "Epoch 145/250 - train_loss: 0.43726, val_loss: 0.44199\n",
      "Epoch 146/250 - train_loss: 0.43726, val_loss: 0.44199\n",
      "Epoch 147/250 - train_loss: 0.43726, val_loss: 0.44199\n",
      "Epoch 148/250 - train_loss: 0.43726, val_loss: 0.44199\n",
      "Epoch 149/250 - train_loss: 0.43726, val_loss: 0.44200\n",
      "Epoch 150/250 - train_loss: 0.43726, val_loss: 0.44199\n",
      "Epoch 151/250 - train_loss: 0.43726, val_loss: 0.44199\n",
      "Epoch 152/250 - train_loss: 0.43726, val_loss: 0.44198\n",
      "Epoch 153/250 - train_loss: 0.43726, val_loss: 0.44199\n",
      "Epoch 154/250 - train_loss: 0.43726, val_loss: 0.44199\n",
      "Epoch 155/250 - train_loss: 0.43726, val_loss: 0.44199\n",
      "Epoch 156/250 - train_loss: 0.43726, val_loss: 0.44199\n",
      "Epoch 157/250 - train_loss: 0.43726, val_loss: 0.44199\n",
      "Epoch 158/250 - train_loss: 0.43726, val_loss: 0.44200\n",
      "Epoch 159/250 - train_loss: 0.43726, val_loss: 0.44200\n",
      "Epoch 160/250 - train_loss: 0.43726, val_loss: 0.44199\n",
      "Epoch 161/250 - train_loss: 0.43726, val_loss: 0.44200\n",
      "Epoch 162/250 - train_loss: 0.43726, val_loss: 0.44199\n",
      "Epoch 163/250 - train_loss: 0.43726, val_loss: 0.44200\n",
      "Epoch 164/250 - train_loss: 0.43726, val_loss: 0.44200\n",
      "Epoch 165/250 - train_loss: 0.43726, val_loss: 0.44200\n",
      "Epoch 166/250 - train_loss: 0.43726, val_loss: 0.44199\n",
      "Epoch 167/250 - train_loss: 0.43726, val_loss: 0.44199\n",
      "Epoch 168/250 - train_loss: 0.43726, val_loss: 0.44200\n",
      "Epoch 169/250 - train_loss: 0.43726, val_loss: 0.44199\n",
      "Epoch 170/250 - train_loss: 0.43726, val_loss: 0.44200\n",
      "Epoch 171/250 - train_loss: 0.43726, val_loss: 0.44199\n",
      "Epoch 172/250 - train_loss: 0.43726, val_loss: 0.44199\n",
      "Epoch 173/250 - train_loss: 0.43726, val_loss: 0.44199\n",
      "Epoch 174/250 - train_loss: 0.43726, val_loss: 0.44200\n",
      "Epoch 175/250 - train_loss: 0.43726, val_loss: 0.44199\n",
      "Epoch 176/250 - train_loss: 0.43726, val_loss: 0.44199\n",
      "Epoch 177/250 - train_loss: 0.43726, val_loss: 0.44199\n",
      "Epoch 178/250 - train_loss: 0.43726, val_loss: 0.44199\n",
      "Epoch 179/250 - train_loss: 0.43726, val_loss: 0.44200\n",
      "Epoch 180/250 - train_loss: 0.43726, val_loss: 0.44199\n",
      "Epoch 181/250 - train_loss: 0.43726, val_loss: 0.44199\n",
      "Epoch 182/250 - train_loss: 0.43726, val_loss: 0.44199\n",
      "Epoch 183/250 - train_loss: 0.43726, val_loss: 0.44200\n",
      "Epoch 184/250 - train_loss: 0.43726, val_loss: 0.44199\n",
      "Epoch 185/250 - train_loss: 0.43726, val_loss: 0.44200\n",
      "Epoch 186/250 - train_loss: 0.43726, val_loss: 0.44199\n",
      "Epoch 187/250 - train_loss: 0.43726, val_loss: 0.44200\n",
      "Epoch 188/250 - train_loss: 0.43726, val_loss: 0.44199\n",
      "Epoch 189/250 - train_loss: 0.43726, val_loss: 0.44200\n",
      "Epoch 190/250 - train_loss: 0.43726, val_loss: 0.44198\n",
      "Epoch 191/250 - train_loss: 0.43726, val_loss: 0.44201\n",
      "Epoch 192/250 - train_loss: 0.43726, val_loss: 0.44197\n",
      "Epoch 193/250 - train_loss: 0.43726, val_loss: 0.44203\n",
      "Epoch 194/250 - train_loss: 0.43726, val_loss: 0.44195\n",
      "Epoch 195/250 - train_loss: 0.43726, val_loss: 0.44206\n",
      "Epoch 196/250 - train_loss: 0.43726, val_loss: 0.44190\n",
      "Epoch 197/250 - train_loss: 0.43726, val_loss: 0.44213\n",
      "Epoch 198/250 - train_loss: 0.43726, val_loss: 0.44178\n",
      "Epoch 199/250 - train_loss: 0.43726, val_loss: 0.44231\n",
      "Epoch 200/250 - train_loss: 0.43726, val_loss: 0.44150\n",
      "Epoch 201/250 - train_loss: 0.43727, val_loss: 0.44277\n",
      "Epoch 202/250 - train_loss: 0.43727, val_loss: 0.44081\n",
      "Epoch 203/250 - train_loss: 0.43728, val_loss: 0.44397\n",
      "Epoch 204/250 - train_loss: 0.43732, val_loss: 0.43909\n",
      "Epoch 205/250 - train_loss: 0.43739, val_loss: 0.44730\n",
      "Epoch 206/250 - train_loss: 0.43761, val_loss: 0.43525\n",
      "Epoch 207/250 - train_loss: 0.43807, val_loss: 0.45598\n",
      "Epoch 208/250 - train_loss: 0.43931, val_loss: 0.43039\n",
      "Epoch 209/250 - train_loss: 0.44021, val_loss: 0.46321\n",
      "Epoch 210/250 - train_loss: 0.44163, val_loss: 0.43330\n",
      "Epoch 211/250 - train_loss: 0.43849, val_loss: 0.43910\n",
      "Epoch 212/250 - train_loss: 0.43741, val_loss: 0.45321\n",
      "Epoch 213/250 - train_loss: 0.43891, val_loss: 0.43288\n",
      "Epoch 214/250 - train_loss: 0.43874, val_loss: 0.44493\n",
      "Epoch 215/250 - train_loss: 0.43766, val_loss: 0.44460\n",
      "Epoch 216/250 - train_loss: 0.43763, val_loss: 0.43364\n",
      "Epoch 217/250 - train_loss: 0.43838, val_loss: 0.44955\n",
      "Epoch 218/250 - train_loss: 0.43821, val_loss: 0.44003\n",
      "Epoch 219/250 - train_loss: 0.43736, val_loss: 0.43580\n",
      "Epoch 220/250 - train_loss: 0.43780, val_loss: 0.45106\n",
      "Epoch 221/250 - train_loss: 0.43843, val_loss: 0.43648\n",
      "Epoch 222/250 - train_loss: 0.43768, val_loss: 0.44111\n",
      "Epoch 223/250 - train_loss: 0.43729, val_loss: 0.44836\n",
      "Epoch 224/250 - train_loss: 0.43774, val_loss: 0.43562\n",
      "Epoch 225/250 - train_loss: 0.43801, val_loss: 0.44875\n",
      "Epoch 226/250 - train_loss: 0.43782, val_loss: 0.44007\n",
      "Epoch 227/250 - train_loss: 0.43734, val_loss: 0.44005\n",
      "Epoch 228/250 - train_loss: 0.43735, val_loss: 0.44864\n",
      "Epoch 229/250 - train_loss: 0.43774, val_loss: 0.43698\n",
      "Epoch 230/250 - train_loss: 0.43781, val_loss: 0.44728\n",
      "Epoch 231/250 - train_loss: 0.43760, val_loss: 0.44061\n",
      "Epoch 232/250 - train_loss: 0.43730, val_loss: 0.43993\n",
      "Epoch 233/250 - train_loss: 0.43734, val_loss: 0.44721\n",
      "Epoch 234/250 - train_loss: 0.43758, val_loss: 0.43798\n",
      "Epoch 235/250 - train_loss: 0.43755, val_loss: 0.44440\n",
      "Epoch 236/250 - train_loss: 0.43736, val_loss: 0.44205\n",
      "Epoch 237/250 - train_loss: 0.43727, val_loss: 0.43890\n",
      "Epoch 238/250 - train_loss: 0.43739, val_loss: 0.44587\n",
      "Epoch 239/250 - train_loss: 0.43748, val_loss: 0.43935\n",
      "Epoch 240/250 - train_loss: 0.43737, val_loss: 0.44202\n",
      "Epoch 241/250 - train_loss: 0.43727, val_loss: 0.44347\n",
      "Epoch 242/250 - train_loss: 0.43732, val_loss: 0.43885\n",
      "Epoch 243/250 - train_loss: 0.43739, val_loss: 0.44455\n",
      "Epoch 244/250 - train_loss: 0.43736, val_loss: 0.44094\n",
      "Epoch 245/250 - train_loss: 0.43728, val_loss: 0.44103\n",
      "Epoch 246/250 - train_loss: 0.43728, val_loss: 0.44408\n",
      "Epoch 247/250 - train_loss: 0.43733, val_loss: 0.43957\n",
      "Epoch 248/250 - train_loss: 0.43735, val_loss: 0.44379\n",
      "Epoch 249/250 - train_loss: 0.43731, val_loss: 0.44161\n",
      "Epoch 250/250 - train_loss: 0.43727, val_loss: 0.44126\n",
      "Executing fit_model took 1.29427 seconds.\n"
     ]
    }
   ],
   "source": [
    "@execution_time\n",
    "def fit_model():\n",
    "    model.fit(\n",
    "        x_train=X_train,\n",
    "        y_train=y_train,\n",
    "        x_val=X_val,\n",
    "        y_val=y_val,\n",
    "        learning_rate=0.3,\n",
    "        num_epochs=250\n",
    "    )\n",
    "    \n",
    "fit_model()"
   ],
   "metadata": {
    "collapsed": false,
    "ExecuteTime": {
     "end_time": "2024-01-31T21:06:30.139694400Z",
     "start_time": "2024-01-31T21:06:28.838335600Z"
    }
   },
   "id": "75d1afe1b9c5e95a",
   "execution_count": 14
  },
  {
   "cell_type": "markdown",
   "source": [
    "Remarkably, the training time with the customized variational function and JAX backend in FastQML has been reduced to approximately 1.29 seconds. This is a significant improvement, showcasing more than 5.5 times faster execution compared to the previous setup."
   ],
   "metadata": {
    "collapsed": false
   },
   "id": "35179d706b4248"
  },
  {
   "cell_type": "code",
   "outputs": [
    {
     "name": "stdout",
     "output_type": "stream",
     "text": [
      "              precision    recall  f1-score   support\n",
      "\n",
      "           0       0.88      0.88      0.88        16\n",
      "           1       0.95      0.95      0.95        41\n",
      "\n",
      "    accuracy                           0.93        57\n",
      "   macro avg       0.91      0.91      0.91        57\n",
      "weighted avg       0.93      0.93      0.93        57\n"
     ]
    },
    {
     "data": {
      "text/plain": "<Figure size 640x480 with 2 Axes>",
      "image/png": "[encoded data removed]"
     },
     "metadata": {},
     "output_type": "display_data"
    }
   ],
   "source": [
    "# Make predictions\n",
    "y_pred = model.predict(X_test)\n",
    "\n",
    "# Evaluate the classifier\n",
    "print(classification_report(y_test, y_pred))\n",
    "\n",
    "# Display confusion matrix\n",
    "cm = confusion_matrix(y_test, y_pred, labels=[0, 1])\n",
    "disp = ConfusionMatrixDisplay(confusion_matrix=cm, display_labels=['benign', 'malignant'])\n",
    "disp.plot(cmap='Greens')\n",
    "plt.show()"
   ],
   "metadata": {
    "collapsed": false,
    "ExecuteTime": {
     "end_time": "2024-01-31T21:06:38.673328400Z",
     "start_time": "2024-01-31T21:06:36.845470300Z"
    }
   },
   "id": "d1e5e9a410647864",
   "execution_count": 15
  },
  {
   "cell_type": "markdown",
   "source": [
    "With the implementation of custom variational functions and the JAX backend in FastQML, we have successfully improved the model's accuracy to approximately 93%\n",
    "\n",
    "Observing the variational loss, we noted that it plateaued after a certain number of epochs. This indicates an opportunity to optimize the training process further. To address this, we will implement the early stopping mechanism available in FastQML. Early stopping is a powerful technique that halts the training process once the model ceases to show improvement over a defined number of epochs. This approach not only saves computational resources but also prevents potential overfitting."
   ],
   "metadata": {
    "collapsed": false
   },
   "id": "cfcdcf14f92d393"
  },
  {
   "cell_type": "code",
   "outputs": [
    {
     "name": "stdout",
     "output_type": "stream",
     "text": [
      "Epoch 1/500 - train_loss: 0.45069, val_loss: 0.61952\n",
      "Epoch 2/500 - train_loss: 0.57415, val_loss: 0.48965\n",
      "Epoch 3/500 - train_loss: 0.45721, val_loss: 0.49919\n",
      "Epoch 4/500 - train_loss: 0.59428, val_loss: 0.47444\n",
      "Epoch 5/500 - train_loss: 0.46926, val_loss: 0.55835\n",
      "Epoch 6/500 - train_loss: 0.49749, val_loss: 0.61383\n",
      "Epoch 7/500 - train_loss: 0.53330, val_loss: 0.60520\n",
      "Epoch 8/500 - train_loss: 0.53082, val_loss: 0.55646\n",
      "Epoch 9/500 - train_loss: 0.50519, val_loss: 0.50259\n",
      "Epoch 10/500 - train_loss: 0.48484, val_loss: 0.47215\n",
      "Epoch 11/500 - train_loss: 0.48916, val_loss: 0.46549\n",
      "Epoch 12/500 - train_loss: 0.50325, val_loss: 0.46348\n",
      "Epoch 13/500 - train_loss: 0.49966, val_loss: 0.46335\n",
      "Epoch 14/500 - train_loss: 0.48172, val_loss: 0.47194\n",
      "Epoch 15/500 - train_loss: 0.46664, val_loss: 0.48763\n",
      "Epoch 16/500 - train_loss: 0.46193, val_loss: 0.49867\n",
      "Epoch 17/500 - train_loss: 0.46249, val_loss: 0.49697\n",
      "Epoch 18/500 - train_loss: 0.46231, val_loss: 0.48671\n",
      "Epoch 19/500 - train_loss: 0.46228, val_loss: 0.47587\n",
      "Epoch 20/500 - train_loss: 0.46397, val_loss: 0.46734\n",
      "Epoch 21/500 - train_loss: 0.46459, val_loss: 0.46200\n",
      "Epoch 22/500 - train_loss: 0.46209, val_loss: 0.46081\n",
      "Epoch 23/500 - train_loss: 0.45746, val_loss: 0.46316\n",
      "Epoch 24/500 - train_loss: 0.45253, val_loss: 0.46714\n",
      "Epoch 25/500 - train_loss: 0.44889, val_loss: 0.47051\n",
      "Epoch 26/500 - train_loss: 0.44767, val_loss: 0.47071\n",
      "Epoch 27/500 - train_loss: 0.44827, val_loss: 0.46630\n",
      "Epoch 28/500 - train_loss: 0.44880, val_loss: 0.45879\n",
      "Epoch 29/500 - train_loss: 0.44857, val_loss: 0.45206\n",
      "Epoch 30/500 - train_loss: 0.44879, val_loss: 0.44880\n",
      "Epoch 31/500 - train_loss: 0.44966, val_loss: 0.44817\n",
      "Epoch 32/500 - train_loss: 0.44879, val_loss: 0.44952\n",
      "Epoch 33/500 - train_loss: 0.44592, val_loss: 0.45370\n",
      "Epoch 34/500 - train_loss: 0.44430, val_loss: 0.45937\n",
      "Epoch 35/500 - train_loss: 0.44492, val_loss: 0.46309\n",
      "Epoch 36/500 - train_loss: 0.44564, val_loss: 0.46280\n",
      "Epoch 37/500 - train_loss: 0.44514, val_loss: 0.45916\n",
      "Epoch 38/500 - train_loss: 0.44423, val_loss: 0.45429\n",
      "Epoch 39/500 - train_loss: 0.44397, val_loss: 0.45008\n",
      "Epoch 40/500 - train_loss: 0.44398, val_loss: 0.44781\n",
      "Epoch 41/500 - train_loss: 0.44349, val_loss: 0.44828\n",
      "Epoch 42/500 - train_loss: 0.44284, val_loss: 0.45086\n",
      "Epoch 43/500 - train_loss: 0.44258, val_loss: 0.45357\n",
      "Epoch 44/500 - train_loss: 0.44241, val_loss: 0.45489\n",
      "Epoch 45/500 - train_loss: 0.44223, val_loss: 0.45449\n",
      "Epoch 46/500 - train_loss: 0.44234, val_loss: 0.45257\n",
      "Epoch 47/500 - train_loss: 0.44250, val_loss: 0.44977\n",
      "Epoch 48/500 - train_loss: 0.44225, val_loss: 0.44750\n",
      "Epoch 49/500 - train_loss: 0.44195, val_loss: 0.44695\n",
      "Epoch 50/500 - train_loss: 0.44204, val_loss: 0.44797\n",
      "Epoch 51/500 - train_loss: 0.44203, val_loss: 0.44983\n",
      "Epoch 52/500 - train_loss: 0.44173, val_loss: 0.45187\n",
      "Epoch 53/500 - train_loss: 0.44158, val_loss: 0.45312\n",
      "Epoch 54/500 - train_loss: 0.44164, val_loss: 0.45291\n",
      "Epoch 55/500 - train_loss: 0.44153, val_loss: 0.45152\n",
      "Epoch 56/500 - train_loss: 0.44135, val_loss: 0.44982\n",
      "Epoch 57/500 - train_loss: 0.44129, val_loss: 0.44851\n",
      "Epoch 58/500 - train_loss: 0.44120, val_loss: 0.44809\n",
      "Epoch 59/500 - train_loss: 0.44104, val_loss: 0.44871\n",
      "Epoch 60/500 - train_loss: 0.44106, val_loss: 0.44982\n",
      "Epoch 61/500 - train_loss: 0.44118, val_loss: 0.45060\n",
      "Epoch 62/500 - train_loss: 0.44120, val_loss: 0.45066\n",
      "Epoch 63/500 - train_loss: 0.44116, val_loss: 0.45001\n",
      "Epoch 64/500 - train_loss: 0.44112, val_loss: 0.44902\n",
      "Epoch 65/500 - train_loss: 0.44104, val_loss: 0.44835\n",
      "Epoch 66/500 - train_loss: 0.44098, val_loss: 0.44844\n",
      "Epoch 67/500 - train_loss: 0.44097, val_loss: 0.44919\n",
      "Epoch 68/500 - train_loss: 0.44094, val_loss: 0.45010\n",
      "Epoch 69/500 - train_loss: 0.44089, val_loss: 0.45059\n",
      "Epoch 70/500 - train_loss: 0.44090, val_loss: 0.45030\n",
      "Epoch 71/500 - train_loss: 0.44089, val_loss: 0.44934\n",
      "Epoch 72/500 - train_loss: 0.44082, val_loss: 0.44828\n",
      "Epoch 73/500 - train_loss: 0.44082, val_loss: 0.44764\n",
      "Epoch 74/500 - train_loss: 0.44087, val_loss: 0.44764\n",
      "Epoch 75/500 - train_loss: 0.44087, val_loss: 0.44818\n",
      "Epoch 76/500 - train_loss: 0.44084, val_loss: 0.44886\n",
      "Epoch 77/500 - train_loss: 0.44083, val_loss: 0.44922\n",
      "Epoch 78/500 - train_loss: 0.44081, val_loss: 0.44909\n",
      "Stopping early at epoch 79.\n",
      "Executing fit_model took 0.41307 seconds.\n"
     ]
    }
   ],
   "source": [
    "early_stopping = EarlyStopping()\n",
    "\n",
    "@execution_time\n",
    "def fit_model():\n",
    "    model.fit(\n",
    "        x_train=X_train,\n",
    "        y_train=y_train,\n",
    "        x_val=X_val,\n",
    "        y_val=y_val,\n",
    "        learning_rate=0.3,\n",
    "        num_epochs=500,\n",
    "        early_stopping=early_stopping\n",
    "    )\n",
    "    \n",
    "fit_model()"
   ],
   "metadata": {
    "collapsed": false,
    "ExecuteTime": {
     "end_time": "2024-01-31T21:06:52.057788400Z",
     "start_time": "2024-01-31T21:06:51.638693400Z"
    }
   },
   "id": "fa9327135c64d011",
   "execution_count": 17
  },
  {
   "cell_type": "code",
   "outputs": [
    {
     "name": "stdout",
     "output_type": "stream",
     "text": [
      "              precision    recall  f1-score   support\n",
      "\n",
      "           0       0.92      0.75      0.83        16\n",
      "           1       0.91      0.98      0.94        41\n",
      "\n",
      "    accuracy                           0.91        57\n",
      "   macro avg       0.92      0.86      0.88        57\n",
      "weighted avg       0.91      0.91      0.91        57\n"
     ]
    },
    {
     "data": {
      "text/plain": "<Figure size 640x480 with 2 Axes>",
      "image/png": "[encoded data removed]"
     },
     "metadata": {},
     "output_type": "display_data"
    }
   ],
   "source": [
    "# Make predictions\n",
    "y_pred = model.predict(X_test)\n",
    "\n",
    "# Evaluate the classifier\n",
    "print(classification_report(y_test, y_pred))\n",
    "\n",
    "# Display confusion matrix\n",
    "cm = confusion_matrix(y_test, y_pred, labels=[0, 1])\n",
    "disp = ConfusionMatrixDisplay(confusion_matrix=cm, display_labels=['benign', 'malignant'])\n",
    "disp.plot(cmap='Greens')\n",
    "plt.show()"
   ],
   "metadata": {
    "collapsed": false,
    "ExecuteTime": {
     "end_time": "2024-01-31T21:06:55.044287400Z",
     "start_time": "2024-01-31T21:06:53.702377600Z"
    }
   },
   "id": "b09b200bc2b14d9e",
   "execution_count": 18
  },
  {
   "cell_type": "markdown",
   "source": [
    "Cool, we have successfully achieved the same level of model accuracy, but in fewer epochs!"
   ],
   "metadata": {
    "collapsed": false
   },
   "id": "8b402c18cf777350"
  },
  {
   "cell_type": "code",
   "outputs": [],
   "source": [],
   "metadata": {
    "collapsed": false
   },
   "id": "3eaf3b46fe377f4d"
  }
 ],
 "metadata": {
  "kernelspec": {
   "display_name": "Python 3",
   "language": "python",
   "name": "python3"
  },
  "language_info": {
   "codemirror_mode": {
    "name": "ipython",
    "version": 2
   },
   "file_extension": ".py",
   "mimetype": "text/x-python",
   "name": "python",
   "nbconvert_exporter": "python",
   "pygments_lexer": "ipython2",
   "version": "2.7.6"
  }
 },
 "nbformat": 4,
 "nbformat_minor": 5
}
