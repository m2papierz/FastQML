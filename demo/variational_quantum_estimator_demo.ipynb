{
 "cells": [
  {
   "cell_type": "markdown",
   "source": [
    "### Binary Classification Using VQClassifier with JAX Backend in FastQML\n",
    "\n",
    "This demonstration showcases the FastQML library's capabilities in implementing and training Quantum Machine Learning (QML) models efficiently. FastQML, integrated with PennyLane, allows customizable components for each part of the model implementation. Here, we focus on employing the Variational Quantum Classifier (VQClassifier) for binary classification. The VQClassifier utilizes quantum circuits for data processing and is enhanced by JAX for accelerated CPU computations. The demo includes steps for setting up the quantum circuit, dataset preparation, and classifier execution, emphasizing FastQML's performance enhancements."
   ],
   "metadata": {
    "collapsed": false
   },
   "id": "71554a334fd27fd7"
  },
  {
   "cell_type": "code",
   "outputs": [],
   "source": [
    "import time\n",
    "import matplotlib.pyplot as plt\n",
    "from sklearn.datasets import load_breast_cancer\n",
    "from sklearn.model_selection import train_test_split\n",
    "from sklearn.metrics import classification_report\n",
    "from sklearn.preprocessing import MinMaxScaler\n",
    "from sklearn.metrics import confusion_matrix, ConfusionMatrixDisplay\n",
    "\n",
    "import fast_qml\n",
    "import pennylane as qml\n",
    "from fast_qml.quantum_circuits.feature_maps import AmplitudeEmbedding\n",
    "from fast_qml.quantum_circuits.variational_forms import TwoLocal, Ansatz\n",
    "from fast_qml.machine_learning.estimators.vqa import VQClassifier\n",
    "from fast_qml.machine_learning.callbacks import EarlyStopping"
   ],
   "metadata": {
    "collapsed": false,
    "ExecuteTime": {
     "end_time": "2024-01-31T21:14:36.048806100Z",
     "start_time": "2024-01-31T21:14:34.694430300Z"
    }
   },
   "id": "b0e243e0c0e69dc6",
   "execution_count": 1
  },
  {
   "cell_type": "markdown",
   "source": [
    "To compare the execution time of the training process across different backends (default PennyLane interface and JAX interface with Just-in-time compilation), we utilize a custom decorator. This decorator measures and displays the execution time of the function it wraps, providing insights into the performance improvements offered by JAX."
   ],
   "metadata": {
    "collapsed": false
   },
   "id": "3f0eeb6efd06f329"
  },
  {
   "cell_type": "code",
   "outputs": [],
   "source": [
    "def execution_time(func):\n",
    "    \"\"\"\n",
    "    A decorator that prints the execution time of the function it decorates.\n",
    "    \"\"\"\n",
    "    def wrapper(*args, **kwargs):\n",
    "        start_time = time.time()\n",
    "        result = func(*args, **kwargs) \n",
    "        end_time = time.time()\n",
    "        print(f\"Executing {func.__name__} took {end_time - start_time:.5f} seconds.\")\n",
    "        return result\n",
    "    return wrapper"
   ],
   "metadata": {
    "collapsed": false,
    "ExecuteTime": {
     "end_time": "2024-01-31T21:14:36.048806100Z",
     "start_time": "2024-01-31T21:14:36.046297200Z"
    }
   },
   "id": "5ff678bb087b7728",
   "execution_count": 2
  },
  {
   "cell_type": "markdown",
   "source": [
    "The breast cancer dataset from sklearn serves as our binary classification task. This dataset, derived from digitized images of fine needle aspirates of breast masses, contains 30 features representing cell nuclei characteristics. The classification task is to categorize these instances as benign or malignant.\n",
    "\n",
    "We begin by normalizing the data and dividing it into training, validation, and testing sets. This step is crucial for a comprehensive evaluation of the VQClassifier's performance."
   ],
   "metadata": {
    "collapsed": false
   },
   "id": "607b6bc055aa37c0"
  },
  {
   "cell_type": "code",
   "outputs": [
    {
     "name": "stdout",
     "output_type": "stream",
     "text": [
      "(455, 30) (57, 30) (57, 30)\n"
     ]
    }
   ],
   "source": [
    "# Load the breast cancer dataset\n",
    "data = load_breast_cancer()\n",
    "X, y = data.data, data.target\n",
    "\n",
    "# Normalize the data\n",
    "scaler = MinMaxScaler()\n",
    "X_normalized = scaler.fit_transform(X)\n",
    "\n",
    "# Split the dataset into training and testing sets\n",
    "X_train, X_test, y_train, y_test = train_test_split(\n",
    "    X_normalized, y, test_size=0.2, random_state=42)\n",
    "\n",
    "X_val, X_test, y_val, y_test = train_test_split(\n",
    "    X_test, y_test, test_size=0.5, random_state=42)\n",
    "\n",
    "print(X_train.shape, X_test.shape, X_val.shape)"
   ],
   "metadata": {
    "collapsed": false,
    "ExecuteTime": {
     "end_time": "2024-01-31T21:14:36.073824900Z",
     "start_time": "2024-01-31T21:14:36.048806100Z"
    }
   },
   "id": "100ca38e1b11823f",
   "execution_count": 3
  },
  {
   "cell_type": "markdown",
   "source": [
    "In this step, we will construct the fundamental components of our quantum classifier using FastQML: the feature map and the ansatz. The feature map's role is to encode classical data into a quantum state. For this purpose, we will utilize the AmplitudeEmbedding method from FastQML, which efficiently encodes data into quantum states. Given that a single sample from our dataset contains 30 features, and AmplitudeEmbedding can encode 2^qubits_number of features, we will use 5 qubits. This configuration allows us to encode up to 32 features, with the last two being padded with 0.0 to fit our data structure.\n",
    "\n",
    "Next, we will set up the ansatz for our quantum classifier. The ansatz, composed of a sequence of quantum gates, is responsible for processing the quantum data. In this demonstration, we will employ the TwoLocal form available in FastQML. The TwoLocal form is a versatile and commonly used ansatz, and we will use it with its default parameters. This choice provides a balance between simplicity and the ability to demonstrate the essential features of quantum data processing in FastQML.\n",
    "\n",
    "By following these steps, we effectively establish the quantum environment necessary for our classifier, showcasing the ease and flexibility of feature mapping and ansatz configuration in FastQML."
   ],
   "metadata": {
    "collapsed": false
   },
   "id": "9cf572ffc61940f2"
  },
  {
   "cell_type": "code",
   "outputs": [],
   "source": [
    "# With 5 qubits we have 2^5=32 features at maximum to be encoded\n",
    "n_qubits = 5\n",
    "\n",
    "# Create AmplitudeEmbedding feature map with 0.0 padding\n",
    "feature_map = AmplitudeEmbedding(\n",
    "    n_qubits=n_qubits,\n",
    "    pad_with=0.0\n",
    ")\n",
    "\n",
    "# TwoLocal ansatz with default parameters\n",
    "ansatz = TwoLocal(\n",
    "    n_qubits=n_qubits,\n",
    "    controlled_gate='CNOT',\n",
    "    entanglement='linear',\n",
    "    skip_last_rotations=False,\n",
    "    reps=2\n",
    ")"
   ],
   "metadata": {
    "collapsed": false,
    "ExecuteTime": {
     "end_time": "2024-01-31T21:14:36.234977400Z",
     "start_time": "2024-01-31T21:14:36.232730200Z"
    }
   },
   "id": "3aa9d78a28342207",
   "execution_count": 4
  },
  {
   "cell_type": "code",
   "outputs": [],
   "source": [
    "# Create VQClassifier model with defined ansatz and feature map\n",
    "model = VQClassifier(\n",
    "    n_qubits=n_qubits,\n",
    "    feature_map=feature_map,\n",
    "    ansatz=ansatz,\n",
    "    classes_num=2\n",
    ")"
   ],
   "metadata": {
    "collapsed": false,
    "ExecuteTime": {
     "end_time": "2024-01-31T21:14:36.520271400Z",
     "start_time": "2024-01-31T21:14:36.516188200Z"
    }
   },
   "id": "8f73d4a4c010ee72",
   "execution_count": 5
  },
  {
   "cell_type": "markdown",
   "source": [
    "To better understand the structure of our quantum circuit, we can visualize it with build-in _draw_circuit()_ method. It can be usefully in debugging and optimizing the quantum circuit design."
   ],
   "metadata": {
    "collapsed": false
   },
   "id": "907e7ba66dd72acd"
  },
  {
   "cell_type": "code",
   "outputs": [
    {
     "name": "stdout",
     "output_type": "stream",
     "text": [
      "0: ─╭|Ψ⟩──RY(0.02)─╭●───────────||──RY(0.07)─╭●───────────||──RY(0.07)─┤  \n",
      "1: ─├|Ψ⟩──RY(0.07)─╰X─╭●────────||──RY(0.05)─╰X─╭●────────||──RY(0.07)─┤  \n",
      "2: ─├|Ψ⟩──RY(0.02)────╰X─╭●─────||──RY(0.05)────╰X─╭●─────||──RY(0.04)─┤  \n",
      "3: ─├|Ψ⟩──RY(0.08)───────╰X─╭●──||──RY(0.00)───────╰X─╭●──||──RY(0.05)─┤  \n",
      "4: ─╰|Ψ⟩──RY(0.03)──────────╰X──||──RY(0.02)──────────╰X──||──RY(0.02)─┤  \n"
     ]
    }
   ],
   "source": [
    "model.draw_circuit()"
   ],
   "metadata": {
    "collapsed": false,
    "ExecuteTime": {
     "end_time": "2024-01-31T21:14:37.394299200Z",
     "start_time": "2024-01-31T21:14:37.390287400Z"
    }
   },
   "id": "ce82af9be5148cc2",
   "execution_count": 6
  },
  {
   "cell_type": "markdown",
   "source": [
    "At this stage, we are ready to train our quantum classifier using FastQML. The training process is designed to optimize the model's parameters based on the training data, while also incorporating validation data to ensure robustness and generalizability. To proceed with training, we will set the number of epochs to 250. An epoch is a complete pass through the entire training dataset, and this number determines the duration of the training process. The choice of 250 epochs allows for a thorough optimization of the model's parameters.\n",
    "\n",
    "Additionally, we will set the learning rate to 0.3. The learning rate is a crucial hyperparameter in machine learning that influences the rate at which the model learns. A learning rate of 0.3 is selected to balance the speed of convergence and the stability of the training process."
   ],
   "metadata": {
    "collapsed": false
   },
   "id": "b695defa137ac0e0"
  },
  {
   "cell_type": "code",
   "outputs": [
    {
     "name": "stdout",
     "output_type": "stream",
     "text": [
      "Epoch 1/250 - train_loss: 0.68308, val_loss: 0.64167\n",
      "Epoch 2/250 - train_loss: 0.66867, val_loss: 0.72571\n",
      "Epoch 3/250 - train_loss: 0.70547, val_loss: 0.78897\n",
      "Epoch 4/250 - train_loss: 0.73097, val_loss: 0.81872\n",
      "Epoch 5/250 - train_loss: 0.73735, val_loss: 0.82903\n",
      "Epoch 6/250 - train_loss: 0.71338, val_loss: 0.79555\n",
      "Epoch 7/250 - train_loss: 0.67506, val_loss: 0.71630\n",
      "Epoch 8/250 - train_loss: 0.72380, val_loss: 0.69874\n",
      "Epoch 9/250 - train_loss: 0.70510, val_loss: 0.69310\n",
      "Epoch 10/250 - train_loss: 0.67408, val_loss: 0.70153\n",
      "Epoch 11/250 - train_loss: 0.68034, val_loss: 0.74528\n",
      "Epoch 12/250 - train_loss: 0.69395, val_loss: 0.77878\n",
      "Epoch 13/250 - train_loss: 0.69159, val_loss: 0.77765\n",
      "Epoch 14/250 - train_loss: 0.67510, val_loss: 0.74653\n",
      "Epoch 15/250 - train_loss: 0.65965, val_loss: 0.70343\n",
      "Epoch 16/250 - train_loss: 0.66198, val_loss: 0.67413\n",
      "Epoch 17/250 - train_loss: 0.66906, val_loss: 0.66538\n",
      "Epoch 18/250 - train_loss: 0.65656, val_loss: 0.66496\n",
      "Epoch 19/250 - train_loss: 0.64298, val_loss: 0.67637\n",
      "Epoch 20/250 - train_loss: 0.63980, val_loss: 0.69378\n",
      "Epoch 21/250 - train_loss: 0.64009, val_loss: 0.70339\n",
      "Epoch 22/250 - train_loss: 0.63940, val_loss: 0.70202\n",
      "Epoch 23/250 - train_loss: 0.63893, val_loss: 0.69456\n",
      "Epoch 24/250 - train_loss: 0.64075, val_loss: 0.68658\n",
      "Epoch 25/250 - train_loss: 0.64434, val_loss: 0.68084\n",
      "Epoch 26/250 - train_loss: 0.64636, val_loss: 0.67715\n",
      "Epoch 27/250 - train_loss: 0.64421, val_loss: 0.67484\n",
      "Epoch 28/250 - train_loss: 0.63934, val_loss: 0.67479\n",
      "Epoch 29/250 - train_loss: 0.63537, val_loss: 0.67775\n",
      "Epoch 30/250 - train_loss: 0.63389, val_loss: 0.68228\n",
      "Epoch 31/250 - train_loss: 0.63400, val_loss: 0.68559\n",
      "Epoch 32/250 - train_loss: 0.63429, val_loss: 0.68568\n",
      "Epoch 33/250 - train_loss: 0.63411, val_loss: 0.68237\n",
      "Epoch 34/250 - train_loss: 0.63361, val_loss: 0.67709\n",
      "Epoch 35/250 - train_loss: 0.63294, val_loss: 0.67210\n",
      "Epoch 36/250 - train_loss: 0.63176, val_loss: 0.66923\n",
      "Epoch 37/250 - train_loss: 0.62979, val_loss: 0.66910\n",
      "Epoch 38/250 - train_loss: 0.62734, val_loss: 0.67103\n",
      "Epoch 39/250 - train_loss: 0.62485, val_loss: 0.67342\n",
      "Epoch 40/250 - train_loss: 0.62240, val_loss: 0.67454\n",
      "Epoch 41/250 - train_loss: 0.61995, val_loss: 0.67354\n",
      "Epoch 42/250 - train_loss: 0.61772, val_loss: 0.67080\n",
      "Epoch 43/250 - train_loss: 0.61605, val_loss: 0.66766\n",
      "Epoch 44/250 - train_loss: 0.61495, val_loss: 0.66554\n",
      "Epoch 45/250 - train_loss: 0.61400, val_loss: 0.66522\n",
      "Epoch 46/250 - train_loss: 0.61283, val_loss: 0.66666\n",
      "Epoch 47/250 - train_loss: 0.61146, val_loss: 0.66917\n",
      "Epoch 48/250 - train_loss: 0.61002, val_loss: 0.67165\n",
      "Epoch 49/250 - train_loss: 0.60840, val_loss: 0.67279\n",
      "Epoch 50/250 - train_loss: 0.60639, val_loss: 0.67146\n",
      "Epoch 51/250 - train_loss: 0.60401, val_loss: 0.66731\n",
      "Epoch 52/250 - train_loss: 0.60158, val_loss: 0.66112\n",
      "Epoch 53/250 - train_loss: 0.59935, val_loss: 0.65468\n",
      "Epoch 54/250 - train_loss: 0.59702, val_loss: 0.64980\n",
      "Epoch 55/250 - train_loss: 0.59416, val_loss: 0.64725\n",
      "Epoch 56/250 - train_loss: 0.59098, val_loss: 0.64625\n",
      "Epoch 57/250 - train_loss: 0.58762, val_loss: 0.64450\n",
      "Epoch 58/250 - train_loss: 0.58362, val_loss: 0.63961\n",
      "Epoch 59/250 - train_loss: 0.57881, val_loss: 0.63118\n",
      "Epoch 60/250 - train_loss: 0.57351, val_loss: 0.62141\n",
      "Epoch 61/250 - train_loss: 0.56752, val_loss: 0.61276\n",
      "Epoch 62/250 - train_loss: 0.56039, val_loss: 0.60560\n",
      "Epoch 63/250 - train_loss: 0.55259, val_loss: 0.59830\n",
      "Epoch 64/250 - train_loss: 0.54459, val_loss: 0.58860\n",
      "Epoch 65/250 - train_loss: 0.53667, val_loss: 0.57575\n",
      "Epoch 66/250 - train_loss: 0.52952, val_loss: 0.56141\n",
      "Epoch 67/250 - train_loss: 0.52355, val_loss: 0.54791\n",
      "Epoch 68/250 - train_loss: 0.51900, val_loss: 0.53683\n",
      "Epoch 69/250 - train_loss: 0.51637, val_loss: 0.52856\n",
      "Epoch 70/250 - train_loss: 0.51584, val_loss: 0.52249\n",
      "Epoch 71/250 - train_loss: 0.51694, val_loss: 0.51792\n",
      "Epoch 72/250 - train_loss: 0.51877, val_loss: 0.51466\n",
      "Epoch 73/250 - train_loss: 0.52029, val_loss: 0.51271\n",
      "Epoch 74/250 - train_loss: 0.52064, val_loss: 0.51196\n",
      "Epoch 75/250 - train_loss: 0.51964, val_loss: 0.51211\n",
      "Epoch 76/250 - train_loss: 0.51765, val_loss: 0.51277\n",
      "Epoch 77/250 - train_loss: 0.51521, val_loss: 0.51355\n",
      "Epoch 78/250 - train_loss: 0.51280, val_loss: 0.51437\n",
      "Epoch 79/250 - train_loss: 0.51086, val_loss: 0.51556\n",
      "Epoch 80/250 - train_loss: 0.50967, val_loss: 0.51758\n",
      "Epoch 81/250 - train_loss: 0.50929, val_loss: 0.52062\n",
      "Epoch 82/250 - train_loss: 0.50958, val_loss: 0.52427\n",
      "Epoch 83/250 - train_loss: 0.51029, val_loss: 0.52780\n",
      "Epoch 84/250 - train_loss: 0.51111, val_loss: 0.53059\n",
      "Epoch 85/250 - train_loss: 0.51182, val_loss: 0.53256\n",
      "Epoch 86/250 - train_loss: 0.51231, val_loss: 0.53398\n",
      "Epoch 87/250 - train_loss: 0.51253, val_loss: 0.53495\n",
      "Epoch 88/250 - train_loss: 0.51246, val_loss: 0.53524\n",
      "Epoch 89/250 - train_loss: 0.51216, val_loss: 0.53446\n",
      "Epoch 90/250 - train_loss: 0.51166, val_loss: 0.53256\n",
      "Epoch 91/250 - train_loss: 0.51109, val_loss: 0.52998\n",
      "Epoch 92/250 - train_loss: 0.51057, val_loss: 0.52737\n",
      "Epoch 93/250 - train_loss: 0.51020, val_loss: 0.52509\n",
      "Epoch 94/250 - train_loss: 0.51002, val_loss: 0.52313\n",
      "Epoch 95/250 - train_loss: 0.51000, val_loss: 0.52138\n",
      "Epoch 96/250 - train_loss: 0.51009, val_loss: 0.51984\n",
      "Epoch 97/250 - train_loss: 0.51023, val_loss: 0.51872\n",
      "Epoch 98/250 - train_loss: 0.51035, val_loss: 0.51815\n",
      "Epoch 99/250 - train_loss: 0.51041, val_loss: 0.51805\n",
      "Epoch 100/250 - train_loss: 0.51036, val_loss: 0.51813\n",
      "Epoch 101/250 - train_loss: 0.51020, val_loss: 0.51820\n",
      "Epoch 102/250 - train_loss: 0.50997, val_loss: 0.51831\n",
      "Epoch 103/250 - train_loss: 0.50972, val_loss: 0.51864\n",
      "Epoch 104/250 - train_loss: 0.50951, val_loss: 0.51933\n",
      "Epoch 105/250 - train_loss: 0.50936, val_loss: 0.52031\n",
      "Epoch 106/250 - train_loss: 0.50928, val_loss: 0.52135\n",
      "Epoch 107/250 - train_loss: 0.50926, val_loss: 0.52231\n",
      "Epoch 108/250 - train_loss: 0.50929, val_loss: 0.52316\n",
      "Epoch 109/250 - train_loss: 0.50934, val_loss: 0.52394\n",
      "Epoch 110/250 - train_loss: 0.50939, val_loss: 0.52458\n",
      "Epoch 111/250 - train_loss: 0.50941, val_loss: 0.52489\n",
      "Epoch 112/250 - train_loss: 0.50940, val_loss: 0.52475\n",
      "Epoch 113/250 - train_loss: 0.50936, val_loss: 0.52427\n",
      "Epoch 114/250 - train_loss: 0.50931, val_loss: 0.52365\n",
      "Epoch 115/250 - train_loss: 0.50926, val_loss: 0.52305\n",
      "Epoch 116/250 - train_loss: 0.50922, val_loss: 0.52247\n",
      "Epoch 117/250 - train_loss: 0.50919, val_loss: 0.52185\n",
      "Epoch 118/250 - train_loss: 0.50919, val_loss: 0.52122\n",
      "Epoch 119/250 - train_loss: 0.50921, val_loss: 0.52068\n",
      "Epoch 120/250 - train_loss: 0.50923, val_loss: 0.52033\n",
      "Epoch 121/250 - train_loss: 0.50926, val_loss: 0.52010\n",
      "Epoch 122/250 - train_loss: 0.50927, val_loss: 0.51993\n",
      "Epoch 123/250 - train_loss: 0.50927, val_loss: 0.51980\n",
      "Epoch 124/250 - train_loss: 0.50926, val_loss: 0.51980\n",
      "Epoch 125/250 - train_loss: 0.50925, val_loss: 0.52000\n",
      "Epoch 126/250 - train_loss: 0.50922, val_loss: 0.52037\n",
      "Epoch 127/250 - train_loss: 0.50920, val_loss: 0.52079\n",
      "Epoch 128/250 - train_loss: 0.50919, val_loss: 0.52119\n",
      "Epoch 129/250 - train_loss: 0.50919, val_loss: 0.52155\n",
      "Epoch 130/250 - train_loss: 0.50919, val_loss: 0.52190\n",
      "Epoch 131/250 - train_loss: 0.50920, val_loss: 0.52220\n",
      "Epoch 132/250 - train_loss: 0.50920, val_loss: 0.52236\n",
      "Epoch 133/250 - train_loss: 0.50920, val_loss: 0.52238\n",
      "Epoch 134/250 - train_loss: 0.50920, val_loss: 0.52232\n",
      "Epoch 135/250 - train_loss: 0.50919, val_loss: 0.52224\n",
      "Epoch 136/250 - train_loss: 0.50918, val_loss: 0.52214\n",
      "Epoch 137/250 - train_loss: 0.50918, val_loss: 0.52198\n",
      "Epoch 138/250 - train_loss: 0.50917, val_loss: 0.52175\n",
      "Epoch 139/250 - train_loss: 0.50917, val_loss: 0.52150\n",
      "Epoch 140/250 - train_loss: 0.50917, val_loss: 0.52130\n",
      "Epoch 141/250 - train_loss: 0.50917, val_loss: 0.52114\n",
      "Epoch 142/250 - train_loss: 0.50917, val_loss: 0.52098\n",
      "Epoch 143/250 - train_loss: 0.50918, val_loss: 0.52087\n",
      "Epoch 144/250 - train_loss: 0.50918, val_loss: 0.52085\n",
      "Epoch 145/250 - train_loss: 0.50918, val_loss: 0.52093\n",
      "Epoch 146/250 - train_loss: 0.50917, val_loss: 0.52105\n",
      "Epoch 147/250 - train_loss: 0.50917, val_loss: 0.52117\n",
      "Epoch 148/250 - train_loss: 0.50917, val_loss: 0.52128\n",
      "Epoch 149/250 - train_loss: 0.50917, val_loss: 0.52142\n",
      "Epoch 150/250 - train_loss: 0.50917, val_loss: 0.52155\n",
      "Epoch 151/250 - train_loss: 0.50917, val_loss: 0.52166\n",
      "Epoch 152/250 - train_loss: 0.50917, val_loss: 0.52171\n",
      "Epoch 153/250 - train_loss: 0.50917, val_loss: 0.52176\n",
      "Epoch 154/250 - train_loss: 0.50917, val_loss: 0.52179\n",
      "Epoch 155/250 - train_loss: 0.50917, val_loss: 0.52179\n",
      "Epoch 156/250 - train_loss: 0.50917, val_loss: 0.52173\n",
      "Epoch 157/250 - train_loss: 0.50917, val_loss: 0.52164\n",
      "Epoch 158/250 - train_loss: 0.50917, val_loss: 0.52155\n",
      "Epoch 159/250 - train_loss: 0.50917, val_loss: 0.52146\n",
      "Epoch 160/250 - train_loss: 0.50917, val_loss: 0.52137\n",
      "Epoch 161/250 - train_loss: 0.50917, val_loss: 0.52129\n",
      "Epoch 162/250 - train_loss: 0.50917, val_loss: 0.52124\n",
      "Epoch 163/250 - train_loss: 0.50917, val_loss: 0.52123\n",
      "Epoch 164/250 - train_loss: 0.50917, val_loss: 0.52124\n",
      "Epoch 165/250 - train_loss: 0.50917, val_loss: 0.52126\n",
      "Epoch 166/250 - train_loss: 0.50917, val_loss: 0.52128\n",
      "Epoch 167/250 - train_loss: 0.50917, val_loss: 0.52133\n",
      "Epoch 168/250 - train_loss: 0.50917, val_loss: 0.52138\n",
      "Epoch 169/250 - train_loss: 0.50917, val_loss: 0.52143\n",
      "Epoch 170/250 - train_loss: 0.50917, val_loss: 0.52148\n",
      "Epoch 171/250 - train_loss: 0.50917, val_loss: 0.52152\n",
      "Epoch 172/250 - train_loss: 0.50917, val_loss: 0.52155\n",
      "Epoch 173/250 - train_loss: 0.50917, val_loss: 0.52156\n",
      "Epoch 174/250 - train_loss: 0.50917, val_loss: 0.52155\n",
      "Epoch 175/250 - train_loss: 0.50917, val_loss: 0.52152\n",
      "Epoch 176/250 - train_loss: 0.50917, val_loss: 0.52149\n",
      "Epoch 177/250 - train_loss: 0.50917, val_loss: 0.52146\n",
      "Epoch 178/250 - train_loss: 0.50917, val_loss: 0.52142\n",
      "Epoch 179/250 - train_loss: 0.50917, val_loss: 0.52139\n",
      "Epoch 180/250 - train_loss: 0.50917, val_loss: 0.52137\n",
      "Epoch 181/250 - train_loss: 0.50917, val_loss: 0.52136\n",
      "Epoch 182/250 - train_loss: 0.50917, val_loss: 0.52135\n",
      "Epoch 183/250 - train_loss: 0.50917, val_loss: 0.52135\n",
      "Epoch 184/250 - train_loss: 0.50917, val_loss: 0.52136\n",
      "Epoch 185/250 - train_loss: 0.50917, val_loss: 0.52139\n",
      "Epoch 186/250 - train_loss: 0.50917, val_loss: 0.52141\n",
      "Epoch 187/250 - train_loss: 0.50917, val_loss: 0.52143\n",
      "Epoch 188/250 - train_loss: 0.50917, val_loss: 0.52146\n",
      "Epoch 189/250 - train_loss: 0.50917, val_loss: 0.52148\n",
      "Epoch 190/250 - train_loss: 0.50917, val_loss: 0.52148\n",
      "Epoch 191/250 - train_loss: 0.50917, val_loss: 0.52148\n",
      "Epoch 192/250 - train_loss: 0.50917, val_loss: 0.52148\n",
      "Epoch 193/250 - train_loss: 0.50917, val_loss: 0.52147\n",
      "Epoch 194/250 - train_loss: 0.50917, val_loss: 0.52146\n",
      "Epoch 195/250 - train_loss: 0.50917, val_loss: 0.52145\n",
      "Epoch 196/250 - train_loss: 0.50917, val_loss: 0.52143\n",
      "Epoch 197/250 - train_loss: 0.50917, val_loss: 0.52142\n",
      "Epoch 198/250 - train_loss: 0.50917, val_loss: 0.52141\n",
      "Epoch 199/250 - train_loss: 0.50917, val_loss: 0.52140\n",
      "Epoch 200/250 - train_loss: 0.50917, val_loss: 0.52140\n",
      "Epoch 201/250 - train_loss: 0.50917, val_loss: 0.52141\n",
      "Epoch 202/250 - train_loss: 0.50917, val_loss: 0.52141\n",
      "Epoch 203/250 - train_loss: 0.50917, val_loss: 0.52142\n",
      "Epoch 204/250 - train_loss: 0.50917, val_loss: 0.52143\n",
      "Epoch 205/250 - train_loss: 0.50917, val_loss: 0.52144\n",
      "Epoch 206/250 - train_loss: 0.50917, val_loss: 0.52145\n",
      "Epoch 207/250 - train_loss: 0.50917, val_loss: 0.52145\n",
      "Epoch 208/250 - train_loss: 0.50917, val_loss: 0.52145\n",
      "Epoch 209/250 - train_loss: 0.50917, val_loss: 0.52145\n",
      "Epoch 210/250 - train_loss: 0.50917, val_loss: 0.52145\n",
      "Epoch 211/250 - train_loss: 0.50917, val_loss: 0.52144\n",
      "Epoch 212/250 - train_loss: 0.50917, val_loss: 0.52144\n",
      "Epoch 213/250 - train_loss: 0.50917, val_loss: 0.52143\n",
      "Epoch 214/250 - train_loss: 0.50917, val_loss: 0.52142\n",
      "Epoch 215/250 - train_loss: 0.50917, val_loss: 0.52142\n",
      "Epoch 216/250 - train_loss: 0.50917, val_loss: 0.52142\n",
      "Epoch 217/250 - train_loss: 0.50917, val_loss: 0.52142\n",
      "Epoch 218/250 - train_loss: 0.50917, val_loss: 0.52142\n",
      "Epoch 219/250 - train_loss: 0.50917, val_loss: 0.52142\n",
      "Epoch 220/250 - train_loss: 0.50917, val_loss: 0.52143\n",
      "Epoch 221/250 - train_loss: 0.50917, val_loss: 0.52143\n",
      "Epoch 222/250 - train_loss: 0.50917, val_loss: 0.52144\n",
      "Epoch 223/250 - train_loss: 0.50917, val_loss: 0.52144\n",
      "Epoch 224/250 - train_loss: 0.50917, val_loss: 0.52144\n",
      "Epoch 225/250 - train_loss: 0.50917, val_loss: 0.52144\n",
      "Epoch 226/250 - train_loss: 0.50917, val_loss: 0.52144\n",
      "Epoch 227/250 - train_loss: 0.50917, val_loss: 0.52144\n",
      "Epoch 228/250 - train_loss: 0.50917, val_loss: 0.52143\n",
      "Epoch 229/250 - train_loss: 0.50917, val_loss: 0.52143\n",
      "Epoch 230/250 - train_loss: 0.50917, val_loss: 0.52143\n",
      "Epoch 231/250 - train_loss: 0.50917, val_loss: 0.52143\n",
      "Epoch 232/250 - train_loss: 0.50917, val_loss: 0.52143\n",
      "Epoch 233/250 - train_loss: 0.50917, val_loss: 0.52143\n",
      "Epoch 234/250 - train_loss: 0.50917, val_loss: 0.52143\n",
      "Epoch 235/250 - train_loss: 0.50917, val_loss: 0.52143\n",
      "Epoch 236/250 - train_loss: 0.50917, val_loss: 0.52143\n",
      "Epoch 237/250 - train_loss: 0.50917, val_loss: 0.52143\n",
      "Epoch 238/250 - train_loss: 0.50917, val_loss: 0.52144\n",
      "Epoch 239/250 - train_loss: 0.50917, val_loss: 0.52144\n",
      "Epoch 240/250 - train_loss: 0.50917, val_loss: 0.52144\n",
      "Epoch 241/250 - train_loss: 0.50917, val_loss: 0.52144\n",
      "Epoch 242/250 - train_loss: 0.50917, val_loss: 0.52143\n",
      "Epoch 243/250 - train_loss: 0.50917, val_loss: 0.52143\n",
      "Epoch 244/250 - train_loss: 0.50917, val_loss: 0.52143\n",
      "Epoch 245/250 - train_loss: 0.50917, val_loss: 0.52143\n",
      "Epoch 246/250 - train_loss: 0.50917, val_loss: 0.52143\n",
      "Epoch 247/250 - train_loss: 0.50917, val_loss: 0.52143\n",
      "Epoch 248/250 - train_loss: 0.50917, val_loss: 0.52143\n",
      "Epoch 249/250 - train_loss: 0.50917, val_loss: 0.52143\n",
      "Epoch 250/250 - train_loss: 0.50917, val_loss: 0.52143\n",
      "Executing fit_model took 7.47274 seconds.\n"
     ]
    }
   ],
   "source": [
    "@execution_time\n",
    "def fit_model():\n",
    "    model.fit(\n",
    "        x_train=X_train,\n",
    "        y_train=y_train,\n",
    "        x_val=X_val,\n",
    "        y_val=y_val,\n",
    "        num_epochs=250,\n",
    "        learning_rate=0.3\n",
    "    )\n",
    "    \n",
    "fit_model()"
   ],
   "metadata": {
    "collapsed": false,
    "ExecuteTime": {
     "end_time": "2024-01-31T21:14:45.793269900Z",
     "start_time": "2024-01-31T21:14:38.314039Z"
    }
   },
   "id": "be197712bd816304",
   "execution_count": 7
  },
  {
   "cell_type": "markdown",
   "source": [
    "We trained the model in **~7.47 seconds**.\n",
    "\n",
    "With the model now trained, our next step is to evaluate its performance on the test data. In order to present the model's performance Scikit-learn _classification_report_ and _ConfusionMatrixDisplay_ methods will be used."
   ],
   "metadata": {
    "collapsed": false
   },
   "id": "4bba96af9c2c9fa4"
  },
  {
   "cell_type": "code",
   "outputs": [
    {
     "name": "stdout",
     "output_type": "stream",
     "text": [
      "              precision    recall  f1-score   support\n",
      "\n",
      "           0       0.64      0.56      0.60        16\n",
      "           1       0.84      0.88      0.86        41\n",
      "\n",
      "    accuracy                           0.79        57\n",
      "   macro avg       0.74      0.72      0.73        57\n",
      "weighted avg       0.78      0.79      0.78        57\n"
     ]
    },
    {
     "data": {
      "text/plain": "<Figure size 640x480 with 2 Axes>",
      "image/png": "[encoded data removed]"
     },
     "metadata": {},
     "output_type": "display_data"
    }
   ],
   "source": [
    "# Make predictions\n",
    "y_pred = model.predict(X_test)\n",
    "\n",
    "# Evaluate the classifier\n",
    "print(classification_report(y_test, y_pred))\n",
    "\n",
    "# Display confusion matrix\n",
    "cm = confusion_matrix(y_test, y_pred, labels=[0, 1])\n",
    "disp = ConfusionMatrixDisplay(confusion_matrix=cm, display_labels=['benign', 'malignant'])\n",
    "disp.plot(cmap='Greens')\n",
    "plt.show()"
   ],
   "metadata": {
    "collapsed": false,
    "ExecuteTime": {
     "end_time": "2024-01-31T21:14:52.776251100Z",
     "start_time": "2024-01-31T21:14:52.509935800Z"
    }
   },
   "id": "fad9248642ccc4d",
   "execution_count": 8
  },
  {
   "cell_type": "markdown",
   "source": [
    "Having achieved approximately 80% accuracy with our current model setup, our next objective is to enhance the model's performance while also aiming for a more efficient training time. To accomplish this, we will explore the customization capabilities of FastQML by implementing a custom variational function.\n",
    "\n",
    "Furthermore, we will utilize the JAX backend for training. The JAX backend in FastQML is known for its efficiency in computation, particularly beneficial for quantum machine learning tasks. By leveraging Just-in-Time (JIT) compilation and other optimization features of JAX, we anticipate a reduction in training time without compromising the model's performance."
   ],
   "metadata": {
    "collapsed": false
   },
   "id": "7d3dd40ac60f3548"
  },
  {
   "cell_type": "code",
   "outputs": [],
   "source": [
    "# Set backend to JAX for CPU computations acceleration\n",
    "fast_qml.update(device='cpu.jax')"
   ],
   "metadata": {
    "collapsed": false,
    "ExecuteTime": {
     "end_time": "2024-01-31T21:14:55.116135400Z",
     "start_time": "2024-01-31T21:14:55.111120600Z"
    }
   },
   "id": "55a721e25bfbf9da",
   "execution_count": 9
  },
  {
   "cell_type": "code",
   "outputs": [],
   "source": [
    "n_qubits = 5\n",
    "\n",
    "# Define custom variational function\n",
    "def naive_var_func(params):\n",
    "    # First block of rotations\n",
    "    first_block_rotations = [qml.RX, qml.RY, qml.RX, qml.RY, qml.RX]\n",
    "    for i, rotation in enumerate(first_block_rotations):\n",
    "        rotation(params[i], wires=[i])\n",
    "        \n",
    "    # Second block of rotations\n",
    "    rot_number = 0\n",
    "    for i in range(0, n_qubits, 2):\n",
    "        qml.RY(params[n_qubits + rot_number], wires=[i])\n",
    "        rot_number += 1\n",
    "    \n",
    "# We wil use the same features map\n",
    "feature_map = AmplitudeEmbedding(\n",
    "    n_qubits=n_qubits,\n",
    "    pad_with=0.0\n",
    ")\n",
    "\n",
    "# We can define ansatz with our user-defined variational form function\n",
    "ansatz = Ansatz(\n",
    "    n_qubits=n_qubits,\n",
    "    variational_func=naive_var_func,\n",
    "    parameters_num=8,\n",
    "    entanglement='circular',\n",
    "    reps=2\n",
    ")"
   ],
   "metadata": {
    "collapsed": false,
    "ExecuteTime": {
     "end_time": "2024-01-31T21:14:56.222777600Z",
     "start_time": "2024-01-31T21:14:56.219308500Z"
    }
   },
   "id": "64604c0d2cde8450",
   "execution_count": 10
  },
  {
   "cell_type": "code",
   "outputs": [],
   "source": [
    "# Create VQClassifier model with defined ansatz and feature map\n",
    "model = VQClassifier(\n",
    "    n_qubits=n_qubits,\n",
    "    feature_map=feature_map,\n",
    "    ansatz=ansatz,\n",
    "    classes_num=2\n",
    ")"
   ],
   "metadata": {
    "collapsed": false,
    "ExecuteTime": {
     "end_time": "2024-01-31T21:14:56.664803300Z",
     "start_time": "2024-01-31T21:14:56.619109400Z"
    }
   },
   "id": "9fb50f50b0c6276b",
   "execution_count": 11
  },
  {
   "cell_type": "code",
   "outputs": [
    {
     "name": "stdout",
     "output_type": "stream",
     "text": [
      "0: ─╭|Ψ⟩──RX(0.07)──RY(0.04)─╭●──────────╭X──||──RX(0.05)──RY(0.05)─╭●──────────╭X──||──RX(0.09)\n",
      "1: ─├|Ψ⟩──RY(0.07)───────────╰X─╭●───────│───||──RY(0.05)───────────╰X─╭●───────│───||──RY(0.07)\n",
      "2: ─├|Ψ⟩──RX(0.07)──RY(0.01)────╰X─╭●────│───||──RX(0.06)──RY(0.01)────╰X─╭●────│───||──RX(0.04)\n",
      "3: ─├|Ψ⟩──RY(0.09)─────────────────╰X─╭●─│───||──RY(0.05)─────────────────╰X─╭●─│───||──RY(0.06)\n",
      "4: ─╰|Ψ⟩──RX(0.01)──RY(0.09)──────────╰X─╰●──||──RX(0.01)──RY(0.01)──────────╰X─╰●──||──RX(0.03)\n",
      "\n",
      "───RY(0.04)─┤  \n",
      "────────────┤  \n",
      "───RY(0.08)─┤  \n",
      "────────────┤  \n",
      "───RY(0.05)─┤  \n"
     ]
    }
   ],
   "source": [
    "model.draw_circuit()"
   ],
   "metadata": {
    "collapsed": false,
    "ExecuteTime": {
     "end_time": "2024-01-31T21:14:57.439851600Z",
     "start_time": "2024-01-31T21:14:57.425824300Z"
    }
   },
   "id": "c9928962e4727c0e",
   "execution_count": 12
  },
  {
   "cell_type": "code",
   "outputs": [
    {
     "name": "stdout",
     "output_type": "stream",
     "text": [
      "Epoch 1/250 - train_loss: 0.43726, val_loss: 1.18642\n",
      "Epoch 2/250 - train_loss: 1.71765, val_loss: 0.56523\n",
      "Epoch 3/250 - train_loss: 0.57818, val_loss: 0.64091\n",
      "Epoch 4/250 - train_loss: 0.60406, val_loss: 0.68807\n",
      "Epoch 5/250 - train_loss: 0.64413, val_loss: 0.68458\n",
      "Epoch 6/250 - train_loss: 0.66770, val_loss: 0.68395\n",
      "Epoch 7/250 - train_loss: 0.69993, val_loss: 0.69768\n",
      "Epoch 8/250 - train_loss: 0.72728, val_loss: 0.71083\n",
      "Epoch 9/250 - train_loss: 0.73057, val_loss: 0.72289\n",
      "Epoch 10/250 - train_loss: 0.72209, val_loss: 0.73275\n",
      "Epoch 11/250 - train_loss: 0.71305, val_loss: 0.73376\n",
      "Epoch 12/250 - train_loss: 0.69920, val_loss: 0.72427\n",
      "Epoch 13/250 - train_loss: 0.67648, val_loss: 0.70726\n",
      "Epoch 14/250 - train_loss: 0.64798, val_loss: 0.68447\n",
      "Epoch 15/250 - train_loss: 0.61878, val_loss: 0.65493\n",
      "Epoch 16/250 - train_loss: 0.59158, val_loss: 0.61816\n",
      "Epoch 17/250 - train_loss: 0.56688, val_loss: 0.57577\n",
      "Epoch 18/250 - train_loss: 0.54482, val_loss: 0.53312\n",
      "Epoch 19/250 - train_loss: 0.52927, val_loss: 0.50250\n",
      "Epoch 20/250 - train_loss: 0.52979, val_loss: 0.49187\n",
      "Epoch 21/250 - train_loss: 0.54378, val_loss: 0.48623\n",
      "Epoch 22/250 - train_loss: 0.53850, val_loss: 0.48238\n",
      "Epoch 23/250 - train_loss: 0.51461, val_loss: 0.49107\n",
      "Epoch 24/250 - train_loss: 0.49894, val_loss: 0.50925\n",
      "Epoch 25/250 - train_loss: 0.49747, val_loss: 0.52657\n",
      "Epoch 26/250 - train_loss: 0.50199, val_loss: 0.53626\n",
      "Epoch 27/250 - train_loss: 0.50440, val_loss: 0.53648\n",
      "Epoch 28/250 - train_loss: 0.50136, val_loss: 0.52817\n",
      "Epoch 29/250 - train_loss: 0.49341, val_loss: 0.51360\n",
      "Epoch 30/250 - train_loss: 0.48318, val_loss: 0.49605\n",
      "Epoch 31/250 - train_loss: 0.47423, val_loss: 0.47966\n",
      "Epoch 32/250 - train_loss: 0.46981, val_loss: 0.46801\n",
      "Epoch 33/250 - train_loss: 0.47080, val_loss: 0.46213\n",
      "Epoch 34/250 - train_loss: 0.47395, val_loss: 0.46085\n",
      "Epoch 35/250 - train_loss: 0.47420, val_loss: 0.46405\n",
      "Epoch 36/250 - train_loss: 0.47032, val_loss: 0.47277\n",
      "Epoch 37/250 - train_loss: 0.46621, val_loss: 0.48563\n",
      "Epoch 38/250 - train_loss: 0.46513, val_loss: 0.49799\n",
      "Epoch 39/250 - train_loss: 0.46647, val_loss: 0.50479\n",
      "Epoch 40/250 - train_loss: 0.46755, val_loss: 0.50346\n",
      "Epoch 41/250 - train_loss: 0.46655, val_loss: 0.49486\n",
      "Epoch 42/250 - train_loss: 0.46380, val_loss: 0.48272\n",
      "Epoch 43/250 - train_loss: 0.46134, val_loss: 0.47166\n",
      "Epoch 44/250 - train_loss: 0.46096, val_loss: 0.46462\n",
      "Epoch 45/250 - train_loss: 0.46218, val_loss: 0.46188\n",
      "Epoch 46/250 - train_loss: 0.46259, val_loss: 0.46274\n",
      "Epoch 47/250 - train_loss: 0.46104, val_loss: 0.46673\n",
      "Epoch 48/250 - train_loss: 0.45894, val_loss: 0.47260\n",
      "Epoch 49/250 - train_loss: 0.45797, val_loss: 0.47793\n",
      "Epoch 50/250 - train_loss: 0.45814, val_loss: 0.48031\n",
      "Epoch 51/250 - train_loss: 0.45841, val_loss: 0.47874\n",
      "Epoch 52/250 - train_loss: 0.45808, val_loss: 0.47396\n",
      "Epoch 53/250 - train_loss: 0.45730, val_loss: 0.46788\n",
      "Epoch 54/250 - train_loss: 0.45673, val_loss: 0.46256\n",
      "Epoch 55/250 - train_loss: 0.45666, val_loss: 0.45932\n",
      "Epoch 56/250 - train_loss: 0.45668, val_loss: 0.45858\n",
      "Epoch 57/250 - train_loss: 0.45625, val_loss: 0.46020\n",
      "Epoch 58/250 - train_loss: 0.45546, val_loss: 0.46339\n",
      "Epoch 59/250 - train_loss: 0.45482, val_loss: 0.46673\n",
      "Epoch 60/250 - train_loss: 0.45455, val_loss: 0.46859\n",
      "Epoch 61/250 - train_loss: 0.45437, val_loss: 0.46802\n",
      "Epoch 62/250 - train_loss: 0.45398, val_loss: 0.46528\n",
      "Epoch 63/250 - train_loss: 0.45343, val_loss: 0.46157\n",
      "Epoch 64/250 - train_loss: 0.45304, val_loss: 0.45832\n",
      "Epoch 65/250 - train_loss: 0.45292, val_loss: 0.45652\n",
      "Epoch 66/250 - train_loss: 0.45282, val_loss: 0.45653\n",
      "Epoch 67/250 - train_loss: 0.45254, val_loss: 0.45812\n",
      "Epoch 68/250 - train_loss: 0.45215, val_loss: 0.46054\n",
      "Epoch 69/250 - train_loss: 0.45191, val_loss: 0.46268\n",
      "Epoch 70/250 - train_loss: 0.45186, val_loss: 0.46349\n",
      "Epoch 71/250 - train_loss: 0.45183, val_loss: 0.46260\n",
      "Epoch 72/250 - train_loss: 0.45167, val_loss: 0.46041\n",
      "Epoch 73/250 - train_loss: 0.45143, val_loss: 0.45789\n",
      "Epoch 74/250 - train_loss: 0.45122, val_loss: 0.45598\n",
      "Epoch 75/250 - train_loss: 0.45106, val_loss: 0.45524\n",
      "Epoch 76/250 - train_loss: 0.45086, val_loss: 0.45569\n",
      "Epoch 77/250 - train_loss: 0.45058, val_loss: 0.45691\n",
      "Epoch 78/250 - train_loss: 0.45027, val_loss: 0.45817\n",
      "Epoch 79/250 - train_loss: 0.45000, val_loss: 0.45876\n",
      "Epoch 80/250 - train_loss: 0.44972, val_loss: 0.45828\n",
      "Epoch 81/250 - train_loss: 0.44938, val_loss: 0.45684\n",
      "Epoch 82/250 - train_loss: 0.44899, val_loss: 0.45493\n",
      "Epoch 83/250 - train_loss: 0.44858, val_loss: 0.45319\n",
      "Epoch 84/250 - train_loss: 0.44817, val_loss: 0.45202\n",
      "Epoch 85/250 - train_loss: 0.44772, val_loss: 0.45157\n",
      "Epoch 86/250 - train_loss: 0.44721, val_loss: 0.45161\n",
      "Epoch 87/250 - train_loss: 0.44667, val_loss: 0.45174\n",
      "Epoch 88/250 - train_loss: 0.44611, val_loss: 0.45152\n",
      "Epoch 89/250 - train_loss: 0.44554, val_loss: 0.45068\n",
      "Epoch 90/250 - train_loss: 0.44492, val_loss: 0.44926\n",
      "Epoch 91/250 - train_loss: 0.44428, val_loss: 0.44752\n",
      "Epoch 92/250 - train_loss: 0.44363, val_loss: 0.44580\n",
      "Epoch 93/250 - train_loss: 0.44300, val_loss: 0.44441\n",
      "Epoch 94/250 - train_loss: 0.44239, val_loss: 0.44345\n",
      "Epoch 95/250 - train_loss: 0.44179, val_loss: 0.44289\n",
      "Epoch 96/250 - train_loss: 0.44122, val_loss: 0.44255\n",
      "Epoch 97/250 - train_loss: 0.44069, val_loss: 0.44225\n",
      "Epoch 98/250 - train_loss: 0.44023, val_loss: 0.44186\n",
      "Epoch 99/250 - train_loss: 0.43984, val_loss: 0.44135\n",
      "Epoch 100/250 - train_loss: 0.43950, val_loss: 0.44081\n",
      "Epoch 101/250 - train_loss: 0.43923, val_loss: 0.44038\n",
      "Epoch 102/250 - train_loss: 0.43900, val_loss: 0.44016\n",
      "Epoch 103/250 - train_loss: 0.43880, val_loss: 0.44021\n",
      "Epoch 104/250 - train_loss: 0.43861, val_loss: 0.44048\n",
      "Epoch 105/250 - train_loss: 0.43843, val_loss: 0.44088\n",
      "Epoch 106/250 - train_loss: 0.43824, val_loss: 0.44127\n",
      "Epoch 107/250 - train_loss: 0.43804, val_loss: 0.44155\n",
      "Epoch 108/250 - train_loss: 0.43785, val_loss: 0.44167\n",
      "Epoch 109/250 - train_loss: 0.43767, val_loss: 0.44167\n",
      "Epoch 110/250 - train_loss: 0.43752, val_loss: 0.44164\n",
      "Epoch 111/250 - train_loss: 0.43742, val_loss: 0.44169\n",
      "Epoch 112/250 - train_loss: 0.43737, val_loss: 0.44187\n",
      "Epoch 113/250 - train_loss: 0.43737, val_loss: 0.44218\n",
      "Epoch 114/250 - train_loss: 0.43740, val_loss: 0.44253\n",
      "Epoch 115/250 - train_loss: 0.43746, val_loss: 0.44282\n",
      "Epoch 116/250 - train_loss: 0.43752, val_loss: 0.44296\n",
      "Epoch 117/250 - train_loss: 0.43756, val_loss: 0.44295\n",
      "Epoch 118/250 - train_loss: 0.43757, val_loss: 0.44285\n",
      "Epoch 119/250 - train_loss: 0.43756, val_loss: 0.44277\n",
      "Epoch 120/250 - train_loss: 0.43753, val_loss: 0.44278\n",
      "Epoch 121/250 - train_loss: 0.43750, val_loss: 0.44290\n",
      "Epoch 122/250 - train_loss: 0.43746, val_loss: 0.44309\n",
      "Epoch 123/250 - train_loss: 0.43744, val_loss: 0.44326\n",
      "Epoch 124/250 - train_loss: 0.43743, val_loss: 0.44335\n",
      "Epoch 125/250 - train_loss: 0.43743, val_loss: 0.44332\n",
      "Epoch 126/250 - train_loss: 0.43743, val_loss: 0.44320\n",
      "Epoch 127/250 - train_loss: 0.43742, val_loss: 0.44305\n",
      "Epoch 128/250 - train_loss: 0.43741, val_loss: 0.44295\n",
      "Epoch 129/250 - train_loss: 0.43739, val_loss: 0.44293\n",
      "Epoch 130/250 - train_loss: 0.43737, val_loss: 0.44296\n",
      "Epoch 131/250 - train_loss: 0.43735, val_loss: 0.44302\n",
      "Epoch 132/250 - train_loss: 0.43733, val_loss: 0.44305\n",
      "Epoch 133/250 - train_loss: 0.43732, val_loss: 0.44302\n",
      "Epoch 134/250 - train_loss: 0.43732, val_loss: 0.44292\n",
      "Epoch 135/250 - train_loss: 0.43732, val_loss: 0.44280\n",
      "Epoch 136/250 - train_loss: 0.43732, val_loss: 0.44268\n",
      "Epoch 137/250 - train_loss: 0.43732, val_loss: 0.44259\n",
      "Epoch 138/250 - train_loss: 0.43732, val_loss: 0.44253\n",
      "Epoch 139/250 - train_loss: 0.43731, val_loss: 0.44249\n",
      "Epoch 140/250 - train_loss: 0.43730, val_loss: 0.44244\n",
      "Epoch 141/250 - train_loss: 0.43729, val_loss: 0.44236\n",
      "Epoch 142/250 - train_loss: 0.43728, val_loss: 0.44227\n",
      "Epoch 143/250 - train_loss: 0.43727, val_loss: 0.44217\n",
      "Epoch 144/250 - train_loss: 0.43727, val_loss: 0.44209\n",
      "Epoch 145/250 - train_loss: 0.43727, val_loss: 0.44205\n",
      "Epoch 146/250 - train_loss: 0.43727, val_loss: 0.44204\n",
      "Epoch 147/250 - train_loss: 0.43727, val_loss: 0.44205\n",
      "Epoch 148/250 - train_loss: 0.43727, val_loss: 0.44206\n",
      "Epoch 149/250 - train_loss: 0.43727, val_loss: 0.44203\n",
      "Epoch 150/250 - train_loss: 0.43727, val_loss: 0.44196\n",
      "Epoch 151/250 - train_loss: 0.43727, val_loss: 0.44187\n",
      "Epoch 152/250 - train_loss: 0.43727, val_loss: 0.44178\n",
      "Epoch 153/250 - train_loss: 0.43727, val_loss: 0.44172\n",
      "Epoch 154/250 - train_loss: 0.43727, val_loss: 0.44169\n",
      "Epoch 155/250 - train_loss: 0.43727, val_loss: 0.44169\n",
      "Epoch 156/250 - train_loss: 0.43727, val_loss: 0.44173\n",
      "Epoch 157/250 - train_loss: 0.43727, val_loss: 0.44176\n",
      "Epoch 158/250 - train_loss: 0.43727, val_loss: 0.44178\n",
      "Epoch 159/250 - train_loss: 0.43727, val_loss: 0.44179\n",
      "Epoch 160/250 - train_loss: 0.43727, val_loss: 0.44178\n",
      "Epoch 161/250 - train_loss: 0.43727, val_loss: 0.44178\n",
      "Epoch 162/250 - train_loss: 0.43727, val_loss: 0.44177\n",
      "Epoch 163/250 - train_loss: 0.43727, val_loss: 0.44178\n",
      "Epoch 164/250 - train_loss: 0.43727, val_loss: 0.44180\n",
      "Epoch 165/250 - train_loss: 0.43727, val_loss: 0.44182\n",
      "Epoch 166/250 - train_loss: 0.43726, val_loss: 0.44184\n",
      "Epoch 167/250 - train_loss: 0.43726, val_loss: 0.44185\n",
      "Epoch 168/250 - train_loss: 0.43726, val_loss: 0.44186\n",
      "Epoch 169/250 - train_loss: 0.43726, val_loss: 0.44187\n",
      "Epoch 170/250 - train_loss: 0.43726, val_loss: 0.44189\n",
      "Epoch 171/250 - train_loss: 0.43726, val_loss: 0.44192\n",
      "Epoch 172/250 - train_loss: 0.43726, val_loss: 0.44195\n",
      "Epoch 173/250 - train_loss: 0.43726, val_loss: 0.44198\n",
      "Epoch 174/250 - train_loss: 0.43726, val_loss: 0.44200\n",
      "Epoch 175/250 - train_loss: 0.43726, val_loss: 0.44201\n",
      "Epoch 176/250 - train_loss: 0.43726, val_loss: 0.44201\n",
      "Epoch 177/250 - train_loss: 0.43726, val_loss: 0.44201\n",
      "Epoch 178/250 - train_loss: 0.43726, val_loss: 0.44201\n",
      "Epoch 179/250 - train_loss: 0.43726, val_loss: 0.44202\n",
      "Epoch 180/250 - train_loss: 0.43726, val_loss: 0.44203\n",
      "Epoch 181/250 - train_loss: 0.43726, val_loss: 0.44205\n",
      "Epoch 182/250 - train_loss: 0.43726, val_loss: 0.44205\n",
      "Epoch 183/250 - train_loss: 0.43726, val_loss: 0.44206\n",
      "Epoch 184/250 - train_loss: 0.43726, val_loss: 0.44206\n",
      "Epoch 185/250 - train_loss: 0.43726, val_loss: 0.44205\n",
      "Epoch 186/250 - train_loss: 0.43726, val_loss: 0.44205\n",
      "Epoch 187/250 - train_loss: 0.43726, val_loss: 0.44205\n",
      "Epoch 188/250 - train_loss: 0.43726, val_loss: 0.44205\n",
      "Epoch 189/250 - train_loss: 0.43726, val_loss: 0.44205\n",
      "Epoch 190/250 - train_loss: 0.43726, val_loss: 0.44204\n",
      "Epoch 191/250 - train_loss: 0.43726, val_loss: 0.44204\n",
      "Epoch 192/250 - train_loss: 0.43726, val_loss: 0.44203\n",
      "Epoch 193/250 - train_loss: 0.43726, val_loss: 0.44202\n",
      "Epoch 194/250 - train_loss: 0.43726, val_loss: 0.44201\n",
      "Epoch 195/250 - train_loss: 0.43726, val_loss: 0.44201\n",
      "Epoch 196/250 - train_loss: 0.43726, val_loss: 0.44201\n",
      "Epoch 197/250 - train_loss: 0.43726, val_loss: 0.44201\n",
      "Epoch 198/250 - train_loss: 0.43726, val_loss: 0.44201\n",
      "Epoch 199/250 - train_loss: 0.43726, val_loss: 0.44201\n",
      "Epoch 200/250 - train_loss: 0.43726, val_loss: 0.44200\n",
      "Epoch 201/250 - train_loss: 0.43726, val_loss: 0.44200\n",
      "Epoch 202/250 - train_loss: 0.43726, val_loss: 0.44199\n",
      "Epoch 203/250 - train_loss: 0.43726, val_loss: 0.44199\n",
      "Epoch 204/250 - train_loss: 0.43726, val_loss: 0.44199\n",
      "Epoch 205/250 - train_loss: 0.43726, val_loss: 0.44199\n",
      "Epoch 206/250 - train_loss: 0.43726, val_loss: 0.44199\n",
      "Epoch 207/250 - train_loss: 0.43726, val_loss: 0.44199\n",
      "Epoch 208/250 - train_loss: 0.43726, val_loss: 0.44198\n",
      "Epoch 209/250 - train_loss: 0.43726, val_loss: 0.44198\n",
      "Epoch 210/250 - train_loss: 0.43726, val_loss: 0.44198\n",
      "Epoch 211/250 - train_loss: 0.43726, val_loss: 0.44198\n",
      "Epoch 212/250 - train_loss: 0.43726, val_loss: 0.44199\n",
      "Epoch 213/250 - train_loss: 0.43726, val_loss: 0.44199\n",
      "Epoch 214/250 - train_loss: 0.43726, val_loss: 0.44199\n",
      "Epoch 215/250 - train_loss: 0.43726, val_loss: 0.44199\n",
      "Epoch 216/250 - train_loss: 0.43726, val_loss: 0.44199\n",
      "Epoch 217/250 - train_loss: 0.43726, val_loss: 0.44198\n",
      "Epoch 218/250 - train_loss: 0.43726, val_loss: 0.44199\n",
      "Epoch 219/250 - train_loss: 0.43726, val_loss: 0.44199\n",
      "Epoch 220/250 - train_loss: 0.43726, val_loss: 0.44199\n",
      "Epoch 221/250 - train_loss: 0.43726, val_loss: 0.44199\n",
      "Epoch 222/250 - train_loss: 0.43726, val_loss: 0.44199\n",
      "Epoch 223/250 - train_loss: 0.43726, val_loss: 0.44199\n",
      "Epoch 224/250 - train_loss: 0.43726, val_loss: 0.44199\n",
      "Epoch 225/250 - train_loss: 0.43726, val_loss: 0.44199\n",
      "Epoch 226/250 - train_loss: 0.43726, val_loss: 0.44199\n",
      "Epoch 227/250 - train_loss: 0.43726, val_loss: 0.44199\n",
      "Epoch 228/250 - train_loss: 0.43726, val_loss: 0.44199\n",
      "Epoch 229/250 - train_loss: 0.43726, val_loss: 0.44199\n",
      "Epoch 230/250 - train_loss: 0.43726, val_loss: 0.44199\n",
      "Epoch 231/250 - train_loss: 0.43726, val_loss: 0.44199\n",
      "Epoch 232/250 - train_loss: 0.43726, val_loss: 0.44199\n",
      "Epoch 233/250 - train_loss: 0.43726, val_loss: 0.44199\n",
      "Epoch 234/250 - train_loss: 0.43726, val_loss: 0.44199\n",
      "Epoch 235/250 - train_loss: 0.43726, val_loss: 0.44199\n",
      "Epoch 236/250 - train_loss: 0.43726, val_loss: 0.44199\n",
      "Epoch 237/250 - train_loss: 0.43726, val_loss: 0.44199\n",
      "Epoch 238/250 - train_loss: 0.43726, val_loss: 0.44199\n",
      "Epoch 239/250 - train_loss: 0.43726, val_loss: 0.44199\n",
      "Epoch 240/250 - train_loss: 0.43726, val_loss: 0.44199\n",
      "Epoch 241/250 - train_loss: 0.43726, val_loss: 0.44199\n",
      "Epoch 242/250 - train_loss: 0.43726, val_loss: 0.44199\n",
      "Epoch 243/250 - train_loss: 0.43726, val_loss: 0.44200\n",
      "Epoch 244/250 - train_loss: 0.43726, val_loss: 0.44200\n",
      "Epoch 245/250 - train_loss: 0.43726, val_loss: 0.44200\n",
      "Epoch 246/250 - train_loss: 0.43726, val_loss: 0.44199\n",
      "Epoch 247/250 - train_loss: 0.43726, val_loss: 0.44200\n",
      "Epoch 248/250 - train_loss: 0.43726, val_loss: 0.44200\n",
      "Epoch 249/250 - train_loss: 0.43726, val_loss: 0.44200\n",
      "Epoch 250/250 - train_loss: 0.43726, val_loss: 0.44200\n",
      "Executing fit_model took 1.30073 seconds.\n"
     ]
    }
   ],
   "source": [
    "@execution_time\n",
    "def fit_model():\n",
    "    model.fit(\n",
    "        x_train=X_train,\n",
    "        y_train=y_train,\n",
    "        x_val=X_val,\n",
    "        y_val=y_val,\n",
    "        learning_rate=0.3,\n",
    "        num_epochs=250\n",
    "    )\n",
    "    \n",
    "fit_model()"
   ],
   "metadata": {
    "collapsed": false,
    "ExecuteTime": {
     "end_time": "2024-01-31T21:15:03.397546100Z",
     "start_time": "2024-01-31T21:15:02.091063600Z"
    }
   },
   "id": "75d1afe1b9c5e95a",
   "execution_count": 14
  },
  {
   "cell_type": "markdown",
   "source": [
    "Remarkably, the training time with the customized variational function and JAX backend in FastQML has been reduced to approximately 1.30 seconds. This is a significant improvement, showcasing more than 5.5 times faster execution compared to the previous setup."
   ],
   "metadata": {
    "collapsed": false
   },
   "id": "35179d706b4248"
  },
  {
   "cell_type": "code",
   "outputs": [
    {
     "name": "stdout",
     "output_type": "stream",
     "text": [
      "              precision    recall  f1-score   support\n",
      "\n",
      "           0       0.87      0.81      0.84        16\n",
      "           1       0.93      0.95      0.94        41\n",
      "\n",
      "    accuracy                           0.91        57\n",
      "   macro avg       0.90      0.88      0.89        57\n",
      "weighted avg       0.91      0.91      0.91        57\n"
     ]
    },
    {
     "data": {
      "text/plain": "<Figure size 640x480 with 2 Axes>",
      "image/png": "[encoded data removed]"
     },
     "metadata": {},
     "output_type": "display_data"
    }
   ],
   "source": [
    "# Make predictions\n",
    "y_pred = model.predict(X_test)\n",
    "\n",
    "# Evaluate the classifier\n",
    "print(classification_report(y_test, y_pred))\n",
    "\n",
    "# Display confusion matrix\n",
    "cm = confusion_matrix(y_test, y_pred, labels=[0, 1])\n",
    "disp = ConfusionMatrixDisplay(confusion_matrix=cm, display_labels=['benign', 'malignant'])\n",
    "disp.plot(cmap='Greens')\n",
    "plt.show()"
   ],
   "metadata": {
    "collapsed": false,
    "ExecuteTime": {
     "end_time": "2024-01-31T21:15:07.600655800Z",
     "start_time": "2024-01-31T21:15:05.891201Z"
    }
   },
   "id": "d1e5e9a410647864",
   "execution_count": 15
  },
  {
   "cell_type": "markdown",
   "source": [
    "With the implementation of custom variational functions and the JAX backend in FastQML, we have successfully improved the model's accuracy to approximately 91%\n",
    "\n",
    "Observing the variational loss, we noted that it plateaued after a certain number of epochs. This indicates an opportunity to optimize the training process further. To address this, we will implement the early stopping mechanism available in FastQML. Early stopping is a powerful technique that halts the training process once the model ceases to show improvement over a defined number of epochs. This approach not only saves computational resources but also prevents potential overfitting."
   ],
   "metadata": {
    "collapsed": false
   },
   "id": "cfcdcf14f92d393"
  },
  {
   "cell_type": "code",
   "outputs": [
    {
     "name": "stdout",
     "output_type": "stream",
     "text": [
      "Epoch 1/500 - train_loss: 0.43728, val_loss: 0.57861\n",
      "Epoch 2/500 - train_loss: 0.56986, val_loss: 0.48123\n",
      "Epoch 3/500 - train_loss: 0.46724, val_loss: 0.47116\n",
      "Epoch 4/500 - train_loss: 0.56622, val_loss: 0.50094\n",
      "Epoch 5/500 - train_loss: 0.47704, val_loss: 0.53075\n",
      "Epoch 6/500 - train_loss: 0.48198, val_loss: 0.48690\n",
      "Epoch 7/500 - train_loss: 0.46728, val_loss: 0.44981\n",
      "Epoch 8/500 - train_loss: 0.46066, val_loss: 0.43680\n",
      "Epoch 9/500 - train_loss: 0.45470, val_loss: 0.44649\n",
      "Epoch 10/500 - train_loss: 0.45607, val_loss: 0.46298\n",
      "Epoch 11/500 - train_loss: 0.46131, val_loss: 0.46976\n",
      "Epoch 12/500 - train_loss: 0.46070, val_loss: 0.46548\n",
      "Epoch 13/500 - train_loss: 0.45514, val_loss: 0.45584\n",
      "Epoch 14/500 - train_loss: 0.45060, val_loss: 0.44632\n",
      "Epoch 15/500 - train_loss: 0.44931, val_loss: 0.44008\n",
      "Epoch 16/500 - train_loss: 0.44855, val_loss: 0.44078\n",
      "Epoch 17/500 - train_loss: 0.44745, val_loss: 0.44952\n",
      "Epoch 18/500 - train_loss: 0.44788, val_loss: 0.46004\n",
      "Epoch 19/500 - train_loss: 0.44934, val_loss: 0.46309\n",
      "Epoch 20/500 - train_loss: 0.44896, val_loss: 0.45764\n",
      "Epoch 21/500 - train_loss: 0.44717, val_loss: 0.45228\n",
      "Epoch 22/500 - train_loss: 0.44674, val_loss: 0.45303\n",
      "Epoch 23/500 - train_loss: 0.44598, val_loss: 0.45864\n",
      "Epoch 24/500 - train_loss: 0.44468, val_loss: 0.46245\n",
      "Epoch 25/500 - train_loss: 0.44438, val_loss: 0.45809\n",
      "Epoch 26/500 - train_loss: 0.44357, val_loss: 0.44886\n",
      "Epoch 27/500 - train_loss: 0.44284, val_loss: 0.44256\n",
      "Epoch 28/500 - train_loss: 0.44271, val_loss: 0.44249\n",
      "Epoch 29/500 - train_loss: 0.44159, val_loss: 0.44681\n",
      "Epoch 30/500 - train_loss: 0.44050, val_loss: 0.44968\n",
      "Epoch 31/500 - train_loss: 0.44013, val_loss: 0.44776\n",
      "Epoch 32/500 - train_loss: 0.43979, val_loss: 0.44464\n",
      "Epoch 33/500 - train_loss: 0.43961, val_loss: 0.44445\n",
      "Epoch 34/500 - train_loss: 0.43923, val_loss: 0.44696\n",
      "Epoch 35/500 - train_loss: 0.43923, val_loss: 0.44796\n",
      "Epoch 36/500 - train_loss: 0.43982, val_loss: 0.44476\n",
      "Epoch 37/500 - train_loss: 0.43993, val_loss: 0.44051\n",
      "Stopping early at epoch 38.\n",
      "Executing fit_model took 0.19911 seconds.\n"
     ]
    }
   ],
   "source": [
    "early_stopping = EarlyStopping()\n",
    "\n",
    "@execution_time\n",
    "def fit_model():\n",
    "    model.fit(\n",
    "        x_train=X_train,\n",
    "        y_train=y_train,\n",
    "        x_val=X_val,\n",
    "        y_val=y_val,\n",
    "        learning_rate=0.3,\n",
    "        num_epochs=500,\n",
    "        early_stopping=early_stopping\n",
    "    )\n",
    "    \n",
    "fit_model()"
   ],
   "metadata": {
    "collapsed": false,
    "ExecuteTime": {
     "end_time": "2024-01-31T21:15:17.526409900Z",
     "start_time": "2024-01-31T21:15:17.320127Z"
    }
   },
   "id": "fa9327135c64d011",
   "execution_count": 17
  },
  {
   "cell_type": "code",
   "outputs": [
    {
     "name": "stdout",
     "output_type": "stream",
     "text": [
      "              precision    recall  f1-score   support\n",
      "\n",
      "           0       0.88      0.88      0.88        16\n",
      "           1       0.95      0.95      0.95        41\n",
      "\n",
      "    accuracy                           0.93        57\n",
      "   macro avg       0.91      0.91      0.91        57\n",
      "weighted avg       0.93      0.93      0.93        57\n"
     ]
    },
    {
     "data": {
      "text/plain": "<Figure size 640x480 with 2 Axes>",
      "image/png": "[encoded data removed]"
     },
     "metadata": {},
     "output_type": "display_data"
    }
   ],
   "source": [
    "# Make predictions\n",
    "y_pred = model.predict(X_test)\n",
    "\n",
    "# Evaluate the classifier\n",
    "print(classification_report(y_test, y_pred))\n",
    "\n",
    "# Display confusion matrix\n",
    "cm = confusion_matrix(y_test, y_pred, labels=[0, 1])\n",
    "disp = ConfusionMatrixDisplay(confusion_matrix=cm, display_labels=['benign', 'malignant'])\n",
    "disp.plot(cmap='Greens')\n",
    "plt.show()"
   ],
   "metadata": {
    "collapsed": false,
    "ExecuteTime": {
     "end_time": "2024-01-31T21:15:20.782498300Z",
     "start_time": "2024-01-31T21:15:19.435798600Z"
    }
   },
   "id": "b09b200bc2b14d9e",
   "execution_count": 18
  },
  {
   "cell_type": "markdown",
   "source": [
    "Cool, we have successfully achieved the same level of model accuracy, but in fewer epochs!"
   ],
   "metadata": {
    "collapsed": false
   },
   "id": "8b402c18cf777350"
  }
 ],
 "metadata": {
  "kernelspec": {
   "display_name": "Python 3",
   "language": "python",
   "name": "python3"
  },
  "language_info": {
   "codemirror_mode": {
    "name": "ipython",
    "version": 2
   },
   "file_extension": ".py",
   "mimetype": "text/x-python",
   "name": "python",
   "nbconvert_exporter": "python",
   "pygments_lexer": "ipython2",
   "version": "2.7.6"
  }
 },
 "nbformat": 4,
 "nbformat_minor": 5
}
