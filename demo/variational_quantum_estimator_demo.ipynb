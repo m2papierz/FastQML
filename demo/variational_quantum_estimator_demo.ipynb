{
 "cells": [
  {
   "cell_type": "raw",
   "source": [
    "### Binary Classification Using VQClassifier with JAX Backend in FastQML\n",
    "\n",
    "This demonstration showcases the FastQML library's capabilities in implementing and training Quantum Machine Learning (QML) models efficiently. FastQML, integrated with PennyLane, allows customizable components for each part of the model implementation. Here, we focus on employing the Variational Quantum Classifier (VQClassifier) for binary classification. The VQClassifier utilizes quantum circuits for data processing and is enhanced by JAX for accelerated CPU computations. The demo includes steps for setting up the quantum circuit, dataset preparation, and classifier execution, emphasizing FastQML's performance enhancements."
   ],
   "metadata": {
    "collapsed": false
   },
   "id": "95136276d4bfa095"
  },
  {
   "cell_type": "code",
   "outputs": [],
   "source": [
    "import time\n",
    "import matplotlib.pyplot as plt\n",
    "from sklearn.datasets import load_breast_cancer\n",
    "from sklearn.model_selection import train_test_split\n",
    "from sklearn.metrics import classification_report\n",
    "from sklearn.preprocessing import MinMaxScaler\n",
    "from sklearn.metrics import confusion_matrix, ConfusionMatrixDisplay\n",
    "\n",
    "import fast_qml\n",
    "import pennylane as qml\n",
    "from fast_qml.quantum_circuits.feature_maps import AmplitudeEmbedding\n",
    "from fast_qml.quantum_circuits.variational_forms import TwoLocal, Ansatz\n",
    "from fast_qml.machine_learning.estimators.vqa import VQClassifier\n",
    "from fast_qml.machine_learning.callbacks import EarlyStopping"
   ],
   "metadata": {
    "collapsed": true,
    "ExecuteTime": {
     "end_time": "2024-01-31T20:47:06.905607800Z",
     "start_time": "2024-01-31T20:47:05.479637800Z"
    }
   },
   "id": "initial_id",
   "execution_count": 1
  },
  {
   "cell_type": "raw",
   "source": [
    "To compare the execution time of the training process across different backends (default PennyLane interface and JAX interface with Just-in-time compilation), we utilize a custom decorator. This decorator measures and displays the execution time of the function it wraps, providing insights into the performance improvements offered by JAX."
   ],
   "metadata": {
    "collapsed": false
   },
   "id": "92e37b4775003213"
  },
  {
   "cell_type": "code",
   "outputs": [],
   "source": [
    "def execution_time(func):\n",
    "    \"\"\"\n",
    "    A decorator that prints the execution time of the function it decorates.\n",
    "    \"\"\"\n",
    "    def wrapper(*args, **kwargs):\n",
    "        start_time = time.time()\n",
    "        result = func(*args, **kwargs) \n",
    "        end_time = time.time()\n",
    "        print(f\"Executing {func.__name__} took {end_time - start_time:.5f} seconds.\")\n",
    "        return result\n",
    "    return wrapper"
   ],
   "metadata": {
    "collapsed": false,
    "ExecuteTime": {
     "end_time": "2024-01-31T20:47:06.910162600Z",
     "start_time": "2024-01-31T20:47:06.905607800Z"
    }
   },
   "id": "5ff678bb087b7728",
   "execution_count": 2
  },
  {
   "cell_type": "markdown",
   "source": [
    "The breast cancer dataset from sklearn serves as our binary classification task. This dataset, derived from digitized images of fine needle aspirates of breast masses, contains 30 features representing cell nuclei characteristics. The classification task is to categorize these instances as benign or malignant.\n",
    "\n",
    "We begin by normalizing the data and dividing it into training, validation, and testing sets. This step is crucial for a comprehensive evaluation of the VQClassifier's performance."
   ],
   "metadata": {
    "collapsed": false
   },
   "id": "607b6bc055aa37c0"
  },
  {
   "cell_type": "code",
   "outputs": [
    {
     "name": "stdout",
     "output_type": "stream",
     "text": [
      "(455, 30) (57, 30) (57, 30)\n"
     ]
    }
   ],
   "source": [
    "# Load the breast cancer dataset\n",
    "data = load_breast_cancer()\n",
    "X, y = data.data, data.target\n",
    "\n",
    "# Normalize the data\n",
    "scaler = MinMaxScaler()\n",
    "X_normalized = scaler.fit_transform(X)\n",
    "\n",
    "# Split the dataset into training and testing sets\n",
    "X_train, X_test, y_train, y_test = train_test_split(\n",
    "    X_normalized, y, test_size=0.2, random_state=42)\n",
    "\n",
    "X_val, X_test, y_val, y_test = train_test_split(\n",
    "    X_test, y_test, test_size=0.5, random_state=42)\n",
    "\n",
    "print(X_train.shape, X_test.shape, X_val.shape)"
   ],
   "metadata": {
    "collapsed": false,
    "ExecuteTime": {
     "end_time": "2024-01-31T20:47:06.931721500Z",
     "start_time": "2024-01-31T20:47:06.910162600Z"
    }
   },
   "id": "100ca38e1b11823f",
   "execution_count": 3
  },
  {
   "cell_type": "markdown",
   "source": [
    "In this step, we will construct the fundamental components of our quantum classifier using FastQML: the feature map and the ansatz. The feature map's role is to encode classical data into a quantum state. For this purpose, we will utilize the AmplitudeEmbedding method from FastQML, which efficiently encodes data into quantum states. Given that a single sample from our dataset contains 30 features, and AmplitudeEmbedding can encode 2^qubits_number of features, we will use 5 qubits. This configuration allows us to encode up to 32 features, with the last two being padded with 0.0 to fit our data structure.\n",
    "\n",
    "Next, we will set up the ansatz for our quantum classifier. The ansatz, composed of a sequence of quantum gates, is responsible for processing the quantum data. In this demonstration, we will employ the TwoLocal form available in FastQML. The TwoLocal form is a versatile and commonly used ansatz, and we will use it with its default parameters. This choice provides a balance between simplicity and the ability to demonstrate the essential features of quantum data processing in FastQML.\n",
    "\n",
    "By following these steps, we effectively establish the quantum environment necessary for our classifier, showcasing the ease and flexibility of feature mapping and ansatz configuration in FastQML."
   ],
   "metadata": {
    "collapsed": false
   },
   "id": "9cf572ffc61940f2"
  },
  {
   "cell_type": "code",
   "outputs": [],
   "source": [
    "# With 5 qubits we have 2^5=32 features at maximum to be encoded\n",
    "n_qubits = 5\n",
    "\n",
    "# Create AmplitudeEmbedding feature map with 0.0 padding\n",
    "feature_map = AmplitudeEmbedding(\n",
    "    n_qubits=n_qubits,\n",
    "    pad_with=0.0\n",
    ")\n",
    "\n",
    "# TwoLocal ansatz with default parameters\n",
    "ansatz = TwoLocal(\n",
    "    n_qubits=n_qubits,\n",
    "    controlled_gate='CNOT',\n",
    "    entanglement='linear',\n",
    "    skip_last_rotations=False,\n",
    "    reps=2\n",
    ")"
   ],
   "metadata": {
    "collapsed": false,
    "ExecuteTime": {
     "end_time": "2024-01-31T20:47:07.861729Z",
     "start_time": "2024-01-31T20:47:07.856712600Z"
    }
   },
   "id": "3aa9d78a28342207",
   "execution_count": 4
  },
  {
   "cell_type": "code",
   "outputs": [],
   "source": [
    "# Create VQClassifier model with defined ansatz and feature map\n",
    "model = VQClassifier(\n",
    "    n_qubits=n_qubits,\n",
    "    feature_map=feature_map,\n",
    "    ansatz=ansatz,\n",
    "    classes_num=2\n",
    ")"
   ],
   "metadata": {
    "collapsed": false,
    "ExecuteTime": {
     "end_time": "2024-01-31T20:47:08.787880900Z",
     "start_time": "2024-01-31T20:47:08.776363Z"
    }
   },
   "id": "8f73d4a4c010ee72",
   "execution_count": 5
  },
  {
   "cell_type": "markdown",
   "source": [
    "To better understand the structure of our quantum circuit, we can visualize it with build-in _draw_circuit()_ method. It can be usefully in debugging and optimizing the quantum circuit design."
   ],
   "metadata": {
    "collapsed": false
   },
   "id": "907e7ba66dd72acd"
  },
  {
   "cell_type": "code",
   "outputs": [
    {
     "name": "stdout",
     "output_type": "stream",
     "text": [
      "0: ─╭|Ψ⟩──RY(0.06)─╭●───────────||──RY(0.04)─╭●───────────||──RY(0.02)─┤  \n",
      "1: ─├|Ψ⟩──RY(0.05)─╰X─╭●────────||──RY(0.00)─╰X─╭●────────||──RY(0.06)─┤  \n",
      "2: ─├|Ψ⟩──RY(0.07)────╰X─╭●─────||──RY(0.07)────╰X─╭●─────||──RY(0.07)─┤  \n",
      "3: ─├|Ψ⟩──RY(0.03)───────╰X─╭●──||──RY(0.07)───────╰X─╭●──||──RY(0.03)─┤  \n",
      "4: ─╰|Ψ⟩──RY(0.08)──────────╰X──||──RY(0.05)──────────╰X──||──RY(0.01)─┤  \n"
     ]
    }
   ],
   "source": [
    "model.draw_circuit()"
   ],
   "metadata": {
    "collapsed": false,
    "ExecuteTime": {
     "end_time": "2024-01-31T20:47:09.752408200Z",
     "start_time": "2024-01-31T20:47:09.744596600Z"
    }
   },
   "id": "ce82af9be5148cc2",
   "execution_count": 6
  },
  {
   "cell_type": "markdown",
   "source": [
    "At this stage, we are ready to train our quantum classifier using FastQML. The training process is designed to optimize the model's parameters based on the training data, while also incorporating validation data to ensure robustness and generalizability. To proceed with training, we will set the number of epochs to 250. An epoch is a complete pass through the entire training dataset, and this number determines the duration of the training process. The choice of 250 epochs allows for a thorough optimization of the model's parameters.\n",
    "\n",
    "Additionally, we will set the learning rate to 0.3. The learning rate is a crucial hyperparameter in machine learning that influences the rate at which the model learns. A learning rate of 0.3 is selected to balance the speed of convergence and the stability of the training process."
   ],
   "metadata": {
    "collapsed": false
   },
   "id": "b695defa137ac0e0"
  },
  {
   "cell_type": "code",
   "outputs": [
    {
     "name": "stdout",
     "output_type": "stream",
     "text": [
      "Epoch 1/250 - train_loss: 0.67848, val_loss: 0.64453\n",
      "Epoch 2/250 - train_loss: 0.66937, val_loss: 0.73631\n",
      "Epoch 3/250 - train_loss: 0.70600, val_loss: 0.80348\n",
      "Epoch 4/250 - train_loss: 0.73944, val_loss: 0.83624\n",
      "Epoch 5/250 - train_loss: 0.80278, val_loss: 0.85553\n",
      "Epoch 6/250 - train_loss: 0.73181, val_loss: 0.84192\n",
      "Epoch 7/250 - train_loss: 0.68340, val_loss: 0.76600\n",
      "Epoch 8/250 - train_loss: 0.68314, val_loss: 0.69446\n",
      "Epoch 9/250 - train_loss: 0.71279, val_loss: 0.69728\n",
      "Epoch 10/250 - train_loss: 0.66436, val_loss: 0.68824\n",
      "Epoch 11/250 - train_loss: 0.65602, val_loss: 0.72331\n",
      "Epoch 12/250 - train_loss: 0.66920, val_loss: 0.76404\n",
      "Epoch 13/250 - train_loss: 0.67404, val_loss: 0.77905\n",
      "Epoch 14/250 - train_loss: 0.66483, val_loss: 0.76631\n",
      "Epoch 15/250 - train_loss: 0.64788, val_loss: 0.73352\n",
      "Epoch 16/250 - train_loss: 0.63806, val_loss: 0.69693\n",
      "Epoch 17/250 - train_loss: 0.65049, val_loss: 0.67801\n",
      "Epoch 18/250 - train_loss: 0.65938, val_loss: 0.67827\n",
      "Epoch 19/250 - train_loss: 0.63954, val_loss: 0.69795\n",
      "Epoch 20/250 - train_loss: 0.64426, val_loss: 0.72779\n",
      "Epoch 21/250 - train_loss: 0.65239, val_loss: 0.74800\n",
      "Epoch 22/250 - train_loss: 0.65529, val_loss: 0.75298\n",
      "Epoch 23/250 - train_loss: 0.65269, val_loss: 0.74573\n",
      "Epoch 24/250 - train_loss: 0.64757, val_loss: 0.73122\n",
      "Epoch 25/250 - train_loss: 0.64384, val_loss: 0.71510\n",
      "Epoch 26/250 - train_loss: 0.64365, val_loss: 0.70220\n",
      "Epoch 27/250 - train_loss: 0.64474, val_loss: 0.69352\n",
      "Epoch 28/250 - train_loss: 0.64380, val_loss: 0.68707\n",
      "Epoch 29/250 - train_loss: 0.64100, val_loss: 0.68166\n",
      "Epoch 30/250 - train_loss: 0.63818, val_loss: 0.67697\n",
      "Epoch 31/250 - train_loss: 0.63651, val_loss: 0.67278\n",
      "Epoch 32/250 - train_loss: 0.63614, val_loss: 0.66936\n",
      "Epoch 33/250 - train_loss: 0.63653, val_loss: 0.66753\n",
      "Epoch 34/250 - train_loss: 0.63686, val_loss: 0.66802\n",
      "Epoch 35/250 - train_loss: 0.63678, val_loss: 0.67092\n",
      "Epoch 36/250 - train_loss: 0.63643, val_loss: 0.67541\n",
      "Epoch 37/250 - train_loss: 0.63590, val_loss: 0.68008\n",
      "Epoch 38/250 - train_loss: 0.63497, val_loss: 0.68347\n",
      "Epoch 39/250 - train_loss: 0.63339, val_loss: 0.68462\n",
      "Epoch 40/250 - train_loss: 0.63124, val_loss: 0.68326\n",
      "Epoch 41/250 - train_loss: 0.62900, val_loss: 0.67982\n",
      "Epoch 42/250 - train_loss: 0.62739, val_loss: 0.67533\n",
      "Epoch 43/250 - train_loss: 0.62682, val_loss: 0.67115\n",
      "Epoch 44/250 - train_loss: 0.62694, val_loss: 0.66846\n",
      "Epoch 45/250 - train_loss: 0.62668, val_loss: 0.66783\n",
      "Epoch 46/250 - train_loss: 0.62538, val_loss: 0.66939\n",
      "Epoch 47/250 - train_loss: 0.62357, val_loss: 0.67296\n",
      "Epoch 48/250 - train_loss: 0.62224, val_loss: 0.67791\n",
      "Epoch 49/250 - train_loss: 0.62166, val_loss: 0.68298\n",
      "Epoch 50/250 - train_loss: 0.62139, val_loss: 0.68668\n",
      "Epoch 51/250 - train_loss: 0.62080, val_loss: 0.68791\n",
      "Epoch 52/250 - train_loss: 0.61966, val_loss: 0.68628\n",
      "Epoch 53/250 - train_loss: 0.61821, val_loss: 0.68227\n",
      "Epoch 54/250 - train_loss: 0.61699, val_loss: 0.67712\n",
      "Epoch 55/250 - train_loss: 0.61626, val_loss: 0.67245\n",
      "Epoch 56/250 - train_loss: 0.61566, val_loss: 0.66955\n",
      "Epoch 57/250 - train_loss: 0.61456, val_loss: 0.66900\n",
      "Epoch 58/250 - train_loss: 0.61304, val_loss: 0.67063\n",
      "Epoch 59/250 - train_loss: 0.61165, val_loss: 0.67359\n",
      "Epoch 60/250 - train_loss: 0.61060, val_loss: 0.67645\n",
      "Epoch 61/250 - train_loss: 0.60955, val_loss: 0.67768\n",
      "Epoch 62/250 - train_loss: 0.60815, val_loss: 0.67644\n",
      "Epoch 63/250 - train_loss: 0.60646, val_loss: 0.67292\n",
      "Epoch 64/250 - train_loss: 0.60482, val_loss: 0.66830\n",
      "Epoch 65/250 - train_loss: 0.60332, val_loss: 0.66412\n",
      "Epoch 66/250 - train_loss: 0.60160, val_loss: 0.66143\n",
      "Epoch 67/250 - train_loss: 0.59939, val_loss: 0.66045\n",
      "Epoch 68/250 - train_loss: 0.59701, val_loss: 0.66048\n",
      "Epoch 69/250 - train_loss: 0.59461, val_loss: 0.65999\n",
      "Epoch 70/250 - train_loss: 0.59186, val_loss: 0.65730\n",
      "Epoch 71/250 - train_loss: 0.58854, val_loss: 0.65181\n",
      "Epoch 72/250 - train_loss: 0.58489, val_loss: 0.64460\n",
      "Epoch 73/250 - train_loss: 0.58099, val_loss: 0.63753\n",
      "Epoch 74/250 - train_loss: 0.57640, val_loss: 0.63159\n",
      "Epoch 75/250 - train_loss: 0.57108, val_loss: 0.62635\n",
      "Epoch 76/250 - train_loss: 0.56537, val_loss: 0.62032\n",
      "Epoch 77/250 - train_loss: 0.55921, val_loss: 0.61167\n",
      "Epoch 78/250 - train_loss: 0.55259, val_loss: 0.60010\n",
      "Epoch 79/250 - train_loss: 0.54599, val_loss: 0.58722\n",
      "Epoch 80/250 - train_loss: 0.53959, val_loss: 0.57477\n",
      "Epoch 81/250 - train_loss: 0.53352, val_loss: 0.56363\n",
      "Epoch 82/250 - train_loss: 0.52833, val_loss: 0.55397\n",
      "Epoch 83/250 - train_loss: 0.52437, val_loss: 0.54522\n",
      "Epoch 84/250 - train_loss: 0.52161, val_loss: 0.53700\n",
      "Epoch 85/250 - train_loss: 0.52001, val_loss: 0.52972\n",
      "Epoch 86/250 - train_loss: 0.51946, val_loss: 0.52420\n",
      "Epoch 87/250 - train_loss: 0.51960, val_loss: 0.52086\n",
      "Epoch 88/250 - train_loss: 0.52000, val_loss: 0.51944\n",
      "Epoch 89/250 - train_loss: 0.52034, val_loss: 0.51908\n",
      "Epoch 90/250 - train_loss: 0.52029, val_loss: 0.51869\n",
      "Epoch 91/250 - train_loss: 0.51962, val_loss: 0.51754\n",
      "Epoch 92/250 - train_loss: 0.51836, val_loss: 0.51573\n",
      "Epoch 93/250 - train_loss: 0.51676, val_loss: 0.51405\n",
      "Epoch 94/250 - train_loss: 0.51501, val_loss: 0.51341\n",
      "Epoch 95/250 - train_loss: 0.51329, val_loss: 0.51417\n",
      "Epoch 96/250 - train_loss: 0.51181, val_loss: 0.51599\n",
      "Epoch 97/250 - train_loss: 0.51069, val_loss: 0.51806\n",
      "Epoch 98/250 - train_loss: 0.50996, val_loss: 0.51979\n",
      "Epoch 99/250 - train_loss: 0.50963, val_loss: 0.52134\n",
      "Epoch 100/250 - train_loss: 0.50961, val_loss: 0.52325\n",
      "Epoch 101/250 - train_loss: 0.50974, val_loss: 0.52565\n",
      "Epoch 102/250 - train_loss: 0.50999, val_loss: 0.52793\n",
      "Epoch 103/250 - train_loss: 0.51025, val_loss: 0.52924\n",
      "Epoch 104/250 - train_loss: 0.51045, val_loss: 0.52947\n",
      "Epoch 105/250 - train_loss: 0.51059, val_loss: 0.52933\n",
      "Epoch 106/250 - train_loss: 0.51061, val_loss: 0.52948\n",
      "Epoch 107/250 - train_loss: 0.51054, val_loss: 0.52979\n",
      "Epoch 108/250 - train_loss: 0.51040, val_loss: 0.52958\n",
      "Epoch 109/250 - train_loss: 0.51021, val_loss: 0.52851\n",
      "Epoch 110/250 - train_loss: 0.51001, val_loss: 0.52707\n",
      "Epoch 111/250 - train_loss: 0.50983, val_loss: 0.52595\n",
      "Epoch 112/250 - train_loss: 0.50967, val_loss: 0.52519\n",
      "Epoch 113/250 - train_loss: 0.50956, val_loss: 0.52428\n",
      "Epoch 114/250 - train_loss: 0.50950, val_loss: 0.52289\n",
      "Epoch 115/250 - train_loss: 0.50950, val_loss: 0.52141\n",
      "Epoch 116/250 - train_loss: 0.50953, val_loss: 0.52043\n",
      "Epoch 117/250 - train_loss: 0.50958, val_loss: 0.52005\n",
      "Epoch 118/250 - train_loss: 0.50964, val_loss: 0.51982\n",
      "Epoch 119/250 - train_loss: 0.50968, val_loss: 0.51940\n",
      "Epoch 120/250 - train_loss: 0.50970, val_loss: 0.51896\n",
      "Epoch 121/250 - train_loss: 0.50969, val_loss: 0.51889\n",
      "Epoch 122/250 - train_loss: 0.50966, val_loss: 0.51924\n",
      "Epoch 123/250 - train_loss: 0.50960, val_loss: 0.51965\n",
      "Epoch 124/250 - train_loss: 0.50953, val_loss: 0.51980\n",
      "Epoch 125/250 - train_loss: 0.50946, val_loss: 0.51986\n",
      "Epoch 126/250 - train_loss: 0.50940, val_loss: 0.52016\n",
      "Epoch 127/250 - train_loss: 0.50935, val_loss: 0.52078\n",
      "Epoch 128/250 - train_loss: 0.50931, val_loss: 0.52141\n",
      "Epoch 129/250 - train_loss: 0.50929, val_loss: 0.52181\n",
      "Epoch 130/250 - train_loss: 0.50928, val_loss: 0.52208\n",
      "Epoch 131/250 - train_loss: 0.50927, val_loss: 0.52246\n",
      "Epoch 132/250 - train_loss: 0.50927, val_loss: 0.52293\n",
      "Epoch 133/250 - train_loss: 0.50927, val_loss: 0.52323\n",
      "Epoch 134/250 - train_loss: 0.50927, val_loss: 0.52319\n",
      "Epoch 135/250 - train_loss: 0.50926, val_loss: 0.52300\n",
      "Epoch 136/250 - train_loss: 0.50925, val_loss: 0.52289\n",
      "Epoch 137/250 - train_loss: 0.50924, val_loss: 0.52284\n",
      "Epoch 138/250 - train_loss: 0.50922, val_loss: 0.52265\n",
      "Epoch 139/250 - train_loss: 0.50921, val_loss: 0.52229\n",
      "Epoch 140/250 - train_loss: 0.50920, val_loss: 0.52195\n",
      "Epoch 141/250 - train_loss: 0.50919, val_loss: 0.52176\n",
      "Epoch 142/250 - train_loss: 0.50918, val_loss: 0.52162\n",
      "Epoch 143/250 - train_loss: 0.50918, val_loss: 0.52137\n",
      "Epoch 144/250 - train_loss: 0.50918, val_loss: 0.52105\n",
      "Epoch 145/250 - train_loss: 0.50918, val_loss: 0.52083\n",
      "Epoch 146/250 - train_loss: 0.50918, val_loss: 0.52075\n",
      "Epoch 147/250 - train_loss: 0.50919, val_loss: 0.52072\n",
      "Epoch 148/250 - train_loss: 0.50919, val_loss: 0.52064\n",
      "Epoch 149/250 - train_loss: 0.50919, val_loss: 0.52059\n",
      "Epoch 150/250 - train_loss: 0.50919, val_loss: 0.52069\n",
      "Epoch 151/250 - train_loss: 0.50918, val_loss: 0.52087\n",
      "Epoch 152/250 - train_loss: 0.50918, val_loss: 0.52101\n",
      "Epoch 153/250 - train_loss: 0.50918, val_loss: 0.52108\n",
      "Epoch 154/250 - train_loss: 0.50918, val_loss: 0.52118\n",
      "Epoch 155/250 - train_loss: 0.50917, val_loss: 0.52135\n",
      "Epoch 156/250 - train_loss: 0.50917, val_loss: 0.52150\n",
      "Epoch 157/250 - train_loss: 0.50917, val_loss: 0.52157\n",
      "Epoch 158/250 - train_loss: 0.50917, val_loss: 0.52161\n",
      "Epoch 159/250 - train_loss: 0.50917, val_loss: 0.52170\n",
      "Epoch 160/250 - train_loss: 0.50917, val_loss: 0.52179\n",
      "Epoch 161/250 - train_loss: 0.50917, val_loss: 0.52182\n",
      "Epoch 162/250 - train_loss: 0.50917, val_loss: 0.52176\n",
      "Epoch 163/250 - train_loss: 0.50917, val_loss: 0.52171\n",
      "Epoch 164/250 - train_loss: 0.50917, val_loss: 0.52169\n",
      "Epoch 165/250 - train_loss: 0.50917, val_loss: 0.52164\n",
      "Epoch 166/250 - train_loss: 0.50917, val_loss: 0.52153\n",
      "Epoch 167/250 - train_loss: 0.50917, val_loss: 0.52144\n",
      "Epoch 168/250 - train_loss: 0.50917, val_loss: 0.52141\n",
      "Epoch 169/250 - train_loss: 0.50917, val_loss: 0.52138\n",
      "Epoch 170/250 - train_loss: 0.50917, val_loss: 0.52133\n",
      "Epoch 171/250 - train_loss: 0.50917, val_loss: 0.52127\n",
      "Epoch 172/250 - train_loss: 0.50917, val_loss: 0.52126\n",
      "Epoch 173/250 - train_loss: 0.50917, val_loss: 0.52127\n",
      "Epoch 174/250 - train_loss: 0.50917, val_loss: 0.52127\n",
      "Epoch 175/250 - train_loss: 0.50917, val_loss: 0.52126\n",
      "Epoch 176/250 - train_loss: 0.50917, val_loss: 0.52129\n",
      "Epoch 177/250 - train_loss: 0.50917, val_loss: 0.52135\n",
      "Epoch 178/250 - train_loss: 0.50917, val_loss: 0.52139\n",
      "Epoch 179/250 - train_loss: 0.50917, val_loss: 0.52141\n",
      "Epoch 180/250 - train_loss: 0.50917, val_loss: 0.52145\n",
      "Epoch 181/250 - train_loss: 0.50917, val_loss: 0.52149\n",
      "Epoch 182/250 - train_loss: 0.50917, val_loss: 0.52151\n",
      "Epoch 183/250 - train_loss: 0.50917, val_loss: 0.52151\n",
      "Epoch 184/250 - train_loss: 0.50917, val_loss: 0.52152\n",
      "Epoch 185/250 - train_loss: 0.50917, val_loss: 0.52154\n",
      "Epoch 186/250 - train_loss: 0.50917, val_loss: 0.52154\n",
      "Epoch 187/250 - train_loss: 0.50917, val_loss: 0.52152\n",
      "Epoch 188/250 - train_loss: 0.50917, val_loss: 0.52151\n",
      "Epoch 189/250 - train_loss: 0.50917, val_loss: 0.52150\n",
      "Epoch 190/250 - train_loss: 0.50917, val_loss: 0.52148\n",
      "Epoch 191/250 - train_loss: 0.50917, val_loss: 0.52144\n",
      "Epoch 192/250 - train_loss: 0.50917, val_loss: 0.52142\n",
      "Epoch 193/250 - train_loss: 0.50917, val_loss: 0.52142\n",
      "Epoch 194/250 - train_loss: 0.50917, val_loss: 0.52140\n",
      "Epoch 195/250 - train_loss: 0.50917, val_loss: 0.52139\n",
      "Epoch 196/250 - train_loss: 0.50917, val_loss: 0.52139\n",
      "Epoch 197/250 - train_loss: 0.50917, val_loss: 0.52140\n",
      "Epoch 198/250 - train_loss: 0.50917, val_loss: 0.52139\n",
      "Epoch 199/250 - train_loss: 0.50917, val_loss: 0.52139\n",
      "Epoch 200/250 - train_loss: 0.50917, val_loss: 0.52140\n",
      "Epoch 201/250 - train_loss: 0.50917, val_loss: 0.52142\n",
      "Epoch 202/250 - train_loss: 0.50917, val_loss: 0.52142\n",
      "Epoch 203/250 - train_loss: 0.50917, val_loss: 0.52143\n",
      "Epoch 204/250 - train_loss: 0.50917, val_loss: 0.52144\n",
      "Epoch 205/250 - train_loss: 0.50917, val_loss: 0.52145\n",
      "Epoch 206/250 - train_loss: 0.50917, val_loss: 0.52145\n",
      "Epoch 207/250 - train_loss: 0.50917, val_loss: 0.52145\n",
      "Epoch 208/250 - train_loss: 0.50917, val_loss: 0.52146\n",
      "Epoch 209/250 - train_loss: 0.50917, val_loss: 0.52145\n",
      "Epoch 210/250 - train_loss: 0.50917, val_loss: 0.52144\n",
      "Epoch 211/250 - train_loss: 0.50917, val_loss: 0.52144\n",
      "Epoch 212/250 - train_loss: 0.50917, val_loss: 0.52144\n",
      "Epoch 213/250 - train_loss: 0.50917, val_loss: 0.52143\n",
      "Epoch 214/250 - train_loss: 0.50917, val_loss: 0.52143\n",
      "Epoch 215/250 - train_loss: 0.50917, val_loss: 0.52143\n",
      "Epoch 216/250 - train_loss: 0.50917, val_loss: 0.52142\n",
      "Epoch 217/250 - train_loss: 0.50917, val_loss: 0.52141\n",
      "Epoch 218/250 - train_loss: 0.50917, val_loss: 0.52142\n",
      "Epoch 219/250 - train_loss: 0.50917, val_loss: 0.52142\n",
      "Epoch 220/250 - train_loss: 0.50917, val_loss: 0.52142\n",
      "Epoch 221/250 - train_loss: 0.50917, val_loss: 0.52142\n",
      "Epoch 222/250 - train_loss: 0.50917, val_loss: 0.52142\n",
      "Epoch 223/250 - train_loss: 0.50917, val_loss: 0.52143\n",
      "Epoch 224/250 - train_loss: 0.50917, val_loss: 0.52143\n",
      "Epoch 225/250 - train_loss: 0.50917, val_loss: 0.52143\n",
      "Epoch 226/250 - train_loss: 0.50917, val_loss: 0.52144\n",
      "Epoch 227/250 - train_loss: 0.50917, val_loss: 0.52144\n",
      "Epoch 228/250 - train_loss: 0.50917, val_loss: 0.52144\n",
      "Epoch 229/250 - train_loss: 0.50917, val_loss: 0.52144\n",
      "Epoch 230/250 - train_loss: 0.50917, val_loss: 0.52144\n",
      "Epoch 231/250 - train_loss: 0.50917, val_loss: 0.52144\n",
      "Epoch 232/250 - train_loss: 0.50917, val_loss: 0.52144\n",
      "Epoch 233/250 - train_loss: 0.50917, val_loss: 0.52144\n",
      "Epoch 234/250 - train_loss: 0.50917, val_loss: 0.52143\n",
      "Epoch 235/250 - train_loss: 0.50917, val_loss: 0.52143\n",
      "Epoch 236/250 - train_loss: 0.50917, val_loss: 0.52143\n",
      "Epoch 237/250 - train_loss: 0.50917, val_loss: 0.52143\n",
      "Epoch 238/250 - train_loss: 0.50917, val_loss: 0.52143\n",
      "Epoch 239/250 - train_loss: 0.50917, val_loss: 0.52143\n",
      "Epoch 240/250 - train_loss: 0.50917, val_loss: 0.52143\n",
      "Epoch 241/250 - train_loss: 0.50917, val_loss: 0.52143\n",
      "Epoch 242/250 - train_loss: 0.50917, val_loss: 0.52143\n",
      "Epoch 243/250 - train_loss: 0.50917, val_loss: 0.52143\n",
      "Epoch 244/250 - train_loss: 0.50917, val_loss: 0.52143\n",
      "Epoch 245/250 - train_loss: 0.50917, val_loss: 0.52143\n",
      "Epoch 246/250 - train_loss: 0.50917, val_loss: 0.52143\n",
      "Epoch 247/250 - train_loss: 0.50917, val_loss: 0.52143\n",
      "Epoch 248/250 - train_loss: 0.50917, val_loss: 0.52143\n",
      "Epoch 249/250 - train_loss: 0.50917, val_loss: 0.52143\n",
      "Epoch 250/250 - train_loss: 0.50917, val_loss: 0.52143\n",
      "Executing fit_model took 7.68969 seconds.\n"
     ]
    }
   ],
   "source": [
    "@execution_time\n",
    "def fit_model():\n",
    "    model.fit(\n",
    "        x_train=X_train,\n",
    "        y_train=y_train,\n",
    "        x_val=X_val,\n",
    "        y_val=y_val,\n",
    "        num_epochs=250,\n",
    "        learning_rate=0.3\n",
    "    )\n",
    "    \n",
    "fit_model()"
   ],
   "metadata": {
    "collapsed": false,
    "ExecuteTime": {
     "end_time": "2024-01-31T20:47:19.345782900Z",
     "start_time": "2024-01-31T20:47:11.649879400Z"
    }
   },
   "id": "be197712bd816304",
   "execution_count": 7
  },
  {
   "cell_type": "markdown",
   "source": [
    "We trained the model in **~7.69 seconds**.\n",
    "\n",
    "With the model now trained, our next step is to evaluate its performance on the test data. In order to present the model's performance Scikit-learn _classification_report_ and _ConfusionMatrixDisplay_ methods will be used."
   ],
   "metadata": {
    "collapsed": false
   },
   "id": "4bba96af9c2c9fa4"
  },
  {
   "cell_type": "code",
   "outputs": [
    {
     "name": "stdout",
     "output_type": "stream",
     "text": [
      "              precision    recall  f1-score   support\n",
      "\n",
      "           0       0.64      0.56      0.60        16\n",
      "           1       0.84      0.88      0.86        41\n",
      "\n",
      "    accuracy                           0.79        57\n",
      "   macro avg       0.74      0.72      0.73        57\n",
      "weighted avg       0.78      0.79      0.78        57\n"
     ]
    },
    {
     "data": {
      "text/plain": "<Figure size 640x480 with 2 Axes>",
      "image/png": "[encoded data removed]"
     },
     "metadata": {},
     "output_type": "display_data"
    }
   ],
   "source": [
    "# Make predictions\n",
    "y_pred = model.predict(X_test)\n",
    "\n",
    "# Evaluate the classifier\n",
    "print(classification_report(y_test, y_pred))\n",
    "\n",
    "# Display confusion matrix\n",
    "cm = confusion_matrix(y_test, y_pred, labels=[0, 1])\n",
    "disp = ConfusionMatrixDisplay(confusion_matrix=cm, display_labels=['benign', 'malignant'])\n",
    "disp.plot(cmap='Greens')\n",
    "plt.show()"
   ],
   "metadata": {
    "collapsed": false,
    "ExecuteTime": {
     "end_time": "2024-01-31T20:49:18.433591800Z",
     "start_time": "2024-01-31T20:49:18.157003800Z"
    }
   },
   "id": "fad9248642ccc4d",
   "execution_count": 8
  },
  {
   "cell_type": "markdown",
   "source": [
    "Having achieved approximately 80% accuracy with our current model setup, our next objective is to enhance the model's performance while also aiming for a more efficient training time. To accomplish this, we will explore the customization capabilities of FastQML by implementing a custom variational function.\n",
    "\n",
    "Furthermore, we will utilize the JAX backend for training. The JAX backend in FastQML is known for its efficiency in computation, particularly beneficial for quantum machine learning tasks. By leveraging Just-in-Time (JIT) compilation and other optimization features of JAX, we anticipate a reduction in training time without compromising the model's performance."
   ],
   "metadata": {
    "collapsed": false
   },
   "id": "7d3dd40ac60f3548"
  },
  {
   "cell_type": "code",
   "outputs": [],
   "source": [
    "# Set backend to JAX for CPU computations acceleration\n",
    "fast_qml.update(device='cpu.jax')"
   ],
   "metadata": {
    "collapsed": false,
    "ExecuteTime": {
     "end_time": "2024-01-31T20:50:22.546804400Z",
     "start_time": "2024-01-31T20:50:22.525421700Z"
    }
   },
   "id": "55a721e25bfbf9da",
   "execution_count": 9
  },
  {
   "cell_type": "code",
   "outputs": [],
   "source": [
    "n_qubits = 5\n",
    "\n",
    "# Define custom variational function\n",
    "def naive_var_func(params):\n",
    "    # First block of rotations\n",
    "    first_block_rotations = [qml.RX, qml.RY, qml.RX, qml.RY, qml.RX]\n",
    "    for i, rotation in enumerate(first_block_rotations):\n",
    "        rotation(params[i], wires=[i])\n",
    "        \n",
    "    # Second block of rotations\n",
    "    rot_number = 0\n",
    "    for i in range(0, n_qubits, 2):\n",
    "        qml.RY(params[n_qubits + rot_number], wires=[i])\n",
    "        rot_number += 1\n",
    "    \n",
    "# We wil use the same features map\n",
    "feature_map = AmplitudeEmbedding(\n",
    "    n_qubits=n_qubits,\n",
    "    pad_with=0.0\n",
    ")\n",
    "\n",
    "# We can define ansatz with our user-defined variational form function\n",
    "ansatz = Ansatz(\n",
    "    n_qubits=n_qubits,\n",
    "    variational_func=naive_var_func,\n",
    "    parameters_num=8,\n",
    "    entanglement='circular',\n",
    "    reps=2\n",
    ")"
   ],
   "metadata": {
    "collapsed": false,
    "ExecuteTime": {
     "end_time": "2024-01-31T20:50:25.499280300Z",
     "start_time": "2024-01-31T20:50:25.494763400Z"
    }
   },
   "id": "64604c0d2cde8450",
   "execution_count": 10
  },
  {
   "cell_type": "code",
   "outputs": [],
   "source": [
    "# Create VQClassifier model with defined ansatz and feature map\n",
    "model = VQClassifier(\n",
    "    n_qubits=n_qubits,\n",
    "    feature_map=feature_map,\n",
    "    ansatz=ansatz,\n",
    "    classes_num=2\n",
    ")"
   ],
   "metadata": {
    "collapsed": false,
    "ExecuteTime": {
     "end_time": "2024-01-31T20:50:28.887973800Z",
     "start_time": "2024-01-31T20:50:28.842956700Z"
    }
   },
   "id": "9fb50f50b0c6276b",
   "execution_count": 11
  },
  {
   "cell_type": "code",
   "outputs": [
    {
     "name": "stdout",
     "output_type": "stream",
     "text": [
      "0: ─╭|Ψ⟩──RX(0.04)──RY(0.05)─╭●──────────╭X──||──RX(0.06)──RY(0.06)─╭●──────────╭X──||──RX(0.04)\n",
      "1: ─├|Ψ⟩──RY(0.07)───────────╰X─╭●───────│───||──RY(0.08)───────────╰X─╭●───────│───||──RY(0.08)\n",
      "2: ─├|Ψ⟩──RX(0.08)──RY(0.02)────╰X─╭●────│───||──RX(0.07)──RY(0.06)────╰X─╭●────│───||──RX(0.10)\n",
      "3: ─├|Ψ⟩──RY(0.01)─────────────────╰X─╭●─│───||──RY(0.01)─────────────────╰X─╭●─│───||──RY(0.06)\n",
      "4: ─╰|Ψ⟩──RX(0.08)──RY(0.02)──────────╰X─╰●──||──RX(0.05)──RY(0.07)──────────╰X─╰●──||──RX(0.07)\n",
      "\n",
      "───RY(0.03)─┤  \n",
      "────────────┤  \n",
      "───RY(0.05)─┤  \n",
      "────────────┤  \n",
      "───RY(0.06)─┤  \n"
     ]
    }
   ],
   "source": [
    "model.draw_circuit()"
   ],
   "metadata": {
    "collapsed": false,
    "ExecuteTime": {
     "end_time": "2024-01-31T20:50:29.428979200Z",
     "start_time": "2024-01-31T20:50:29.417779800Z"
    }
   },
   "id": "c9928962e4727c0e",
   "execution_count": 12
  },
  {
   "cell_type": "code",
   "outputs": [
    {
     "name": "stdout",
     "output_type": "stream",
     "text": [
      "Epoch 1/250 - train_loss: 0.43727, val_loss: 0.49743\n",
      "Epoch 2/250 - train_loss: 0.52597, val_loss: 0.44355\n",
      "Epoch 3/250 - train_loss: 0.47369, val_loss: 0.55569\n",
      "Epoch 4/250 - train_loss: 0.50923, val_loss: 0.51819\n",
      "Epoch 5/250 - train_loss: 0.48354, val_loss: 0.45303\n",
      "Epoch 6/250 - train_loss: 0.46377, val_loss: 0.44464\n",
      "Epoch 7/250 - train_loss: 0.47077, val_loss: 0.46247\n",
      "Epoch 8/250 - train_loss: 0.46278, val_loss: 0.48801\n",
      "Epoch 9/250 - train_loss: 0.46365, val_loss: 0.49338\n",
      "Epoch 10/250 - train_loss: 0.46116, val_loss: 0.47952\n",
      "Epoch 11/250 - train_loss: 0.45554, val_loss: 0.46229\n",
      "Epoch 12/250 - train_loss: 0.45382, val_loss: 0.45134\n",
      "Epoch 13/250 - train_loss: 0.45337, val_loss: 0.44730\n",
      "Epoch 14/250 - train_loss: 0.44930, val_loss: 0.45057\n",
      "Epoch 15/250 - train_loss: 0.44674, val_loss: 0.45622\n",
      "Epoch 16/250 - train_loss: 0.44805, val_loss: 0.45781\n",
      "Epoch 17/250 - train_loss: 0.45027, val_loss: 0.45434\n",
      "Epoch 18/250 - train_loss: 0.45080, val_loss: 0.44895\n",
      "Epoch 19/250 - train_loss: 0.44876, val_loss: 0.44541\n",
      "Epoch 20/250 - train_loss: 0.44508, val_loss: 0.44548\n",
      "Epoch 21/250 - train_loss: 0.44205, val_loss: 0.44759\n",
      "Epoch 22/250 - train_loss: 0.44098, val_loss: 0.44871\n",
      "Epoch 23/250 - train_loss: 0.44132, val_loss: 0.44783\n",
      "Epoch 24/250 - train_loss: 0.44227, val_loss: 0.44621\n",
      "Epoch 25/250 - train_loss: 0.44315, val_loss: 0.44516\n",
      "Epoch 26/250 - train_loss: 0.44293, val_loss: 0.44489\n",
      "Epoch 27/250 - train_loss: 0.44154, val_loss: 0.44468\n",
      "Epoch 28/250 - train_loss: 0.44003, val_loss: 0.44383\n",
      "Epoch 29/250 - train_loss: 0.43934, val_loss: 0.44284\n",
      "Epoch 30/250 - train_loss: 0.43962, val_loss: 0.44272\n",
      "Epoch 31/250 - train_loss: 0.44003, val_loss: 0.44354\n",
      "Epoch 32/250 - train_loss: 0.43975, val_loss: 0.44430\n",
      "Epoch 33/250 - train_loss: 0.43909, val_loss: 0.44358\n",
      "Epoch 34/250 - train_loss: 0.43859, val_loss: 0.44138\n",
      "Epoch 35/250 - train_loss: 0.43854, val_loss: 0.43969\n",
      "Epoch 36/250 - train_loss: 0.43896, val_loss: 0.44039\n",
      "Epoch 37/250 - train_loss: 0.43915, val_loss: 0.44334\n",
      "Epoch 38/250 - train_loss: 0.43877, val_loss: 0.44621\n",
      "Epoch 39/250 - train_loss: 0.43832, val_loss: 0.44632\n",
      "Epoch 40/250 - train_loss: 0.43792, val_loss: 0.44384\n",
      "Epoch 41/250 - train_loss: 0.43775, val_loss: 0.44154\n",
      "Epoch 42/250 - train_loss: 0.43802, val_loss: 0.44130\n",
      "Epoch 43/250 - train_loss: 0.43830, val_loss: 0.44252\n",
      "Epoch 44/250 - train_loss: 0.43827, val_loss: 0.44333\n",
      "Epoch 45/250 - train_loss: 0.43791, val_loss: 0.44290\n",
      "Epoch 46/250 - train_loss: 0.43751, val_loss: 0.44238\n",
      "Epoch 47/250 - train_loss: 0.43752, val_loss: 0.44313\n",
      "Epoch 48/250 - train_loss: 0.43779, val_loss: 0.44481\n",
      "Epoch 49/250 - train_loss: 0.43791, val_loss: 0.44565\n",
      "Epoch 50/250 - train_loss: 0.43778, val_loss: 0.44444\n",
      "Epoch 51/250 - train_loss: 0.43751, val_loss: 0.44217\n",
      "Epoch 52/250 - train_loss: 0.43737, val_loss: 0.44095\n",
      "Epoch 53/250 - train_loss: 0.43745, val_loss: 0.44154\n",
      "Epoch 54/250 - train_loss: 0.43758, val_loss: 0.44276\n",
      "Epoch 55/250 - train_loss: 0.43761, val_loss: 0.44295\n",
      "Epoch 56/250 - train_loss: 0.43748, val_loss: 0.44208\n",
      "Epoch 57/250 - train_loss: 0.43736, val_loss: 0.44159\n",
      "Epoch 58/250 - train_loss: 0.43738, val_loss: 0.44234\n",
      "Epoch 59/250 - train_loss: 0.43743, val_loss: 0.44349\n",
      "Epoch 60/250 - train_loss: 0.43744, val_loss: 0.44352\n",
      "Epoch 61/250 - train_loss: 0.43739, val_loss: 0.44229\n",
      "Epoch 62/250 - train_loss: 0.43734, val_loss: 0.44113\n",
      "Epoch 63/250 - train_loss: 0.43735, val_loss: 0.44110\n",
      "Epoch 64/250 - train_loss: 0.43736, val_loss: 0.44178\n",
      "Epoch 65/250 - train_loss: 0.43736, val_loss: 0.44205\n",
      "Epoch 66/250 - train_loss: 0.43735, val_loss: 0.44166\n",
      "Epoch 67/250 - train_loss: 0.43731, val_loss: 0.44146\n",
      "Epoch 68/250 - train_loss: 0.43731, val_loss: 0.44199\n",
      "Epoch 69/250 - train_loss: 0.43732, val_loss: 0.44263\n",
      "Epoch 70/250 - train_loss: 0.43732, val_loss: 0.44245\n",
      "Epoch 71/250 - train_loss: 0.43731, val_loss: 0.44160\n",
      "Epoch 72/250 - train_loss: 0.43729, val_loss: 0.44113\n",
      "Epoch 73/250 - train_loss: 0.43729, val_loss: 0.44162\n",
      "Epoch 74/250 - train_loss: 0.43729, val_loss: 0.44241\n",
      "Epoch 75/250 - train_loss: 0.43730, val_loss: 0.44254\n",
      "Epoch 76/250 - train_loss: 0.43730, val_loss: 0.44200\n",
      "Epoch 77/250 - train_loss: 0.43728, val_loss: 0.44159\n",
      "Epoch 78/250 - train_loss: 0.43727, val_loss: 0.44174\n",
      "Epoch 79/250 - train_loss: 0.43728, val_loss: 0.44201\n",
      "Epoch 80/250 - train_loss: 0.43729, val_loss: 0.44192\n",
      "Epoch 81/250 - train_loss: 0.43728, val_loss: 0.44171\n",
      "Epoch 82/250 - train_loss: 0.43728, val_loss: 0.44187\n",
      "Epoch 83/250 - train_loss: 0.43727, val_loss: 0.44230\n",
      "Epoch 84/250 - train_loss: 0.43727, val_loss: 0.44240\n",
      "Epoch 85/250 - train_loss: 0.43728, val_loss: 0.44199\n",
      "Epoch 86/250 - train_loss: 0.43727, val_loss: 0.44165\n",
      "Epoch 87/250 - train_loss: 0.43727, val_loss: 0.44181\n",
      "Epoch 88/250 - train_loss: 0.43727, val_loss: 0.44217\n",
      "Epoch 89/250 - train_loss: 0.43727, val_loss: 0.44223\n",
      "Epoch 90/250 - train_loss: 0.43727, val_loss: 0.44202\n",
      "Epoch 91/250 - train_loss: 0.43727, val_loss: 0.44198\n",
      "Epoch 92/250 - train_loss: 0.43727, val_loss: 0.44221\n",
      "Epoch 93/250 - train_loss: 0.43727, val_loss: 0.44230\n",
      "Epoch 94/250 - train_loss: 0.43727, val_loss: 0.44207\n",
      "Epoch 95/250 - train_loss: 0.43727, val_loss: 0.44186\n",
      "Epoch 96/250 - train_loss: 0.43727, val_loss: 0.44194\n",
      "Epoch 97/250 - train_loss: 0.43726, val_loss: 0.44211\n",
      "Epoch 98/250 - train_loss: 0.43727, val_loss: 0.44207\n",
      "Epoch 99/250 - train_loss: 0.43727, val_loss: 0.44194\n",
      "Epoch 100/250 - train_loss: 0.43727, val_loss: 0.44198\n",
      "Epoch 101/250 - train_loss: 0.43726, val_loss: 0.44213\n",
      "Epoch 102/250 - train_loss: 0.43726, val_loss: 0.44211\n",
      "Epoch 103/250 - train_loss: 0.43727, val_loss: 0.44192\n",
      "Epoch 104/250 - train_loss: 0.43726, val_loss: 0.44184\n",
      "Epoch 105/250 - train_loss: 0.43726, val_loss: 0.44197\n",
      "Epoch 106/250 - train_loss: 0.43726, val_loss: 0.44207\n",
      "Epoch 107/250 - train_loss: 0.43726, val_loss: 0.44199\n",
      "Epoch 108/250 - train_loss: 0.43726, val_loss: 0.44188\n",
      "Epoch 109/250 - train_loss: 0.43726, val_loss: 0.44192\n",
      "Epoch 110/250 - train_loss: 0.43726, val_loss: 0.44199\n",
      "Epoch 111/250 - train_loss: 0.43726, val_loss: 0.44196\n",
      "Epoch 112/250 - train_loss: 0.43726, val_loss: 0.44193\n",
      "Epoch 113/250 - train_loss: 0.43726, val_loss: 0.44199\n",
      "Epoch 114/250 - train_loss: 0.43726, val_loss: 0.44207\n",
      "Epoch 115/250 - train_loss: 0.43726, val_loss: 0.44202\n",
      "Epoch 116/250 - train_loss: 0.43726, val_loss: 0.44192\n",
      "Epoch 117/250 - train_loss: 0.43726, val_loss: 0.44192\n",
      "Epoch 118/250 - train_loss: 0.43726, val_loss: 0.44201\n",
      "Epoch 119/250 - train_loss: 0.43726, val_loss: 0.44204\n",
      "Epoch 120/250 - train_loss: 0.43726, val_loss: 0.44199\n",
      "Epoch 121/250 - train_loss: 0.43726, val_loss: 0.44198\n",
      "Epoch 122/250 - train_loss: 0.43726, val_loss: 0.44203\n",
      "Epoch 123/250 - train_loss: 0.43726, val_loss: 0.44202\n",
      "Epoch 124/250 - train_loss: 0.43726, val_loss: 0.44197\n",
      "Epoch 125/250 - train_loss: 0.43726, val_loss: 0.44197\n",
      "Epoch 126/250 - train_loss: 0.43726, val_loss: 0.44202\n",
      "Epoch 127/250 - train_loss: 0.43726, val_loss: 0.44203\n",
      "Epoch 128/250 - train_loss: 0.43726, val_loss: 0.44198\n",
      "Epoch 129/250 - train_loss: 0.43726, val_loss: 0.44198\n",
      "Epoch 130/250 - train_loss: 0.43726, val_loss: 0.44202\n",
      "Epoch 131/250 - train_loss: 0.43726, val_loss: 0.44202\n",
      "Epoch 132/250 - train_loss: 0.43726, val_loss: 0.44198\n",
      "Epoch 133/250 - train_loss: 0.43726, val_loss: 0.44198\n",
      "Epoch 134/250 - train_loss: 0.43726, val_loss: 0.44201\n",
      "Epoch 135/250 - train_loss: 0.43726, val_loss: 0.44201\n",
      "Epoch 136/250 - train_loss: 0.43726, val_loss: 0.44198\n",
      "Epoch 137/250 - train_loss: 0.43726, val_loss: 0.44198\n",
      "Epoch 138/250 - train_loss: 0.43726, val_loss: 0.44200\n",
      "Epoch 139/250 - train_loss: 0.43726, val_loss: 0.44200\n",
      "Epoch 140/250 - train_loss: 0.43726, val_loss: 0.44198\n",
      "Epoch 141/250 - train_loss: 0.43726, val_loss: 0.44200\n",
      "Epoch 142/250 - train_loss: 0.43726, val_loss: 0.44202\n",
      "Epoch 143/250 - train_loss: 0.43726, val_loss: 0.44200\n",
      "Epoch 144/250 - train_loss: 0.43726, val_loss: 0.44197\n",
      "Epoch 145/250 - train_loss: 0.43726, val_loss: 0.44197\n",
      "Epoch 146/250 - train_loss: 0.43726, val_loss: 0.44199\n",
      "Epoch 147/250 - train_loss: 0.43726, val_loss: 0.44199\n",
      "Epoch 148/250 - train_loss: 0.43726, val_loss: 0.44199\n",
      "Epoch 149/250 - train_loss: 0.43726, val_loss: 0.44200\n",
      "Epoch 150/250 - train_loss: 0.43726, val_loss: 0.44200\n",
      "Epoch 151/250 - train_loss: 0.43726, val_loss: 0.44198\n",
      "Epoch 152/250 - train_loss: 0.43726, val_loss: 0.44198\n",
      "Epoch 153/250 - train_loss: 0.43726, val_loss: 0.44199\n",
      "Epoch 154/250 - train_loss: 0.43726, val_loss: 0.44200\n",
      "Epoch 155/250 - train_loss: 0.43726, val_loss: 0.44199\n",
      "Epoch 156/250 - train_loss: 0.43726, val_loss: 0.44199\n",
      "Epoch 157/250 - train_loss: 0.43726, val_loss: 0.44200\n",
      "Epoch 158/250 - train_loss: 0.43726, val_loss: 0.44200\n",
      "Epoch 159/250 - train_loss: 0.43726, val_loss: 0.44199\n",
      "Epoch 160/250 - train_loss: 0.43726, val_loss: 0.44199\n",
      "Epoch 161/250 - train_loss: 0.43726, val_loss: 0.44200\n",
      "Epoch 162/250 - train_loss: 0.43726, val_loss: 0.44200\n",
      "Epoch 163/250 - train_loss: 0.43726, val_loss: 0.44199\n",
      "Epoch 164/250 - train_loss: 0.43726, val_loss: 0.44200\n",
      "Epoch 165/250 - train_loss: 0.43726, val_loss: 0.44200\n",
      "Epoch 166/250 - train_loss: 0.43726, val_loss: 0.44199\n",
      "Epoch 167/250 - train_loss: 0.43726, val_loss: 0.44199\n",
      "Epoch 168/250 - train_loss: 0.43726, val_loss: 0.44200\n",
      "Epoch 169/250 - train_loss: 0.43726, val_loss: 0.44200\n",
      "Epoch 170/250 - train_loss: 0.43726, val_loss: 0.44199\n",
      "Epoch 171/250 - train_loss: 0.43726, val_loss: 0.44199\n",
      "Epoch 172/250 - train_loss: 0.43726, val_loss: 0.44199\n",
      "Epoch 173/250 - train_loss: 0.43726, val_loss: 0.44199\n",
      "Epoch 174/250 - train_loss: 0.43726, val_loss: 0.44199\n",
      "Epoch 175/250 - train_loss: 0.43726, val_loss: 0.44200\n",
      "Epoch 176/250 - train_loss: 0.43726, val_loss: 0.44200\n",
      "Epoch 177/250 - train_loss: 0.43726, val_loss: 0.44199\n",
      "Epoch 178/250 - train_loss: 0.43726, val_loss: 0.44199\n",
      "Epoch 179/250 - train_loss: 0.43726, val_loss: 0.44199\n",
      "Epoch 180/250 - train_loss: 0.43726, val_loss: 0.44199\n",
      "Epoch 181/250 - train_loss: 0.43726, val_loss: 0.44199\n",
      "Epoch 182/250 - train_loss: 0.43726, val_loss: 0.44199\n",
      "Epoch 183/250 - train_loss: 0.43726, val_loss: 0.44199\n",
      "Epoch 184/250 - train_loss: 0.43726, val_loss: 0.44199\n",
      "Epoch 185/250 - train_loss: 0.43726, val_loss: 0.44199\n",
      "Epoch 186/250 - train_loss: 0.43726, val_loss: 0.44199\n",
      "Epoch 187/250 - train_loss: 0.43726, val_loss: 0.44199\n",
      "Epoch 188/250 - train_loss: 0.43726, val_loss: 0.44199\n",
      "Epoch 189/250 - train_loss: 0.43726, val_loss: 0.44199\n",
      "Epoch 190/250 - train_loss: 0.43726, val_loss: 0.44199\n",
      "Epoch 191/250 - train_loss: 0.43726, val_loss: 0.44199\n",
      "Epoch 192/250 - train_loss: 0.43726, val_loss: 0.44199\n",
      "Epoch 193/250 - train_loss: 0.43726, val_loss: 0.44199\n",
      "Epoch 194/250 - train_loss: 0.43726, val_loss: 0.44199\n",
      "Epoch 195/250 - train_loss: 0.43726, val_loss: 0.44199\n",
      "Epoch 196/250 - train_loss: 0.43726, val_loss: 0.44199\n",
      "Epoch 197/250 - train_loss: 0.43726, val_loss: 0.44199\n",
      "Epoch 198/250 - train_loss: 0.43726, val_loss: 0.44199\n",
      "Epoch 199/250 - train_loss: 0.43726, val_loss: 0.44199\n",
      "Epoch 200/250 - train_loss: 0.43726, val_loss: 0.44199\n",
      "Epoch 201/250 - train_loss: 0.43726, val_loss: 0.44199\n",
      "Epoch 202/250 - train_loss: 0.43726, val_loss: 0.44199\n",
      "Epoch 203/250 - train_loss: 0.43726, val_loss: 0.44199\n",
      "Epoch 204/250 - train_loss: 0.43726, val_loss: 0.44199\n",
      "Epoch 205/250 - train_loss: 0.43726, val_loss: 0.44199\n",
      "Epoch 206/250 - train_loss: 0.43726, val_loss: 0.44199\n",
      "Epoch 207/250 - train_loss: 0.43726, val_loss: 0.44199\n",
      "Epoch 208/250 - train_loss: 0.43726, val_loss: 0.44199\n",
      "Epoch 209/250 - train_loss: 0.43726, val_loss: 0.44199\n",
      "Epoch 210/250 - train_loss: 0.43726, val_loss: 0.44199\n",
      "Epoch 211/250 - train_loss: 0.43726, val_loss: 0.44199\n",
      "Epoch 212/250 - train_loss: 0.43726, val_loss: 0.44199\n",
      "Epoch 213/250 - train_loss: 0.43726, val_loss: 0.44199\n",
      "Epoch 214/250 - train_loss: 0.43726, val_loss: 0.44199\n",
      "Epoch 215/250 - train_loss: 0.43726, val_loss: 0.44199\n",
      "Epoch 216/250 - train_loss: 0.43726, val_loss: 0.44199\n",
      "Epoch 217/250 - train_loss: 0.43726, val_loss: 0.44199\n",
      "Epoch 218/250 - train_loss: 0.43726, val_loss: 0.44199\n",
      "Epoch 219/250 - train_loss: 0.43726, val_loss: 0.44199\n",
      "Epoch 220/250 - train_loss: 0.43726, val_loss: 0.44199\n",
      "Epoch 221/250 - train_loss: 0.43726, val_loss: 0.44199\n",
      "Epoch 222/250 - train_loss: 0.43726, val_loss: 0.44199\n",
      "Epoch 223/250 - train_loss: 0.43726, val_loss: 0.44199\n",
      "Epoch 224/250 - train_loss: 0.43726, val_loss: 0.44199\n",
      "Epoch 225/250 - train_loss: 0.43726, val_loss: 0.44199\n",
      "Epoch 226/250 - train_loss: 0.43726, val_loss: 0.44199\n",
      "Epoch 227/250 - train_loss: 0.43726, val_loss: 0.44199\n",
      "Epoch 228/250 - train_loss: 0.43726, val_loss: 0.44199\n",
      "Epoch 229/250 - train_loss: 0.43726, val_loss: 0.44199\n",
      "Epoch 230/250 - train_loss: 0.43726, val_loss: 0.44199\n",
      "Epoch 231/250 - train_loss: 0.43726, val_loss: 0.44199\n",
      "Epoch 232/250 - train_loss: 0.43726, val_loss: 0.44199\n",
      "Epoch 233/250 - train_loss: 0.43726, val_loss: 0.44199\n",
      "Epoch 234/250 - train_loss: 0.43726, val_loss: 0.44199\n",
      "Epoch 235/250 - train_loss: 0.43726, val_loss: 0.44199\n",
      "Epoch 236/250 - train_loss: 0.43726, val_loss: 0.44199\n",
      "Epoch 237/250 - train_loss: 0.43726, val_loss: 0.44199\n",
      "Epoch 238/250 - train_loss: 0.43726, val_loss: 0.44199\n",
      "Epoch 239/250 - train_loss: 0.43726, val_loss: 0.44199\n",
      "Epoch 240/250 - train_loss: 0.43726, val_loss: 0.44199\n",
      "Epoch 241/250 - train_loss: 0.43726, val_loss: 0.44199\n",
      "Epoch 242/250 - train_loss: 0.43726, val_loss: 0.44199\n",
      "Epoch 243/250 - train_loss: 0.43726, val_loss: 0.44199\n",
      "Epoch 244/250 - train_loss: 0.43726, val_loss: 0.44199\n",
      "Epoch 245/250 - train_loss: 0.43726, val_loss: 0.44199\n",
      "Epoch 246/250 - train_loss: 0.43726, val_loss: 0.44199\n",
      "Epoch 247/250 - train_loss: 0.43726, val_loss: 0.44199\n",
      "Epoch 248/250 - train_loss: 0.43726, val_loss: 0.44199\n",
      "Epoch 249/250 - train_loss: 0.43726, val_loss: 0.44199\n",
      "Epoch 250/250 - train_loss: 0.43726, val_loss: 0.44199\n",
      "Executing fit_model took 1.29805 seconds.\n"
     ]
    }
   ],
   "source": [
    "@execution_time\n",
    "def fit_model():\n",
    "    model.fit(\n",
    "        x_train=X_train,\n",
    "        y_train=y_train,\n",
    "        x_val=X_val,\n",
    "        y_val=y_val,\n",
    "        learning_rate=0.3,\n",
    "        num_epochs=250\n",
    "    )\n",
    "    \n",
    "fit_model()"
   ],
   "metadata": {
    "collapsed": false,
    "ExecuteTime": {
     "end_time": "2024-01-31T20:50:37.454507700Z",
     "start_time": "2024-01-31T20:50:36.150567500Z"
    }
   },
   "id": "75d1afe1b9c5e95a",
   "execution_count": 14
  },
  {
   "cell_type": "markdown",
   "source": [
    "Remarkably, the training time with the customized variational function and JAX backend in FastQML has been reduced to approximately 1.32 seconds. This is a significant improvement, showcasing more than 5.5 times faster execution compared to the previous setup."
   ],
   "metadata": {
    "collapsed": false
   },
   "id": "35179d706b4248"
  },
  {
   "cell_type": "code",
   "outputs": [
    {
     "name": "stdout",
     "output_type": "stream",
     "text": [
      "              precision    recall  f1-score   support\n",
      "\n",
      "           0       0.87      0.81      0.84        16\n",
      "           1       0.93      0.95      0.94        41\n",
      "\n",
      "    accuracy                           0.91        57\n",
      "   macro avg       0.90      0.88      0.89        57\n",
      "weighted avg       0.91      0.91      0.91        57\n"
     ]
    },
    {
     "data": {
      "text/plain": "<Figure size 640x480 with 2 Axes>",
      "image/png": "[encoded data removed]"
     },
     "metadata": {},
     "output_type": "display_data"
    }
   ],
   "source": [
    "# Make predictions\n",
    "y_pred = model.predict(X_test)\n",
    "\n",
    "# Evaluate the classifier\n",
    "print(classification_report(y_test, y_pred))\n",
    "\n",
    "# Display confusion matrix\n",
    "cm = confusion_matrix(y_test, y_pred, labels=[0, 1])\n",
    "disp = ConfusionMatrixDisplay(confusion_matrix=cm, display_labels=['benign', 'malignant'])\n",
    "disp.plot(cmap='Greens')\n",
    "plt.show()"
   ],
   "metadata": {
    "collapsed": false,
    "ExecuteTime": {
     "end_time": "2024-01-31T20:51:52.597433900Z",
     "start_time": "2024-01-31T20:51:50.871518200Z"
    }
   },
   "id": "d1e5e9a410647864",
   "execution_count": 15
  },
  {
   "cell_type": "markdown",
   "source": [
    "With the implementation of custom variational functions and the JAX backend in FastQML, we have successfully improved the model's accuracy to approximately 91%\n",
    "\n",
    "Observing the variational loss, we noted that it plateaued after a certain number of epochs. This indicates an opportunity to optimize the training process further. To address this, we will implement the early stopping mechanism available in FastQML. Early stopping is a powerful technique that halts the training process once the model ceases to show improvement over a defined number of epochs. This approach not only saves computational resources but also prevents potential overfitting."
   ],
   "metadata": {
    "collapsed": false
   },
   "id": "cfcdcf14f92d393"
  },
  {
   "cell_type": "code",
   "outputs": [
    {
     "name": "stdout",
     "output_type": "stream",
     "text": [
      "Epoch 1/500 - train_loss: 0.43731, val_loss: 0.68946\n",
      "Epoch 2/500 - train_loss: 0.62406, val_loss: 0.49230\n",
      "Epoch 3/500 - train_loss: 0.49536, val_loss: 0.48492\n",
      "Epoch 4/500 - train_loss: 0.55492, val_loss: 0.46197\n",
      "Epoch 5/500 - train_loss: 0.46015, val_loss: 0.53468\n",
      "Epoch 6/500 - train_loss: 0.48176, val_loss: 0.56768\n",
      "Epoch 7/500 - train_loss: 0.50101, val_loss: 0.53547\n",
      "Epoch 8/500 - train_loss: 0.48705, val_loss: 0.48473\n",
      "Epoch 9/500 - train_loss: 0.46812, val_loss: 0.44985\n",
      "Epoch 10/500 - train_loss: 0.46049, val_loss: 0.44041\n",
      "Epoch 11/500 - train_loss: 0.46090, val_loss: 0.45072\n",
      "Epoch 12/500 - train_loss: 0.46278, val_loss: 0.46612\n",
      "Epoch 13/500 - train_loss: 0.46320, val_loss: 0.47945\n",
      "Epoch 14/500 - train_loss: 0.46508, val_loss: 0.48801\n",
      "Epoch 15/500 - train_loss: 0.46728, val_loss: 0.48951\n",
      "Epoch 16/500 - train_loss: 0.46566, val_loss: 0.48340\n",
      "Epoch 17/500 - train_loss: 0.45978, val_loss: 0.47247\n",
      "Epoch 18/500 - train_loss: 0.45361, val_loss: 0.46194\n",
      "Epoch 19/500 - train_loss: 0.45243, val_loss: 0.45606\n",
      "Epoch 20/500 - train_loss: 0.45648, val_loss: 0.45463\n",
      "Epoch 21/500 - train_loss: 0.45829, val_loss: 0.45722\n",
      "Epoch 22/500 - train_loss: 0.45511, val_loss: 0.46418\n",
      "Epoch 23/500 - train_loss: 0.45228, val_loss: 0.47110\n",
      "Epoch 24/500 - train_loss: 0.45194, val_loss: 0.47177\n",
      "Epoch 25/500 - train_loss: 0.45153, val_loss: 0.46483\n",
      "Epoch 26/500 - train_loss: 0.44973, val_loss: 0.45490\n",
      "Epoch 27/500 - train_loss: 0.44818, val_loss: 0.44774\n",
      "Epoch 28/500 - train_loss: 0.44826, val_loss: 0.44512\n",
      "Epoch 29/500 - train_loss: 0.44859, val_loss: 0.44536\n",
      "Epoch 30/500 - train_loss: 0.44756, val_loss: 0.44742\n",
      "Epoch 31/500 - train_loss: 0.44623, val_loss: 0.45075\n",
      "Epoch 32/500 - train_loss: 0.44593, val_loss: 0.45327\n",
      "Epoch 33/500 - train_loss: 0.44554, val_loss: 0.45269\n",
      "Epoch 34/500 - train_loss: 0.44413, val_loss: 0.44870\n",
      "Epoch 35/500 - train_loss: 0.44264, val_loss: 0.44309\n",
      "Epoch 36/500 - train_loss: 0.44217, val_loss: 0.43861\n",
      "Epoch 37/500 - train_loss: 0.44222, val_loss: 0.43722\n",
      "Epoch 38/500 - train_loss: 0.44155, val_loss: 0.43928\n",
      "Epoch 39/500 - train_loss: 0.44041, val_loss: 0.44312\n",
      "Epoch 40/500 - train_loss: 0.43989, val_loss: 0.44567\n",
      "Epoch 41/500 - train_loss: 0.43979, val_loss: 0.44497\n",
      "Epoch 42/500 - train_loss: 0.43928, val_loss: 0.44181\n",
      "Epoch 43/500 - train_loss: 0.43849, val_loss: 0.43869\n",
      "Epoch 44/500 - train_loss: 0.43811, val_loss: 0.43765\n",
      "Epoch 45/500 - train_loss: 0.43820, val_loss: 0.43898\n",
      "Epoch 46/500 - train_loss: 0.43823, val_loss: 0.44162\n",
      "Epoch 47/500 - train_loss: 0.43812, val_loss: 0.44382\n",
      "Epoch 48/500 - train_loss: 0.43812, val_loss: 0.44403\n",
      "Epoch 49/500 - train_loss: 0.43806, val_loss: 0.44223\n",
      "Epoch 50/500 - train_loss: 0.43785, val_loss: 0.44019\n",
      "Epoch 51/500 - train_loss: 0.43777, val_loss: 0.43973\n",
      "Epoch 52/500 - train_loss: 0.43780, val_loss: 0.44153\n",
      "Epoch 53/500 - train_loss: 0.43776, val_loss: 0.44480\n",
      "Epoch 54/500 - train_loss: 0.43784, val_loss: 0.44733\n",
      "Epoch 55/500 - train_loss: 0.43797, val_loss: 0.44725\n",
      "Epoch 56/500 - train_loss: 0.43786, val_loss: 0.44483\n",
      "Epoch 57/500 - train_loss: 0.43766, val_loss: 0.44209\n",
      "Epoch 58/500 - train_loss: 0.43762, val_loss: 0.44104\n",
      "Epoch 59/500 - train_loss: 0.43769, val_loss: 0.44221\n",
      "Epoch 60/500 - train_loss: 0.43770, val_loss: 0.44437\n",
      "Epoch 61/500 - train_loss: 0.43769, val_loss: 0.44549\n",
      "Epoch 62/500 - train_loss: 0.43768, val_loss: 0.44468\n",
      "Epoch 63/500 - train_loss: 0.43761, val_loss: 0.44309\n",
      "Epoch 64/500 - train_loss: 0.43757, val_loss: 0.44249\n",
      "Epoch 65/500 - train_loss: 0.43755, val_loss: 0.44345\n",
      "Epoch 66/500 - train_loss: 0.43749, val_loss: 0.44494\n",
      "Stopping early at epoch 67.\n",
      "Executing fit_model took 0.34580 seconds.\n"
     ]
    }
   ],
   "source": [
    "early_stopping = EarlyStopping()\n",
    "\n",
    "@execution_time\n",
    "def fit_model():\n",
    "    model.fit(\n",
    "        x_train=X_train,\n",
    "        y_train=y_train,\n",
    "        x_val=X_val,\n",
    "        y_val=y_val,\n",
    "        learning_rate=0.3,\n",
    "        num_epochs=500,\n",
    "        early_stopping=early_stopping\n",
    "    )\n",
    "    \n",
    "fit_model()"
   ],
   "metadata": {
    "collapsed": false,
    "ExecuteTime": {
     "end_time": "2024-01-31T20:52:59.386857Z",
     "start_time": "2024-01-31T20:52:59.035765700Z"
    }
   },
   "id": "fa9327135c64d011",
   "execution_count": 17
  },
  {
   "cell_type": "code",
   "outputs": [
    {
     "name": "stdout",
     "output_type": "stream",
     "text": [
      "              precision    recall  f1-score   support\n",
      "\n",
      "           0       0.87      0.81      0.84        16\n",
      "           1       0.93      0.95      0.94        41\n",
      "\n",
      "    accuracy                           0.91        57\n",
      "   macro avg       0.90      0.88      0.89        57\n",
      "weighted avg       0.91      0.91      0.91        57\n"
     ]
    },
    {
     "data": {
      "text/plain": "<Figure size 640x480 with 2 Axes>",
      "image/png": "[encoded data removed]"
     },
     "metadata": {},
     "output_type": "display_data"
    }
   ],
   "source": [
    "# Make predictions\n",
    "y_pred = model.predict(X_test)\n",
    "\n",
    "# Evaluate the classifier\n",
    "print(classification_report(y_test, y_pred))\n",
    "\n",
    "# Display confusion matrix\n",
    "cm = confusion_matrix(y_test, y_pred, labels=[0, 1])\n",
    "disp = ConfusionMatrixDisplay(confusion_matrix=cm, display_labels=['benign', 'malignant'])\n",
    "disp.plot(cmap='Greens')\n",
    "plt.show()"
   ],
   "metadata": {
    "collapsed": false,
    "ExecuteTime": {
     "end_time": "2024-01-31T20:53:05.146309600Z",
     "start_time": "2024-01-31T20:53:03.769325500Z"
    }
   },
   "id": "b09b200bc2b14d9e",
   "execution_count": 18
  },
  {
   "cell_type": "markdown",
   "source": [
    "Cool, we have successfully achieved the same level of model accuracy, but in fewer epochs!"
   ],
   "metadata": {
    "collapsed": false
   },
   "id": "a221703f60953fe3"
  },
  {
   "cell_type": "code",
   "outputs": [],
   "source": [],
   "metadata": {
    "collapsed": false
   },
   "id": "3eaf3b46fe377f4d"
  }
 ],
 "metadata": {
  "kernelspec": {
   "display_name": "Python 3",
   "language": "python",
   "name": "python3"
  },
  "language_info": {
   "codemirror_mode": {
    "name": "ipython",
    "version": 2
   },
   "file_extension": ".py",
   "mimetype": "text/x-python",
   "name": "python",
   "nbconvert_exporter": "python",
   "pygments_lexer": "ipython2",
   "version": "2.7.6"
  }
 },
 "nbformat": 4,
 "nbformat_minor": 5
}
