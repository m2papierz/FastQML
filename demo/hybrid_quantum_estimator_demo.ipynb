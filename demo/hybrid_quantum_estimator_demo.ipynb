{
 "cells": [
  {
   "cell_type": "markdown",
   "source": [
    "### Binary Classification with FastQML's Hybrid Quantum-Classical Classifier\n",
    "\n",
    "This demonstration showcases the FastQML library's capabilities in implementing and training hybrid quantum-classical Quantum Machine Learning (QML) models efficiently. In this demo we focus on employing the Hybrid Quantum Classifier incorporating Quantum Variational Classifier (VQClassifier) and classical neural network for binary classification. First  VQClassifier model will be implemented and evaluated. Next it will be presented how easily we can crete hybrid quantum-classical model in FastQML by implementing HybridClassifier class.\n",
    "\n",
    "FastQML uses JAX as backend for all optimization tasks. It is known for its efficiency in computation that can be particularly beneficial for quantum machine learning tasks. By leveraging Just-in-Time (JIT) compilation and other optimization features of JAX, we anticipate a reduction in training time without compromising the model's performance."
   ],
   "metadata": {
    "collapsed": false
   },
   "id": "71554a334fd27fd7"
  },
  {
   "cell_type": "code",
   "outputs": [],
   "source": [
    "import matplotlib.pyplot as plt\n",
    "from sklearn.datasets import load_breast_cancer\n",
    "from sklearn.model_selection import train_test_split\n",
    "from sklearn.metrics import classification_report\n",
    "from sklearn.preprocessing import MinMaxScaler\n",
    "from sklearn.metrics import confusion_matrix, ConfusionMatrixDisplay\n",
    "\n",
    "import flax.linen as nn\n",
    "from fast_qml.quantum_circuits.feature_maps import AngleEmbedding, AmplitudeEmbedding\n",
    "from fast_qml.quantum_circuits.variational_forms import TwoLocal\n",
    "from fast_qml.machine_learning.estimators.vqa import VQClassifier\n",
    "from fast_qml.machine_learning.estimators.hybrid_qnn import HybridClassifier\n",
    "from fast_qml.machine_learning.callbacks import EarlyStopping"
   ],
   "metadata": {
    "collapsed": false,
    "ExecuteTime": {
     "end_time": "2024-02-05T11:40:46.629786800Z",
     "start_time": "2024-02-05T11:40:45.079518900Z"
    }
   },
   "id": "b0e243e0c0e69dc6",
   "execution_count": 1
  },
  {
   "cell_type": "markdown",
   "source": [
    "The breast cancer dataset from sklearn serves as our binary classification task. This dataset, derived from digitized images of fine needle aspirates of breast masses, contains 30 features representing cell nuclei characteristics. The classification task is to categorize these instances as benign or malignant.\n",
    "\n",
    "We begin by normalizing the data and dividing it into training, validation, and testing sets. This step is crucial for a comprehensive evaluation of the VQClassifier's performance."
   ],
   "metadata": {
    "collapsed": false
   },
   "id": "607b6bc055aa37c0"
  },
  {
   "cell_type": "code",
   "outputs": [
    {
     "name": "stdout",
     "output_type": "stream",
     "text": [
      "(455, 30) (57, 30) (57, 30)\n"
     ]
    }
   ],
   "source": [
    "# Load the breast cancer dataset\n",
    "data = load_breast_cancer()\n",
    "X, y = data.data, data.target\n",
    "\n",
    "# Normalize the data\n",
    "scaler = MinMaxScaler()\n",
    "X_normalized = scaler.fit_transform(X)\n",
    "\n",
    "# Split the dataset into training and testing sets\n",
    "X_train, X_test, y_train, y_test = train_test_split(\n",
    "    X_normalized, y, test_size=0.2, random_state=42)\n",
    "\n",
    "X_val, X_test, y_val, y_test = train_test_split(\n",
    "    X_test, y_test, test_size=0.5, random_state=42)\n",
    "\n",
    "print(X_train.shape, X_test.shape, X_val.shape)"
   ],
   "metadata": {
    "collapsed": false,
    "ExecuteTime": {
     "end_time": "2024-02-05T11:40:46.645900400Z",
     "start_time": "2024-02-05T11:40:46.631788400Z"
    }
   },
   "id": "100ca38e1b11823f",
   "execution_count": 2
  },
  {
   "cell_type": "markdown",
   "source": [
    "In the first step, we will construct the fundamental components of our quantum classifier using FastQML: the feature map and the ansatz. The feature map's role is to encode classical data into a quantum state. For this purpose, we will utilize the AmplitudeEmbedding method from FastQML, which efficiently encodes data into quantum states. Given that a single sample from our dataset contains 30 features, and AmplitudeEmbedding can encode 2^qubits_number of features, we will use 5 qubits. This configuration allows us to encode up to 32 features, with the last two being padded with 0.0 to fit our data structure.\n",
    "\n",
    "Next, we will set up the ansatz for our quantum classifier. The ansatz, composed of a sequence of quantum gates, is responsible for processing the quantum data. In this demonstration, we will employ the TwoLocal form available in FastQML. The TwoLocal form is a versatile and commonly used ansatz. This choice provides a balance between simplicity and the ability to demonstrate the essential features of quantum data processing in FastQML.\n",
    "\n",
    "By following these steps, we effectively establish the quantum environment necessary for our classifier, showcasing the ease and flexibility of feature mapping and ansatz configuration in FastQML."
   ],
   "metadata": {
    "collapsed": false
   },
   "id": "9cf572ffc61940f2"
  },
  {
   "cell_type": "code",
   "outputs": [],
   "source": [
    "# With 5 qubits we have 2^5=32 features at maximum to be encoded\n",
    "n_qubits = 5\n",
    "\n",
    "# Create AmplitudeEmbedding feature map with 0.0 padding\n",
    "feature_map = AmplitudeEmbedding(\n",
    "    n_qubits=n_qubits,\n",
    "    pad_with=0.0\n",
    ")\n",
    "\n",
    "# TwoLocal ansatz with default parameters\n",
    "ansatz = TwoLocal(\n",
    "    n_qubits=n_qubits,\n",
    "    controlled_gate='CNOT',\n",
    "    entanglement='circular',\n",
    "    skip_last_rotations=False,\n",
    "    reps=2\n",
    ")"
   ],
   "metadata": {
    "collapsed": false,
    "ExecuteTime": {
     "end_time": "2024-02-05T11:40:46.655749200Z",
     "start_time": "2024-02-05T11:40:46.640900900Z"
    }
   },
   "id": "3aa9d78a28342207",
   "execution_count": 3
  },
  {
   "cell_type": "code",
   "outputs": [],
   "source": [
    "# Create VQClassifier model with defined ansatz and feature map\n",
    "q_model = VQClassifier(\n",
    "    n_qubits=n_qubits,\n",
    "    feature_map=feature_map,\n",
    "    ansatz=ansatz,\n",
    "    classes_num=2\n",
    ")"
   ],
   "metadata": {
    "collapsed": false,
    "ExecuteTime": {
     "end_time": "2024-02-05T11:40:46.920958500Z",
     "start_time": "2024-02-05T11:40:46.764954700Z"
    }
   },
   "id": "8f73d4a4c010ee72",
   "execution_count": 4
  },
  {
   "cell_type": "markdown",
   "source": [
    "To better understand the structure of our quantum circuit, we can visualize it with build-in _draw_circuit()_ method. It can be usefully in debugging and optimizing the quantum circuit design."
   ],
   "metadata": {
    "collapsed": false
   },
   "id": "907e7ba66dd72acd"
  },
  {
   "cell_type": "code",
   "outputs": [
    {
     "name": "stdout",
     "output_type": "stream",
     "text": [
      "0: ─╭|Ψ⟩──RY(-0.07)─╭●──────────╭X──||──RY(0.02)──╭●──────────╭X──||──RY(0.14)──┤  \n",
      "1: ─├|Ψ⟩──RY(0.01)──╰X─╭●───────│───||──RY(0.10)──╰X─╭●───────│───||──RY(0.23)──┤  \n",
      "2: ─├|Ψ⟩──RY(-0.14)────╰X─╭●────│───||──RY(0.01)─────╰X─╭●────│───||──RY(-0.06)─┤  \n",
      "3: ─├|Ψ⟩──RY(-0.05)───────╰X─╭●─│───||──RY(-0.11)───────╰X─╭●─│───||──RY(-0.00)─┤  \n",
      "4: ─╰|Ψ⟩──RY(0.00)───────────╰X─╰●──||──RY(-0.12)──────────╰X─╰●──||──RY(0.12)──┤  \n"
     ]
    }
   ],
   "source": [
    "q_model.draw_circuit()"
   ],
   "metadata": {
    "collapsed": false,
    "ExecuteTime": {
     "end_time": "2024-02-05T11:40:47.568214Z",
     "start_time": "2024-02-05T11:40:47.535864Z"
    }
   },
   "id": "ce82af9be5148cc2",
   "execution_count": 5
  },
  {
   "cell_type": "markdown",
   "source": [
    "At this stage, we are ready to train our quantum classifier using FastQML. The training process is designed to optimize the model's parameters based on the training data, while also incorporating validation data to ensure robustness and generalizability. To proceed with training, we will use early stopping mechanism from FastQML to ensure that we do not over-fit to the training data."
   ],
   "metadata": {
    "collapsed": false
   },
   "id": "b695defa137ac0e0"
  },
  {
   "cell_type": "code",
   "outputs": [
    {
     "name": "stdout",
     "output_type": "stream",
     "text": [
      "Epoch 1/500 - train_loss: 13.64482, val_loss: 3.05971\n",
      "Epoch 2/500 - train_loss: 3.91391, val_loss: 1.41687\n",
      "Epoch 3/500 - train_loss: 1.62281, val_loss: 0.81154\n",
      "Epoch 4/500 - train_loss: 1.12224, val_loss: 0.79233\n",
      "Epoch 5/500 - train_loss: 0.97187, val_loss: 0.81624\n",
      "Epoch 6/500 - train_loss: 0.97187, val_loss: 0.80838\n",
      "Epoch 7/500 - train_loss: 0.97187, val_loss: 0.80257\n",
      "Epoch 8/500 - train_loss: 0.97187, val_loss: 0.79810\n",
      "Epoch 9/500 - train_loss: 0.97187, val_loss: 0.79456\n",
      "Epoch 10/500 - train_loss: 0.97187, val_loss: 0.79168\n",
      "Epoch 11/500 - train_loss: 0.95193, val_loss: 0.79530\n",
      "Epoch 12/500 - train_loss: 0.95193, val_loss: 0.79206\n",
      "Epoch 13/500 - train_loss: 0.95193, val_loss: 0.78929\n",
      "Epoch 14/500 - train_loss: 0.83215, val_loss: 0.78627\n",
      "Epoch 15/500 - train_loss: 0.81291, val_loss: 0.78187\n",
      "Epoch 16/500 - train_loss: 0.74407, val_loss: 0.77531\n",
      "Epoch 17/500 - train_loss: 0.72655, val_loss: 0.76621\n",
      "Epoch 18/500 - train_loss: 0.71006, val_loss: 0.75431\n",
      "Epoch 19/500 - train_loss: 0.69378, val_loss: 0.73973\n",
      "Epoch 20/500 - train_loss: 0.67765, val_loss: 0.72302\n",
      "Epoch 21/500 - train_loss: 0.66197, val_loss: 0.70506\n",
      "Epoch 22/500 - train_loss: 0.64720, val_loss: 0.68685\n",
      "Epoch 23/500 - train_loss: 0.63372, val_loss: 0.66914\n",
      "Epoch 24/500 - train_loss: 0.62162, val_loss: 0.65225\n",
      "Epoch 25/500 - train_loss: 0.61066, val_loss: 0.63613\n",
      "Epoch 26/500 - train_loss: 0.60043, val_loss: 0.62061\n",
      "Epoch 27/500 - train_loss: 0.59051, val_loss: 0.60553\n",
      "Epoch 28/500 - train_loss: 0.58067, val_loss: 0.59089\n",
      "Epoch 29/500 - train_loss: 0.57086, val_loss: 0.57685\n",
      "Epoch 30/500 - train_loss: 0.56130, val_loss: 0.56370\n",
      "Epoch 31/500 - train_loss: 0.55233, val_loss: 0.55168\n",
      "Epoch 32/500 - train_loss: 0.54432, val_loss: 0.54097\n",
      "Epoch 33/500 - train_loss: 0.53756, val_loss: 0.53155\n",
      "Epoch 34/500 - train_loss: 0.53210, val_loss: 0.52325\n",
      "Epoch 35/500 - train_loss: 0.52773, val_loss: 0.51582\n",
      "Epoch 36/500 - train_loss: 0.52404, val_loss: 0.50896\n",
      "Epoch 37/500 - train_loss: 0.52053, val_loss: 0.50244\n",
      "Epoch 38/500 - train_loss: 0.51672, val_loss: 0.49614\n",
      "Epoch 39/500 - train_loss: 0.51230, val_loss: 0.49010\n",
      "Epoch 40/500 - train_loss: 0.50721, val_loss: 0.48447\n",
      "Epoch 41/500 - train_loss: 0.50164, val_loss: 0.47946\n",
      "Epoch 42/500 - train_loss: 0.49592, val_loss: 0.47525\n",
      "Epoch 43/500 - train_loss: 0.49051, val_loss: 0.47199\n",
      "Epoch 44/500 - train_loss: 0.48583, val_loss: 0.46972\n",
      "Epoch 45/500 - train_loss: 0.48222, val_loss: 0.46841\n",
      "Epoch 46/500 - train_loss: 0.47982, val_loss: 0.46800\n",
      "Epoch 47/500 - train_loss: 0.47862, val_loss: 0.46830\n",
      "Epoch 48/500 - train_loss: 0.47862, val_loss: 0.46827\n",
      "Epoch 49/500 - train_loss: 0.47862, val_loss: 0.46825\n",
      "Epoch 50/500 - train_loss: 0.47862, val_loss: 0.46823\n",
      "Epoch 51/500 - train_loss: 0.47862, val_loss: 0.46822\n",
      "Epoch 52/500 - train_loss: 0.47862, val_loss: 0.46821\n",
      "Epoch 53/500 - train_loss: 0.47862, val_loss: 0.46820\n",
      "Epoch 54/500 - train_loss: 0.47862, val_loss: 0.46820\n",
      "Epoch 55/500 - train_loss: 0.47862, val_loss: 0.46820\n",
      "Epoch 56/500 - train_loss: 0.47862, val_loss: 0.46820\n",
      "Epoch 57/500 - train_loss: 0.47862, val_loss: 0.46821\n",
      "Epoch 58/500 - train_loss: 0.47862, val_loss: 0.46821\n",
      "Epoch 59/500 - train_loss: 0.47862, val_loss: 0.46821\n",
      "Epoch 60/500 - train_loss: 0.47862, val_loss: 0.46822\n",
      "Epoch 61/500 - train_loss: 0.47862, val_loss: 0.46822\n",
      "Epoch 62/500 - train_loss: 0.47862, val_loss: 0.46823\n",
      "Epoch 63/500 - train_loss: 0.47862, val_loss: 0.46823\n",
      "Epoch 64/500 - train_loss: 0.47862, val_loss: 0.46824\n",
      "Epoch 65/500 - train_loss: 0.47862, val_loss: 0.46824\n",
      "Epoch 66/500 - train_loss: 0.47862, val_loss: 0.46825\n",
      "Epoch 67/500 - train_loss: 0.47862, val_loss: 0.46825\n",
      "Epoch 68/500 - train_loss: 0.47862, val_loss: 0.46826\n",
      "Epoch 69/500 - train_loss: 0.47862, val_loss: 0.46826\n",
      "Epoch 70/500 - train_loss: 0.47862, val_loss: 0.46827\n",
      "Epoch 71/500 - train_loss: 0.47862, val_loss: 0.46827\n",
      "Epoch 72/500 - train_loss: 0.47862, val_loss: 0.46827\n",
      "Epoch 73/500 - train_loss: 0.47862, val_loss: 0.46828\n",
      "Epoch 74/500 - train_loss: 0.47862, val_loss: 0.46828\n",
      "Epoch 75/500 - train_loss: 0.47862, val_loss: 0.46829\n",
      "Stopping early at epoch 75.\n"
     ]
    }
   ],
   "source": [
    "early_stopping = EarlyStopping(\n",
    "    patience=30\n",
    ")\n",
    "\n",
    "q_model.fit(\n",
    "    x_train=X_train,\n",
    "    y_train=y_train,\n",
    "    x_val=X_val,\n",
    "    y_val=y_val,\n",
    "    num_epochs=500,\n",
    "    learning_rate=0.1,\n",
    "    early_stopping=early_stopping\n",
    ")"
   ],
   "metadata": {
    "collapsed": false,
    "ExecuteTime": {
     "end_time": "2024-02-05T11:40:50.317975Z",
     "start_time": "2024-02-05T11:40:48.845454600Z"
    }
   },
   "id": "be197712bd816304",
   "execution_count": 6
  },
  {
   "cell_type": "markdown",
   "source": [
    "With the model now trained, our next step is to evaluate its performance on the test data. In order to present the model's performance Scikit-learn _classification_report_ and _ConfusionMatrixDisplay_ methods will be used."
   ],
   "metadata": {
    "collapsed": false
   },
   "id": "4bba96af9c2c9fa4"
  },
  {
   "cell_type": "code",
   "outputs": [
    {
     "name": "stdout",
     "output_type": "stream",
     "text": [
      "              precision    recall  f1-score   support\n",
      "\n",
      "           0       0.83      0.62      0.71        16\n",
      "           1       0.87      0.95      0.91        41\n",
      "\n",
      "    accuracy                           0.86        57\n",
      "   macro avg       0.85      0.79      0.81        57\n",
      "weighted avg       0.86      0.86      0.85        57\n"
     ]
    },
    {
     "data": {
      "text/plain": "<Figure size 640x480 with 2 Axes>",
      "image/png": "[encoded data removed]"
     },
     "metadata": {},
     "output_type": "display_data"
    }
   ],
   "source": [
    "# Make predictions\n",
    "y_pred = q_model.predict(X_test)\n",
    "\n",
    "# Evaluate the classifier\n",
    "print(classification_report(y_test, y_pred))\n",
    "\n",
    "# Display confusion matrix\n",
    "cm = confusion_matrix(y_test, y_pred, labels=[0, 1])\n",
    "disp = ConfusionMatrixDisplay(confusion_matrix=cm, display_labels=['benign', 'malignant'])\n",
    "disp.plot(cmap='Greens')\n",
    "plt.show()"
   ],
   "metadata": {
    "collapsed": false,
    "ExecuteTime": {
     "end_time": "2024-02-05T11:40:52.184962500Z",
     "start_time": "2024-02-05T11:40:51.940336100Z"
    }
   },
   "id": "fad9248642ccc4d",
   "execution_count": 7
  },
  {
   "cell_type": "markdown",
   "source": [
    "With this simple VQClassifier setup we managed to achieve ~86% of accuracy.\n",
    "\n",
    "Let's try to do better with hybrid quantum-classical model. This approach leverages the unique capabilities of quantum computing for complex problem-solving, while utilizing the robust and scalable nature of classical neural networks. For the classical component, we're employing the Flax library, a powerful tool within JAX for building deep learning models, known for its flexibility and high-performance capabilities in machine learning tasks. In FastQML it is enough to define classical model, quantum model (e.g. VQClassifier class if classification is out objective) and provide them to FastQML's HybridClassifier class.\n",
    "\n",
    "First let's begin with defining quantum model. We will use the same ansatz, but because classical model will be used for dimensionality reduction, AmplitudeEmbedding will be replaced with AngleEmbedding encoding n_qubits number of features."
   ],
   "metadata": {
    "collapsed": false
   },
   "id": "f8b94f4ca3855ddc"
  },
  {
   "cell_type": "code",
   "outputs": [],
   "source": [
    "# We will use 5 qubits, as we will have 5 outputs from classical model\n",
    "n_qubits = 5\n",
    "\n",
    "# This time we will use AngleEmbedding, which can encode n_qubits features\n",
    "feature_map = AngleEmbedding(\n",
    "    n_qubits=n_qubits\n",
    ")\n",
    "\n",
    "# TwoLocal ansatz\n",
    "ansatz = TwoLocal(\n",
    "    n_qubits=n_qubits,\n",
    "    controlled_gate='CNOT',\n",
    "    entanglement='circular',\n",
    "    skip_last_rotations=False,\n",
    "    reps=1\n",
    ")\n",
    "\n",
    "q_model = VQClassifier(\n",
    "    n_qubits=n_qubits,\n",
    "    feature_map=feature_map,\n",
    "    ansatz=ansatz,\n",
    "    classes_num=2\n",
    ")"
   ],
   "metadata": {
    "collapsed": false,
    "ExecuteTime": {
     "end_time": "2024-02-05T11:40:55.084580900Z",
     "start_time": "2024-02-05T11:40:54.986825300Z"
    }
   },
   "id": "64604c0d2cde8450",
   "execution_count": 8
  },
  {
   "cell_type": "code",
   "outputs": [
    {
     "name": "stdout",
     "output_type": "stream",
     "text": [
      "0: ─╭AngleEmbedding(M0)──RY(-0.07)─╭●──────────╭X──||──RY(0.21)──┤  \n",
      "1: ─├AngleEmbedding(M0)──RY(0.02)──╰X─╭●───────│───||──RY(0.20)──┤  \n",
      "2: ─├AngleEmbedding(M0)──RY(-0.02)────╰X─╭●────│───||──RY(-0.04)─┤  \n",
      "3: ─├AngleEmbedding(M0)──RY(-0.08)───────╰X─╭●─│───||──RY(-0.05)─┤  \n",
      "4: ─╰AngleEmbedding(M0)──RY(-0.03)──────────╰X─╰●──||──RY(0.01)──┤  \n",
      "M0 = \n",
      "[[-0.96555528  0.13569958  0.74156115 -0.21455999  0.37571703]]\n"
     ]
    }
   ],
   "source": [
    "q_model.draw_circuit()"
   ],
   "metadata": {
    "collapsed": false,
    "ExecuteTime": {
     "end_time": "2024-02-05T11:40:55.769567800Z",
     "start_time": "2024-02-05T11:40:55.749061200Z"
    }
   },
   "id": "2041de1fec6229bf",
   "execution_count": 9
  },
  {
   "cell_type": "markdown",
   "source": [
    "Now, let's define our classical neural network using Flax, which offers a user-friendly interface akin to PyTorch. For demonstration, we'll construct a straightforward model comprising just two compact hidden layers, showcasing the simplicity and efficiency of Flax in model development."
   ],
   "metadata": {
    "collapsed": false
   },
   "id": "8d1f1fc92678c47d"
  },
  {
   "cell_type": "code",
   "outputs": [],
   "source": [
    "class SimpleNN(nn.Module):\n",
    "    num_hidden1 : int\n",
    "    num_hidden2 : int\n",
    "    num_outputs : int\n",
    "\n",
    "    def setup(self):\n",
    "        self.linear1 = nn.Dense(features=self.num_hidden1)\n",
    "        self.linear2 = nn.Dense(features=self.num_hidden2)\n",
    "        self.linear3 = nn.Dense(features=self.num_outputs)\n",
    "\n",
    "    def __call__(self, x):\n",
    "        x = self.linear1(x)\n",
    "        x = nn.elu(x)\n",
    "        x = self.linear2(x)\n",
    "        x = nn.elu(x)\n",
    "        x = self.linear3(x)\n",
    "        return x\n",
    "    \n",
    "c_model = SimpleNN(\n",
    "    num_hidden1=30, \n",
    "    num_hidden2=16,\n",
    "    num_outputs=n_qubits\n",
    ")"
   ],
   "metadata": {
    "collapsed": false,
    "ExecuteTime": {
     "end_time": "2024-02-05T11:42:52.588721500Z",
     "start_time": "2024-02-05T11:42:52.584373600Z"
    }
   },
   "id": "c1b1943ab58785a5",
   "execution_count": 10
  },
  {
   "cell_type": "markdown",
   "source": [
    "We can also print the Flax model to show its attributes."
   ],
   "metadata": {
    "collapsed": false
   },
   "id": "7f1b4b9b878acf9b"
  },
  {
   "cell_type": "code",
   "outputs": [
    {
     "name": "stdout",
     "output_type": "stream",
     "text": [
      "SimpleNN(\n",
      "    # attributes\n",
      "    num_hidden1 = 30\n",
      "    num_hidden2 = 16\n",
      "    num_outputs = 5\n",
      ")\n"
     ]
    }
   ],
   "source": [
    "print(c_model)"
   ],
   "metadata": {
    "collapsed": false,
    "ExecuteTime": {
     "end_time": "2024-02-05T11:44:47.944932900Z",
     "start_time": "2024-02-05T11:44:47.941919400Z"
    }
   },
   "id": "e6a1a5f65caaf5c7",
   "execution_count": 11
  },
  {
   "cell_type": "markdown",
   "source": [
    "At last, we arrive at the creation of our hybrid quantum-classical model. This is achieved by seamlessly integrating our pre-defined classical and quantum models into the HybridClassifier class. Once integrated, we simply execute the fit method to commence the training process, effectively harnessing the combined power of both quantum and classical computing paradigms."
   ],
   "metadata": {
    "collapsed": false
   },
   "id": "997e04c71c75cca9"
  },
  {
   "cell_type": "code",
   "outputs": [],
   "source": [
    "model = HybridClassifier(\n",
    "    input_shape=X_train.shape,\n",
    "    c_model=c_model,\n",
    "    q_model=q_model\n",
    ")"
   ],
   "metadata": {
    "collapsed": false,
    "ExecuteTime": {
     "end_time": "2024-02-05T11:46:21.015734100Z",
     "start_time": "2024-02-05T11:46:20.280800Z"
    }
   },
   "id": "c9928962e4727c0e",
   "execution_count": 12
  },
  {
   "cell_type": "code",
   "outputs": [
    {
     "name": "stdout",
     "output_type": "stream",
     "text": [
      "Epoch 1/500 - train_loss: 0.93056, val_loss: 0.79004\n",
      "Epoch 2/500 - train_loss: 0.65303, val_loss: 0.59367\n",
      "Epoch 3/500 - train_loss: 0.52375, val_loss: 0.51523\n",
      "Epoch 4/500 - train_loss: 0.49343, val_loss: 0.49854\n",
      "Epoch 5/500 - train_loss: 0.50839, val_loss: 0.49414\n",
      "Epoch 6/500 - train_loss: 0.52020, val_loss: 0.47983\n",
      "Epoch 7/500 - train_loss: 0.50948, val_loss: 0.45721\n",
      "Epoch 8/500 - train_loss: 0.48170, val_loss: 0.43513\n",
      "Epoch 9/500 - train_loss: 0.44940, val_loss: 0.41967\n",
      "Epoch 10/500 - train_loss: 0.42163, val_loss: 0.41126\n",
      "Epoch 11/500 - train_loss: 0.40116, val_loss: 0.40579\n",
      "Epoch 12/500 - train_loss: 0.38578, val_loss: 0.39675\n",
      "Epoch 13/500 - train_loss: 0.37083, val_loss: 0.37849\n",
      "Epoch 14/500 - train_loss: 0.35158, val_loss: 0.34837\n",
      "Epoch 15/500 - train_loss: 0.32565, val_loss: 0.30779\n",
      "Epoch 16/500 - train_loss: 0.29536, val_loss: 0.26456\n",
      "Epoch 17/500 - train_loss: 0.26834, val_loss: 0.23531\n",
      "Epoch 18/500 - train_loss: 0.25375, val_loss: 0.21656\n",
      "Epoch 19/500 - train_loss: 0.24696, val_loss: 0.20351\n",
      "Epoch 20/500 - train_loss: 0.23815, val_loss: 0.19396\n",
      "Epoch 21/500 - train_loss: 0.22366, val_loss: 0.19288\n",
      "Epoch 22/500 - train_loss: 0.21217, val_loss: 0.20204\n",
      "Epoch 23/500 - train_loss: 0.21217, val_loss: 0.20187\n",
      "Epoch 24/500 - train_loss: 0.21217, val_loss: 0.20174\n",
      "Epoch 25/500 - train_loss: 0.21217, val_loss: 0.20164\n",
      "Epoch 26/500 - train_loss: 0.21217, val_loss: 0.20157\n",
      "Epoch 27/500 - train_loss: 0.21217, val_loss: 0.20152\n",
      "Epoch 28/500 - train_loss: 0.21217, val_loss: 0.20150\n",
      "Epoch 29/500 - train_loss: 0.21217, val_loss: 0.20149\n",
      "Epoch 30/500 - train_loss: 0.21217, val_loss: 0.20149\n",
      "Epoch 31/500 - train_loss: 0.21217, val_loss: 0.20151\n",
      "Epoch 32/500 - train_loss: 0.21217, val_loss: 0.20153\n",
      "Epoch 33/500 - train_loss: 0.21217, val_loss: 0.20157\n",
      "Epoch 34/500 - train_loss: 0.21217, val_loss: 0.20161\n",
      "Epoch 35/500 - train_loss: 0.21217, val_loss: 0.20166\n",
      "Epoch 36/500 - train_loss: 0.21217, val_loss: 0.20171\n",
      "Epoch 37/500 - train_loss: 0.21217, val_loss: 0.20177\n",
      "Epoch 38/500 - train_loss: 0.21217, val_loss: 0.20183\n",
      "Epoch 39/500 - train_loss: 0.21217, val_loss: 0.20189\n",
      "Epoch 40/500 - train_loss: 0.21217, val_loss: 0.20196\n",
      "Epoch 41/500 - train_loss: 0.21217, val_loss: 0.20203\n",
      "Epoch 42/500 - train_loss: 0.21217, val_loss: 0.20210\n",
      "Epoch 43/500 - train_loss: 0.21217, val_loss: 0.20217\n",
      "Epoch 44/500 - train_loss: 0.21217, val_loss: 0.20225\n",
      "Epoch 45/500 - train_loss: 0.21217, val_loss: 0.20232\n",
      "Epoch 46/500 - train_loss: 0.21217, val_loss: 0.20240\n",
      "Epoch 47/500 - train_loss: 0.21217, val_loss: 0.20247\n",
      "Epoch 48/500 - train_loss: 0.21217, val_loss: 0.20255\n",
      "Epoch 49/500 - train_loss: 0.21217, val_loss: 0.20264\n",
      "Epoch 50/500 - train_loss: 0.21217, val_loss: 0.20273\n",
      "Epoch 51/500 - train_loss: 0.21217, val_loss: 0.20281\n",
      "Epoch 52/500 - train_loss: 0.21217, val_loss: 0.20290\n",
      "Epoch 53/500 - train_loss: 0.21217, val_loss: 0.20298\n",
      "Epoch 54/500 - train_loss: 0.21217, val_loss: 0.20307\n",
      "Epoch 55/500 - train_loss: 0.21217, val_loss: 0.20316\n",
      "Stopping early at epoch 55.\n"
     ]
    }
   ],
   "source": [
    "early_stopping = EarlyStopping(\n",
    "    patience=35\n",
    ")\n",
    "\n",
    "model.fit(\n",
    "    x_train=X_train,\n",
    "    y_train=y_train,\n",
    "    x_val=X_val,\n",
    "    y_val=y_val,\n",
    "    learning_rate=0.005,\n",
    "    num_epochs=500,\n",
    "    early_stopping=early_stopping\n",
    ")"
   ],
   "metadata": {
    "collapsed": false,
    "ExecuteTime": {
     "end_time": "2024-02-05T11:46:23.305285600Z",
     "start_time": "2024-02-05T11:46:21.757294500Z"
    }
   },
   "id": "75d1afe1b9c5e95a",
   "execution_count": 13
  },
  {
   "cell_type": "markdown",
   "source": [
    "The evaluation of this hybrid model follows the same protocol as any other estimator, ensuring a familiar and straightforward assessment process."
   ],
   "metadata": {
    "collapsed": false
   },
   "id": "35179d706b4248"
  },
  {
   "cell_type": "code",
   "outputs": [
    {
     "name": "stdout",
     "output_type": "stream",
     "text": [
      "              precision    recall  f1-score   support\n",
      "\n",
      "           0       1.00      0.88      0.93        16\n",
      "           1       0.95      1.00      0.98        41\n",
      "\n",
      "    accuracy                           0.96        57\n",
      "   macro avg       0.98      0.94      0.95        57\n",
      "weighted avg       0.97      0.96      0.96        57\n"
     ]
    },
    {
     "data": {
      "text/plain": "<Figure size 640x480 with 2 Axes>",
      "image/png": "[encoded data removed]"
     },
     "metadata": {},
     "output_type": "display_data"
    }
   ],
   "source": [
    "# Make predictions\n",
    "y_pred = model.predict(X_test)\n",
    "\n",
    "# Evaluate the classifier\n",
    "print(classification_report(y_test, y_pred))\n",
    "\n",
    "# Display confusion matrix\n",
    "cm = confusion_matrix(y_test, y_pred, labels=[0, 1])\n",
    "disp = ConfusionMatrixDisplay(confusion_matrix=cm, display_labels=['benign', 'malignant'])\n",
    "disp.plot(cmap='Greens')\n",
    "plt.show()"
   ],
   "metadata": {
    "collapsed": false,
    "ExecuteTime": {
     "end_time": "2024-02-05T11:46:57.324339700Z",
     "start_time": "2024-02-05T11:46:57.022005300Z"
    }
   },
   "id": "d1e5e9a410647864",
   "execution_count": 14
  }
 ],
 "metadata": {
  "kernelspec": {
   "display_name": "Python 3",
   "language": "python",
   "name": "python3"
  },
  "language_info": {
   "codemirror_mode": {
    "name": "ipython",
    "version": 2
   },
   "file_extension": ".py",
   "mimetype": "text/x-python",
   "name": "python",
   "nbconvert_exporter": "python",
   "pygments_lexer": "ipython2",
   "version": "2.7.6"
  }
 },
 "nbformat": 4,
 "nbformat_minor": 5
}
