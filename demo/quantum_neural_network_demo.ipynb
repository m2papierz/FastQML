{
 "cells": [
  {
   "cell_type": "markdown",
   "source": [
    "### Multiclass Classification Using QuantumModel in FastQML\n",
    "\n",
    "This demonstration highlights the application of a QuantumModel class standing for a Quantum Neural Network (QNN) Classifier in the FastQML framework, emphasizing the seamless integration and intuitive usability of FastQML for quantum machine learning (QML) model development. By leveraging the unique capabilities of quantum computing, the QuantumModel is employed to tackle a multiclass classification challenge. The primary goal of this notebook is to illustrate the straightforward process of setting up, training, and evaluating FastQML's models for a practical classification scenario, showcasing FastQML's effectiveness and user-friendly approach to implementing QML models."
   ],
   "metadata": {
    "collapsed": false
   },
   "id": "522c79c6baa18213"
  },
  {
   "cell_type": "code",
   "outputs": [],
   "source": [
    "## Project imports\n",
    "import optax\n",
    "import numpy as np\n",
    "import seaborn as sns\n",
    "import matplotlib.pyplot as plt\n",
    "from sklearn.datasets import load_iris\n",
    "from sklearn.model_selection import train_test_split\n",
    "from sklearn.metrics import classification_report\n",
    "from sklearn.preprocessing import MinMaxScaler\n",
    "from sklearn.metrics import confusion_matrix\n",
    "\n",
    "from fast_qml.quantum_circuits.data_encoding import AngleEmbedding\n",
    "from fast_qml.quantum_circuits.ansatz import EfficientSU2\n",
    "from fast_qml.quantum_circuits.ansatz import StronglyEntanglingLayers\n",
    "from fast_qml.core.estimator import Estimator\n",
    "from fast_qml.core.estimator import QuantumModel\n",
    "from fast_qml.core.callbacks import EarlyStopping\n",
    "\n",
    "## Project constants\n",
    "QUBITS_N = 4\n",
    "LEARNING_RATE = 0.05\n",
    "EPOCHS_NUM = 150\n",
    "RANDOM_SEED = 42\n",
    "TEST_SIZE = 0.3\n",
    "ES_PATIENCE = 25\n",
    "LABELS= ['setosa', 'versicolor', 'virginica']"
   ],
   "metadata": {
    "collapsed": true,
    "ExecuteTime": {
     "end_time": "2024-03-18T19:47:45.162762Z",
     "start_time": "2024-03-18T19:47:43.916867600Z"
    }
   },
   "id": "initial_id",
   "execution_count": 2
  },
  {
   "cell_type": "markdown",
   "source": [
    "The dataset used in this demonstration is the Iris dataset, a classic dataset in machine learning and statistics. It consists of 150 samples of iris flowers from three different species. Each sample has four features: the length and the width of the sepals and petals.\n",
    "\n",
    "The preprocessing steps include:\n",
    "- Normalizing the feature data to ensure effective training of the neural network.\n",
    "- Splitting the dataset into training, validation, and testing sets for a comprehensive evaluation."
   ],
   "metadata": {
    "collapsed": false
   },
   "id": "c48a4b20a1b7308a"
  },
  {
   "cell_type": "code",
   "outputs": [
    {
     "name": "stdout",
     "output_type": "stream",
     "text": [
      "(105, 4) (14, 4) (31, 4)\n"
     ]
    }
   ],
   "source": [
    "# Load the iris dataset\n",
    "data = load_iris()\n",
    "X, y = data.data, data.target\n",
    "\n",
    "# Normalize the data\n",
    "scaler = MinMaxScaler(feature_range=(-1, 1))\n",
    "X_normalized = scaler.fit_transform(X)\n",
    "X, y = X.astype(np.float32), y.astype(np.int16)\n",
    "\n",
    "# Split the dataset into training and testing sets\n",
    "X_train, X_test, y_train, y_test = train_test_split(\n",
    "    X_normalized, y, test_size=TEST_SIZE, shuffle=True, random_state=RANDOM_SEED)\n",
    "\n",
    "X_val, X_test, y_val, y_test = train_test_split(\n",
    "    X_test, y_test, test_size=TEST_SIZE, shuffle=True, random_state=RANDOM_SEED)\n",
    "\n",
    "print(X_train.shape, X_test.shape, X_val.shape)"
   ],
   "metadata": {
    "collapsed": false,
    "ExecuteTime": {
     "end_time": "2024-03-18T19:47:45.175301600Z",
     "start_time": "2024-03-18T19:47:45.164762200Z"
    }
   },
   "id": "ace702ff978e4e3f",
   "execution_count": 3
  },
  {
   "cell_type": "markdown",
   "source": [
    "The setup for the Quantum Neural Network includes:\n",
    "- Defining the number of qubits, which corresponds to the number of features in the dataset.\n",
    "- Choosing a feature map to encode classical data into quantum states.\n",
    "- Selecting an ansatz (variational form) which defines the structure of the quantum circuit used in the neural network.\n",
    "\n",
    "For the purpose of the demonstration AngleEmbedding feature map will be used with EfficientSU2 variational form."
   ],
   "metadata": {
    "collapsed": false
   },
   "id": "fb833204b2468738"
  },
  {
   "cell_type": "code",
   "outputs": [
    {
     "name": "stdout",
     "output_type": "stream",
     "text": [
      "0: ─╭AngleEmbedding(M0)──RY(0.07)──RX(-0.02)─╭●─╭●─╭●───────────||──RY(0.04)───RX(-0.21)──||\n",
      "1: ─├AngleEmbedding(M0)──RY(0.04)──RX(0.10)──╰X─│──│──╭●─╭●─────||──RY(0.30)───RX(0.07)───||\n",
      "2: ─├AngleEmbedding(M0)──RY(0.02)──RX(-0.06)────╰X─│──╰X─│──╭●──||──RY(-0.03)──RX(0.13)───||\n",
      "3: ─╰AngleEmbedding(M0)──RY(0.01)──RX(0.04)────────╰X────╰X─╰X──||──RY(-0.05)──RX(-0.01)──||\n",
      "\n",
      "───RY(-0.15)──RX(0.15)─╭●─╭●─╭●───────────||──RY(0.10)───RX(0.12)───||─┤  <Z>\n",
      "───RY(-0.10)──RX(0.20)─╰X─│──│──╭●─╭●─────||──RY(0.15)───RX(-0.02)──||─┤  <Z>\n",
      "───RY(-0.03)──RX(0.04)────╰X─│──╰X─│──╭●──||──RY(-0.09)──RX(0.03)───||─┤  <Z>\n",
      "───RY(0.00)───RX(0.12)───────╰X────╰X─╰X──||──RY(-0.11)──RX(-0.05)──||─┤     \n"
     ]
    }
   ],
   "source": [
    "# AngleEmbedding encodes the number of features equal to number of qubits\n",
    "feature_map = AngleEmbedding(\n",
    "    n_qubits=QUBITS_N\n",
    ")\n",
    "\n",
    "# EfficientSU2 ansatz instance with 'full' entanglement scheme\n",
    "ansatz = EfficientSU2(\n",
    "    n_qubits=QUBITS_N,\n",
    "    entanglement='full',\n",
    "    skip_last_rotations=False\n",
    ")\n",
    "\n",
    "# QuantumModel instance with defined ansatz and feature map\n",
    "q_model = QuantumModel(\n",
    "    n_qubits=QUBITS_N,\n",
    "    feature_map=feature_map,\n",
    "    ansatz=ansatz,\n",
    "    layers_num=2,\n",
    "    measurements_num=3,\n",
    "    data_reuploading=False\n",
    ")\n",
    "\n",
    "# Draw quantum model circuit\n",
    "q_model.draw_circuit(device_expansion=False)"
   ],
   "metadata": {
    "collapsed": false,
    "ExecuteTime": {
     "end_time": "2024-03-18T19:47:45.800214200Z",
     "start_time": "2024-03-18T19:47:45.169300800Z"
    }
   },
   "id": "e0d33e9ce75b0ba7",
   "execution_count": 4
  },
  {
   "cell_type": "markdown",
   "source": [
    "Having all components let's create an Estimator instance with defined QuantumModel as estimator component"
   ],
   "metadata": {
    "collapsed": false
   },
   "id": "991c9a3659f0b6c5"
  },
  {
   "cell_type": "code",
   "outputs": [],
   "source": [
    "# Create Estimator model with defined QuantumModel component\n",
    "model = Estimator(\n",
    "    estimator_components=q_model,\n",
    "    loss_fn=optax.softmax_cross_entropy_with_integer_labels,\n",
    "    optimizer_fn=optax.adam\n",
    ")"
   ],
   "metadata": {
    "collapsed": false,
    "ExecuteTime": {
     "end_time": "2024-03-18T19:47:45.804215500Z",
     "start_time": "2024-03-18T19:47:45.799215800Z"
    }
   },
   "id": "1afdb9dfdce3d257",
   "execution_count": 5
  },
  {
   "cell_type": "markdown",
   "source": [
    "Now we can fit the model, with validation and early stopping mechanism."
   ],
   "metadata": {
    "collapsed": false
   },
   "id": "fe3d7a550414f988"
  },
  {
   "cell_type": "code",
   "outputs": [
    {
     "name": "stdout",
     "output_type": "stream",
     "text": [
      "Epoch 1/150 - train_loss: 1.13201 - val_loss: 1.08185\n",
      "Epoch 2/150 - train_loss: 1.10406 - val_loss: 1.05560\n",
      "Epoch 3/150 - train_loss: 1.07789 - val_loss: 1.02804\n",
      "Epoch 4/150 - train_loss: 1.05399 - val_loss: 1.00139\n",
      "Epoch 5/150 - train_loss: 1.03218 - val_loss: 0.97786\n",
      "Epoch 6/150 - train_loss: 1.01184 - val_loss: 0.95644\n",
      "Epoch 7/150 - train_loss: 0.99217 - val_loss: 0.93629\n",
      "Epoch 8/150 - train_loss: 0.97306 - val_loss: 0.91648\n",
      "Epoch 9/150 - train_loss: 0.95445 - val_loss: 0.89977\n",
      "Epoch 10/150 - train_loss: 0.93848 - val_loss: 0.88345\n",
      "Epoch 11/150 - train_loss: 0.92274 - val_loss: 0.86902\n",
      "Epoch 12/150 - train_loss: 0.90903 - val_loss: 0.85383\n",
      "Epoch 13/150 - train_loss: 0.89507 - val_loss: 0.83948\n",
      "Epoch 14/150 - train_loss: 0.88116 - val_loss: 0.82401\n",
      "Epoch 15/150 - train_loss: 0.86514 - val_loss: 0.80983\n",
      "Epoch 16/150 - train_loss: 0.84867 - val_loss: 0.79473\n",
      "Epoch 17/150 - train_loss: 0.82992 - val_loss: 0.78117\n",
      "Epoch 18/150 - train_loss: 0.81282 - val_loss: 0.76592\n",
      "Epoch 19/150 - train_loss: 0.79698 - val_loss: 0.74922\n",
      "Epoch 20/150 - train_loss: 0.78420 - val_loss: 0.73201\n",
      "Epoch 21/150 - train_loss: 0.77276 - val_loss: 0.71816\n",
      "Epoch 22/150 - train_loss: 0.76335 - val_loss: 0.70835\n",
      "Epoch 23/150 - train_loss: 0.75482 - val_loss: 0.70237\n",
      "Epoch 24/150 - train_loss: 0.74824 - val_loss: 0.69495\n",
      "Epoch 25/150 - train_loss: 0.74003 - val_loss: 0.69001\n",
      "Epoch 26/150 - train_loss: 0.73504 - val_loss: 0.68311\n",
      "Epoch 27/150 - train_loss: 0.72955 - val_loss: 0.67493\n",
      "Epoch 28/150 - train_loss: 0.72419 - val_loss: 0.66664\n",
      "Epoch 29/150 - train_loss: 0.71990 - val_loss: 0.65627\n",
      "Epoch 30/150 - train_loss: 0.71442 - val_loss: 0.64640\n",
      "Epoch 31/150 - train_loss: 0.70900 - val_loss: 0.63712\n",
      "Epoch 32/150 - train_loss: 0.70396 - val_loss: 0.62937\n",
      "Epoch 33/150 - train_loss: 0.69943 - val_loss: 0.62327\n",
      "Epoch 34/150 - train_loss: 0.69616 - val_loss: 0.61670\n",
      "Epoch 35/150 - train_loss: 0.69199 - val_loss: 0.61019\n",
      "Epoch 36/150 - train_loss: 0.68815 - val_loss: 0.60489\n",
      "Epoch 37/150 - train_loss: 0.68511 - val_loss: 0.60055\n",
      "Epoch 38/150 - train_loss: 0.68303 - val_loss: 0.59615\n",
      "Epoch 39/150 - train_loss: 0.68083 - val_loss: 0.59215\n",
      "Epoch 40/150 - train_loss: 0.67876 - val_loss: 0.58928\n",
      "Epoch 41/150 - train_loss: 0.67708 - val_loss: 0.58779\n",
      "Epoch 42/150 - train_loss: 0.67623 - val_loss: 0.58543\n",
      "Epoch 43/150 - train_loss: 0.67452 - val_loss: 0.58526\n",
      "Epoch 44/150 - train_loss: 0.67423 - val_loss: 0.58432\n",
      "Epoch 45/150 - train_loss: 0.67309 - val_loss: 0.58266\n",
      "Epoch 46/150 - train_loss: 0.67150 - val_loss: 0.58285\n",
      "Epoch 47/150 - train_loss: 0.67134 - val_loss: 0.58153\n",
      "Epoch 48/150 - train_loss: 0.67006 - val_loss: 0.57981\n",
      "Epoch 49/150 - train_loss: 0.66842 - val_loss: 0.57907\n",
      "Epoch 50/150 - train_loss: 0.66756 - val_loss: 0.57699\n",
      "Epoch 51/150 - train_loss: 0.66527 - val_loss: 0.57766\n",
      "Epoch 52/150 - train_loss: 0.66529 - val_loss: 0.57692\n",
      "Epoch 53/150 - train_loss: 0.66399 - val_loss: 0.57640\n",
      "Epoch 54/150 - train_loss: 0.66294 - val_loss: 0.57719\n",
      "Epoch 55/150 - train_loss: 0.66309 - val_loss: 0.57657\n",
      "Epoch 56/150 - train_loss: 0.66209 - val_loss: 0.57677\n",
      "Epoch 57/150 - train_loss: 0.66186 - val_loss: 0.57735\n",
      "Epoch 58/150 - train_loss: 0.66203 - val_loss: 0.57678\n",
      "Epoch 59/150 - train_loss: 0.66098 - val_loss: 0.57729\n",
      "Epoch 60/150 - train_loss: 0.66081 - val_loss: 0.57734\n",
      "Epoch 61/150 - train_loss: 0.65977 - val_loss: 0.57639\n",
      "Epoch 62/150 - train_loss: 0.65803 - val_loss: 0.57791\n",
      "Epoch 63/150 - train_loss: 0.65816 - val_loss: 0.57891\n",
      "Epoch 64/150 - train_loss: 0.65788 - val_loss: 0.57919\n",
      "Epoch 65/150 - train_loss: 0.65727 - val_loss: 0.58025\n",
      "Epoch 66/150 - train_loss: 0.65723 - val_loss: 0.58013\n",
      "Epoch 67/150 - train_loss: 0.65614 - val_loss: 0.58111\n",
      "Epoch 68/150 - train_loss: 0.65601 - val_loss: 0.58176\n",
      "Epoch 69/150 - train_loss: 0.65564 - val_loss: 0.58292\n",
      "Epoch 70/150 - train_loss: 0.65555 - val_loss: 0.58362\n",
      "Epoch 71/150 - train_loss: 0.65504 - val_loss: 0.58459\n",
      "Epoch 72/150 - train_loss: 0.65489 - val_loss: 0.58547\n",
      "Epoch 73/150 - train_loss: 0.65485 - val_loss: 0.58623\n",
      "Epoch 74/150 - train_loss: 0.65488 - val_loss: 0.58661\n",
      "Epoch 75/150 - train_loss: 0.65494 - val_loss: 0.58575\n",
      "Epoch 76/150 - train_loss: 0.65406 - val_loss: 0.58653\n",
      "Epoch 77/150 - train_loss: 0.65472 - val_loss: 0.58532\n",
      "Stopping early at epoch 77.\n"
     ]
    }
   ],
   "source": [
    "early_stopping = EarlyStopping(patience=ES_PATIENCE)\n",
    "\n",
    "model.fit(\n",
    "    train_data=X_train,\n",
    "    train_targets=y_train,\n",
    "    val_data=X_val,\n",
    "    val_targets=y_val,\n",
    "    num_epochs=EPOCHS_NUM,\n",
    "    learning_rate=LEARNING_RATE,\n",
    "    batch_size=len(y_train),\n",
    "    early_stopping=early_stopping\n",
    ")"
   ],
   "metadata": {
    "collapsed": false,
    "ExecuteTime": {
     "end_time": "2024-03-18T19:47:49.007020400Z",
     "start_time": "2024-03-18T19:47:45.803215800Z"
    }
   },
   "id": "41e6bb9f3a8c5f1d",
   "execution_count": 6
  },
  {
   "cell_type": "code",
   "outputs": [
    {
     "name": "stdout",
     "output_type": "stream",
     "text": [
      "              precision    recall  f1-score   support\n",
      "\n",
      "           0       1.00      1.00      1.00         3\n",
      "           1       1.00      0.33      0.50         6\n",
      "           2       0.56      1.00      0.71         5\n",
      "\n",
      "    accuracy                           0.71        14\n",
      "   macro avg       0.85      0.78      0.74        14\n",
      "weighted avg       0.84      0.71      0.68        14\n"
     ]
    },
    {
     "data": {
      "text/plain": "<Figure size 640x480 with 2 Axes>",
      "image/png": "[encoded data removed]"
     },
     "metadata": {},
     "output_type": "display_data"
    }
   ],
   "source": [
    "# Make predictions\n",
    "y_pred = model.predict(X_test)\n",
    "\n",
    "# Evaluate the classifier\n",
    "print(classification_report(y_test, y_pred))\n",
    "\n",
    "# Display confusion matrix\n",
    "cm = confusion_matrix(y_test, y_pred, labels=[0, 1, 2])\n",
    "sns.heatmap(cm, cmap=\"Greens\", linewidths=0.8, annot=True, xticklabels=LABELS, yticklabels=LABELS)\n",
    "plt.show()"
   ],
   "metadata": {
    "collapsed": false,
    "ExecuteTime": {
     "end_time": "2024-03-18T19:47:50.234926200Z",
     "start_time": "2024-03-18T19:47:49.089626500Z"
    }
   },
   "id": "eabe332aeff7b959",
   "execution_count": 7
  },
  {
   "cell_type": "markdown",
   "source": [
    "We have successfully trained a pretty decent Quantum Neural Network using a straightforward and efficient approach. Our next objective is to further enhance the performance and efficiency of our QNN. To achieve this, we will be implementing the data reuploading technique. We will also use [StronglyEntanglingLayers](https://arxiv.org/abs/1804.00633), inspired by the circuit-centric classifier design.\n",
    "\n",
    "Data reuploading is a powerful strategy that allows for repeated encoding of classical data into quantum states within a single quantum circuit. This technique effectively enhances the capacity of the quantum model to capture complex patterns and relationships in the data, leading to potentially improved performance in tasks like classification and regression."
   ],
   "metadata": {
    "collapsed": false
   },
   "id": "62ebd0369b0b8624"
  },
  {
   "cell_type": "code",
   "outputs": [
    {
     "name": "stdout",
     "output_type": "stream",
     "text": [
      "0: ─╭AngleEmbedding(M0)─╭StronglyEntanglingLayers(M1)──||─╭AngleEmbedding(M0)\n",
      "1: ─├AngleEmbedding(M0)─├StronglyEntanglingLayers(M1)──||─├AngleEmbedding(M0)\n",
      "2: ─├AngleEmbedding(M0)─├StronglyEntanglingLayers(M1)──||─├AngleEmbedding(M0)\n",
      "3: ─╰AngleEmbedding(M0)─╰StronglyEntanglingLayers(M1)──||─╰AngleEmbedding(M0)\n",
      "\n",
      "──╭StronglyEntanglingLayers(M2)──||─┤  <Z>\n",
      "──├StronglyEntanglingLayers(M2)──||─┤  <Z>\n",
      "──├StronglyEntanglingLayers(M2)──||─┤  <Z>\n",
      "──╰StronglyEntanglingLayers(M2)──||─┤     \n"
     ]
    }
   ],
   "source": [
    "# AngleEmbedding encodes the number of features equal to number of qubits\n",
    "feature_map = AngleEmbedding(\n",
    "    n_qubits=QUBITS_N\n",
    ")\n",
    "\n",
    "# StronglyEntanglingLayers ansatz with 3 layers\n",
    "ansatz = StronglyEntanglingLayers(\n",
    "    n_qubits=QUBITS_N,\n",
    "    n_layers=2\n",
    ")\n",
    "\n",
    "# Create QuantumModel model with defined ansatz and feature map\n",
    "# Use data reuploading technique by setting data_reuploading to True\n",
    "q_model = QuantumModel(\n",
    "    n_qubits=QUBITS_N,\n",
    "    feature_map=feature_map,\n",
    "    ansatz=ansatz,\n",
    "    data_reuploading=True,\n",
    "    layers_num=2,\n",
    "    measurements_num=3\n",
    ")\n",
    "\n",
    "q_model.draw_circuit(device_expansion=False)"
   ],
   "metadata": {
    "collapsed": false,
    "ExecuteTime": {
     "end_time": "2024-03-18T19:47:50.386353500Z",
     "start_time": "2024-03-18T19:47:50.234926200Z"
    }
   },
   "id": "b9df94809494ef79",
   "execution_count": 8
  },
  {
   "cell_type": "code",
   "outputs": [],
   "source": [
    "# Create Estimator model with defined QuantumModel component\n",
    "model = Estimator(\n",
    "    estimator_components=q_model,\n",
    "    loss_fn=optax.softmax_cross_entropy_with_integer_labels,\n",
    "    optimizer_fn=optax.adam\n",
    ")"
   ],
   "metadata": {
    "collapsed": false,
    "ExecuteTime": {
     "end_time": "2024-03-18T19:47:50.387406300Z",
     "start_time": "2024-03-18T19:47:50.383358700Z"
    }
   },
   "id": "304c3d51266ca55f",
   "execution_count": 9
  },
  {
   "cell_type": "code",
   "outputs": [
    {
     "name": "stdout",
     "output_type": "stream",
     "text": [
      "Epoch 1/150 - train_loss: 1.10179 - val_loss: 1.04883\n",
      "Epoch 2/150 - train_loss: 1.07416 - val_loss: 0.99994\n",
      "Epoch 3/150 - train_loss: 1.03952 - val_loss: 0.95431\n",
      "Epoch 4/150 - train_loss: 1.00548 - val_loss: 0.92122\n",
      "Epoch 5/150 - train_loss: 0.97941 - val_loss: 0.89848\n",
      "Epoch 6/150 - train_loss: 0.96027 - val_loss: 0.88187\n",
      "Epoch 7/150 - train_loss: 0.94391 - val_loss: 0.86658\n",
      "Epoch 8/150 - train_loss: 0.92664 - val_loss: 0.85000\n",
      "Epoch 9/150 - train_loss: 0.90726 - val_loss: 0.83331\n",
      "Epoch 10/150 - train_loss: 0.88626 - val_loss: 0.81652\n",
      "Epoch 11/150 - train_loss: 0.86407 - val_loss: 0.80196\n",
      "Epoch 12/150 - train_loss: 0.84267 - val_loss: 0.78941\n",
      "Epoch 13/150 - train_loss: 0.82300 - val_loss: 0.77950\n",
      "Epoch 14/150 - train_loss: 0.80641 - val_loss: 0.77364\n",
      "Epoch 15/150 - train_loss: 0.79429 - val_loss: 0.76976\n",
      "Epoch 16/150 - train_loss: 0.78533 - val_loss: 0.76482\n",
      "Epoch 17/150 - train_loss: 0.77635 - val_loss: 0.76050\n",
      "Epoch 18/150 - train_loss: 0.76909 - val_loss: 0.75408\n",
      "Epoch 19/150 - train_loss: 0.76178 - val_loss: 0.74606\n",
      "Epoch 20/150 - train_loss: 0.75520 - val_loss: 0.73470\n",
      "Epoch 21/150 - train_loss: 0.74728 - val_loss: 0.72147\n",
      "Epoch 22/150 - train_loss: 0.73894 - val_loss: 0.70786\n",
      "Epoch 23/150 - train_loss: 0.73136 - val_loss: 0.69355\n",
      "Epoch 24/150 - train_loss: 0.72354 - val_loss: 0.67916\n",
      "Epoch 25/150 - train_loss: 0.71582 - val_loss: 0.66564\n",
      "Epoch 26/150 - train_loss: 0.70836 - val_loss: 0.65191\n",
      "Epoch 27/150 - train_loss: 0.69933 - val_loss: 0.64093\n",
      "Epoch 28/150 - train_loss: 0.69060 - val_loss: 0.63388\n",
      "Epoch 29/150 - train_loss: 0.68345 - val_loss: 0.62753\n",
      "Epoch 30/150 - train_loss: 0.67572 - val_loss: 0.62420\n",
      "Epoch 31/150 - train_loss: 0.67053 - val_loss: 0.62266\n",
      "Epoch 32/150 - train_loss: 0.66771 - val_loss: 0.61971\n",
      "Epoch 33/150 - train_loss: 0.66444 - val_loss: 0.61525\n",
      "Epoch 34/150 - train_loss: 0.66095 - val_loss: 0.60954\n",
      "Epoch 35/150 - train_loss: 0.65735 - val_loss: 0.60258\n",
      "Epoch 36/150 - train_loss: 0.65323 - val_loss: 0.59424\n",
      "Epoch 37/150 - train_loss: 0.64849 - val_loss: 0.58646\n",
      "Epoch 38/150 - train_loss: 0.64434 - val_loss: 0.57919\n",
      "Epoch 39/150 - train_loss: 0.64040 - val_loss: 0.57176\n",
      "Epoch 40/150 - train_loss: 0.63585 - val_loss: 0.56420\n",
      "Epoch 41/150 - train_loss: 0.63078 - val_loss: 0.56028\n",
      "Epoch 42/150 - train_loss: 0.62854 - val_loss: 0.55579\n",
      "Epoch 43/150 - train_loss: 0.62589 - val_loss: 0.55239\n",
      "Epoch 44/150 - train_loss: 0.62405 - val_loss: 0.54813\n",
      "Epoch 45/150 - train_loss: 0.62168 - val_loss: 0.54452\n",
      "Epoch 46/150 - train_loss: 0.61969 - val_loss: 0.54043\n",
      "Epoch 47/150 - train_loss: 0.61742 - val_loss: 0.53673\n",
      "Epoch 48/150 - train_loss: 0.61502 - val_loss: 0.53511\n",
      "Epoch 49/150 - train_loss: 0.61395 - val_loss: 0.53220\n",
      "Epoch 50/150 - train_loss: 0.61108 - val_loss: 0.53040\n",
      "Epoch 51/150 - train_loss: 0.60864 - val_loss: 0.52941\n",
      "Epoch 52/150 - train_loss: 0.60670 - val_loss: 0.52798\n",
      "Epoch 53/150 - train_loss: 0.60379 - val_loss: 0.52681\n",
      "Epoch 54/150 - train_loss: 0.60129 - val_loss: 0.52492\n",
      "Epoch 55/150 - train_loss: 0.59842 - val_loss: 0.52386\n",
      "Epoch 56/150 - train_loss: 0.59693 - val_loss: 0.52168\n",
      "Epoch 57/150 - train_loss: 0.59440 - val_loss: 0.51959\n",
      "Epoch 58/150 - train_loss: 0.59261 - val_loss: 0.51863\n",
      "Epoch 59/150 - train_loss: 0.59177 - val_loss: 0.51611\n",
      "Epoch 60/150 - train_loss: 0.58969 - val_loss: 0.51430\n",
      "Epoch 61/150 - train_loss: 0.58787 - val_loss: 0.51277\n",
      "Epoch 62/150 - train_loss: 0.58602 - val_loss: 0.51186\n",
      "Epoch 63/150 - train_loss: 0.58467 - val_loss: 0.51006\n",
      "Epoch 64/150 - train_loss: 0.58230 - val_loss: 0.50811\n",
      "Epoch 65/150 - train_loss: 0.57999 - val_loss: 0.50745\n",
      "Epoch 66/150 - train_loss: 0.57879 - val_loss: 0.50566\n",
      "Epoch 67/150 - train_loss: 0.57683 - val_loss: 0.50364\n",
      "Epoch 68/150 - train_loss: 0.57462 - val_loss: 0.50366\n",
      "Epoch 69/150 - train_loss: 0.57440 - val_loss: 0.50214\n",
      "Epoch 70/150 - train_loss: 0.57271 - val_loss: 0.50022\n",
      "Epoch 71/150 - train_loss: 0.57062 - val_loss: 0.49963\n",
      "Epoch 72/150 - train_loss: 0.56971 - val_loss: 0.49925\n",
      "Epoch 73/150 - train_loss: 0.56901 - val_loss: 0.49759\n",
      "Epoch 74/150 - train_loss: 0.56738 - val_loss: 0.49765\n",
      "Epoch 75/150 - train_loss: 0.56771 - val_loss: 0.49570\n",
      "Epoch 76/150 - train_loss: 0.56581 - val_loss: 0.49457\n",
      "Epoch 77/150 - train_loss: 0.56498 - val_loss: 0.49347\n",
      "Epoch 78/150 - train_loss: 0.56393 - val_loss: 0.49328\n",
      "Epoch 79/150 - train_loss: 0.56373 - val_loss: 0.49311\n",
      "Epoch 80/150 - train_loss: 0.56343 - val_loss: 0.49219\n",
      "Epoch 81/150 - train_loss: 0.56230 - val_loss: 0.49156\n",
      "Epoch 82/150 - train_loss: 0.56114 - val_loss: 0.49192\n",
      "Epoch 83/150 - train_loss: 0.56045 - val_loss: 0.49228\n",
      "Epoch 84/150 - train_loss: 0.56009 - val_loss: 0.49248\n",
      "Epoch 85/150 - train_loss: 0.55940 - val_loss: 0.49210\n",
      "Epoch 86/150 - train_loss: 0.55830 - val_loss: 0.49298\n",
      "Epoch 87/150 - train_loss: 0.55852 - val_loss: 0.49279\n",
      "Epoch 88/150 - train_loss: 0.55771 - val_loss: 0.49253\n",
      "Epoch 89/150 - train_loss: 0.55705 - val_loss: 0.49108\n",
      "Epoch 90/150 - train_loss: 0.55529 - val_loss: 0.49225\n",
      "Epoch 91/150 - train_loss: 0.55584 - val_loss: 0.49133\n",
      "Epoch 92/150 - train_loss: 0.55456 - val_loss: 0.49063\n",
      "Epoch 93/150 - train_loss: 0.55356 - val_loss: 0.49066\n",
      "Epoch 94/150 - train_loss: 0.55355 - val_loss: 0.48845\n",
      "Epoch 95/150 - train_loss: 0.55142 - val_loss: 0.48759\n",
      "Epoch 96/150 - train_loss: 0.55047 - val_loss: 0.48674\n",
      "Epoch 97/150 - train_loss: 0.54977 - val_loss: 0.48383\n",
      "Epoch 98/150 - train_loss: 0.54715 - val_loss: 0.48356\n",
      "Epoch 99/150 - train_loss: 0.54666 - val_loss: 0.48153\n",
      "Epoch 100/150 - train_loss: 0.54473 - val_loss: 0.48017\n",
      "Epoch 101/150 - train_loss: 0.54310 - val_loss: 0.47897\n",
      "Epoch 102/150 - train_loss: 0.54172 - val_loss: 0.47738\n",
      "Epoch 103/150 - train_loss: 0.53998 - val_loss: 0.47560\n",
      "Epoch 104/150 - train_loss: 0.53821 - val_loss: 0.47457\n",
      "Epoch 105/150 - train_loss: 0.53688 - val_loss: 0.47305\n",
      "Epoch 106/150 - train_loss: 0.53521 - val_loss: 0.47138\n",
      "Epoch 107/150 - train_loss: 0.53332 - val_loss: 0.47059\n",
      "Epoch 108/150 - train_loss: 0.53207 - val_loss: 0.46924\n",
      "Epoch 109/150 - train_loss: 0.53052 - val_loss: 0.46731\n",
      "Epoch 110/150 - train_loss: 0.52818 - val_loss: 0.46790\n",
      "Epoch 111/150 - train_loss: 0.52829 - val_loss: 0.46739\n",
      "Epoch 112/150 - train_loss: 0.52712 - val_loss: 0.46763\n",
      "Epoch 113/150 - train_loss: 0.52669 - val_loss: 0.46672\n",
      "Epoch 114/150 - train_loss: 0.52547 - val_loss: 0.46647\n",
      "Epoch 115/150 - train_loss: 0.52468 - val_loss: 0.46683\n",
      "Epoch 116/150 - train_loss: 0.52504 - val_loss: 0.46568\n",
      "Epoch 117/150 - train_loss: 0.52361 - val_loss: 0.46623\n",
      "Epoch 118/150 - train_loss: 0.52411 - val_loss: 0.46416\n",
      "Epoch 119/150 - train_loss: 0.52191 - val_loss: 0.46321\n",
      "Epoch 120/150 - train_loss: 0.52113 - val_loss: 0.46319\n",
      "Epoch 121/150 - train_loss: 0.52090 - val_loss: 0.46327\n",
      "Epoch 122/150 - train_loss: 0.52094 - val_loss: 0.46146\n",
      "Epoch 123/150 - train_loss: 0.51945 - val_loss: 0.46072\n",
      "Epoch 124/150 - train_loss: 0.51848 - val_loss: 0.46004\n",
      "Epoch 125/150 - train_loss: 0.51807 - val_loss: 0.45923\n",
      "Epoch 126/150 - train_loss: 0.51740 - val_loss: 0.45831\n",
      "Epoch 127/150 - train_loss: 0.51683 - val_loss: 0.45817\n",
      "Epoch 128/150 - train_loss: 0.51679 - val_loss: 0.45691\n",
      "Epoch 129/150 - train_loss: 0.51602 - val_loss: 0.45563\n",
      "Epoch 130/150 - train_loss: 0.51511 - val_loss: 0.45576\n",
      "Epoch 131/150 - train_loss: 0.51572 - val_loss: 0.45450\n",
      "Epoch 132/150 - train_loss: 0.51480 - val_loss: 0.45359\n",
      "Epoch 133/150 - train_loss: 0.51422 - val_loss: 0.45309\n",
      "Epoch 134/150 - train_loss: 0.51407 - val_loss: 0.45251\n",
      "Epoch 135/150 - train_loss: 0.51363 - val_loss: 0.45167\n",
      "Epoch 136/150 - train_loss: 0.51308 - val_loss: 0.45095\n",
      "Epoch 137/150 - train_loss: 0.51239 - val_loss: 0.45202\n",
      "Epoch 138/150 - train_loss: 0.51330 - val_loss: 0.45103\n",
      "Epoch 139/150 - train_loss: 0.51236 - val_loss: 0.45072\n",
      "Epoch 140/150 - train_loss: 0.51179 - val_loss: 0.45065\n",
      "Epoch 141/150 - train_loss: 0.51183 - val_loss: 0.45064\n",
      "Epoch 142/150 - train_loss: 0.51173 - val_loss: 0.45133\n",
      "Epoch 143/150 - train_loss: 0.51200 - val_loss: 0.45128\n",
      "Epoch 144/150 - train_loss: 0.51186 - val_loss: 0.45044\n",
      "Epoch 145/150 - train_loss: 0.51100 - val_loss: 0.45037\n",
      "Epoch 146/150 - train_loss: 0.51078 - val_loss: 0.45040\n",
      "Epoch 147/150 - train_loss: 0.51082 - val_loss: 0.45063\n",
      "Epoch 148/150 - train_loss: 0.51101 - val_loss: 0.44989\n",
      "Epoch 149/150 - train_loss: 0.51027 - val_loss: 0.44943\n",
      "Epoch 150/150 - train_loss: 0.50990 - val_loss: 0.44982\n"
     ]
    }
   ],
   "source": [
    "early_stopping = EarlyStopping(patience=ES_PATIENCE)\n",
    "\n",
    "model.fit(\n",
    "    train_data=X_train,\n",
    "    train_targets=y_train,\n",
    "    val_data=X_val,\n",
    "    val_targets=y_val,\n",
    "    learning_rate=LEARNING_RATE,\n",
    "    num_epochs=EPOCHS_NUM,\n",
    "    batch_size=len(y_train),\n",
    "    early_stopping=early_stopping\n",
    ")"
   ],
   "metadata": {
    "collapsed": false,
    "ExecuteTime": {
     "end_time": "2024-03-18T19:47:57.580735900Z",
     "start_time": "2024-03-18T19:47:50.386353500Z"
    }
   },
   "id": "bdd159b6bb2e681a",
   "execution_count": 10
  },
  {
   "cell_type": "code",
   "outputs": [
    {
     "name": "stdout",
     "output_type": "stream",
     "text": [
      "              precision    recall  f1-score   support\n",
      "\n",
      "           0       1.00      1.00      1.00         3\n",
      "           1       1.00      1.00      1.00         6\n",
      "           2       1.00      1.00      1.00         5\n",
      "\n",
      "    accuracy                           1.00        14\n",
      "   macro avg       1.00      1.00      1.00        14\n",
      "weighted avg       1.00      1.00      1.00        14\n"
     ]
    },
    {
     "data": {
      "text/plain": "<Figure size 640x480 with 2 Axes>",
      "image/png": "[encoded data removed]"
     },
     "metadata": {},
     "output_type": "display_data"
    }
   ],
   "source": [
    "# Make predictions\n",
    "y_pred = model.predict(X_test)\n",
    "\n",
    "# Evaluate the classifier\n",
    "print(classification_report(y_test, y_pred))\n",
    "\n",
    "# Display confusion matrix\n",
    "cm = confusion_matrix(y_test, y_pred, labels=[0, 1, 2])\n",
    "sns.heatmap(cm, cmap=\"Greens\", linewidths=0.8, annot=True, xticklabels=LABELS, yticklabels=LABELS)\n",
    "plt.show()"
   ],
   "metadata": {
    "collapsed": false,
    "ExecuteTime": {
     "end_time": "2024-03-18T19:47:59.173090300Z",
     "start_time": "2024-03-18T19:47:57.602754800Z"
    }
   },
   "id": "58e44998a2dcef7c",
   "execution_count": 11
  }
 ],
 "metadata": {
  "kernelspec": {
   "display_name": "Python 3",
   "language": "python",
   "name": "python3"
  },
  "language_info": {
   "codemirror_mode": {
    "name": "ipython",
    "version": 2
   },
   "file_extension": ".py",
   "mimetype": "text/x-python",
   "name": "python",
   "nbconvert_exporter": "python",
   "pygments_lexer": "ipython2",
   "version": "2.7.6"
  }
 },
 "nbformat": 4,
 "nbformat_minor": 5
}
