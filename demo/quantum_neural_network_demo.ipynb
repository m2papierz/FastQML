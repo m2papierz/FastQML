{
 "cells": [
  {
   "cell_type": "markdown",
   "source": [
    "### Multiclass Classification Using QNNClassifier in FastQML\n",
    "\n",
    "This demonstration highlights the application of a Quantum Neural Network (QNN) Classifier using the FastQML framework, emphasizing the seamless integration and intuitive usability of FastQML for quantum machine learning (QML) model development. By leveraging the unique capabilities of quantum computing, the QNNClassifier is employed to tackle a multiclass classification challenge. The primary goal of this notebook is to illustrate the straightforward process of setting up, training, and evaluating a QNN for a practical classification scenario, showcasing FastQML's effectiveness and user-friendly approach to implementing QML models."
   ],
   "metadata": {
    "collapsed": false
   },
   "id": "522c79c6baa18213"
  },
  {
   "cell_type": "code",
   "outputs": [],
   "source": [
    "# Project imports\n",
    "import optax\n",
    "import matplotlib.pyplot as plt\n",
    "from sklearn.datasets import load_iris\n",
    "from sklearn.model_selection import train_test_split\n",
    "from sklearn.metrics import classification_report\n",
    "from sklearn.preprocessing import MinMaxScaler\n",
    "from sklearn.metrics import confusion_matrix, ConfusionMatrixDisplay\n",
    "\n",
    "from fast_qml.quantum_circuits.feature_maps import AngleEmbedding\n",
    "from fast_qml.quantum_circuits.variational_forms import EfficientSU2\n",
    "from fast_qml.estimators.qnn import QNNClassifier\n",
    "from fast_qml.core.callbacks import EarlyStopping\n",
    "\n",
    "# Project constants\n",
    "QUBITS_N = 4\n",
    "LEARNING_RATE = 0.1\n",
    "EPOCHS_NUM = 500\n",
    "RANDOM_SEED = 42\n",
    "TEST_SIZE = 0.3"
   ],
   "metadata": {
    "collapsed": true,
    "ExecuteTime": {
     "end_time": "2024-02-10T14:17:30.790231Z",
     "start_time": "2024-02-10T14:17:29.056861600Z"
    }
   },
   "id": "initial_id",
   "execution_count": 1
  },
  {
   "cell_type": "markdown",
   "source": [
    "The dataset used in this demonstration is the Iris dataset, a classic dataset in machine learning and statistics. It consists of 150 samples of iris flowers from three different species. Each sample has four features: the length and the width of the sepals and petals.\n",
    "\n",
    "The preprocessing steps include:\n",
    "- Normalizing the feature data to ensure effective training of the neural network.\n",
    "- Splitting the dataset into training, validation, and testing sets for a comprehensive evaluation."
   ],
   "metadata": {
    "collapsed": false
   },
   "id": "c48a4b20a1b7308a"
  },
  {
   "cell_type": "code",
   "outputs": [
    {
     "name": "stdout",
     "output_type": "stream",
     "text": [
      "(105, 4) (14, 4) (31, 4)\n"
     ]
    }
   ],
   "source": [
    "# Load the iris dataset\n",
    "data = load_iris()\n",
    "X, y = data.data, data.target\n",
    "\n",
    "# Normalize the data\n",
    "scaler = MinMaxScaler(feature_range=(-1, 1))\n",
    "X_normalized = scaler.fit_transform(X)\n",
    "\n",
    "# Split the dataset into training and testing sets\n",
    "X_train, X_test, y_train, y_test = train_test_split(\n",
    "    X_normalized, y, test_size=TEST_SIZE, shuffle=True, random_state=RANDOM_SEED)\n",
    "\n",
    "X_val, X_test, y_val, y_test = train_test_split(\n",
    "    X_test, y_test, test_size=TEST_SIZE, shuffle=True, random_state=RANDOM_SEED)\n",
    "\n",
    "print(X_train.shape, X_test.shape, X_val.shape)"
   ],
   "metadata": {
    "collapsed": false,
    "ExecuteTime": {
     "end_time": "2024-02-10T14:17:30.790231Z",
     "start_time": "2024-02-10T14:17:30.783877500Z"
    }
   },
   "id": "ace702ff978e4e3f",
   "execution_count": 2
  },
  {
   "cell_type": "markdown",
   "source": [
    "The setup for the Quantum Neural Network includes:\n",
    "- Defining the number of qubits, which corresponds to the number of features in the dataset.\n",
    "- Choosing a feature map to encode classical data into quantum states.\n",
    "- Selecting an ansatz (variational form) which defines the structure of the quantum circuit used in the neural network.\n",
    "\n",
    "For the purpose of the demonstration AngleEmbedding feature map will be used with EfficientSU2 variational form."
   ],
   "metadata": {
    "collapsed": false
   },
   "id": "fb833204b2468738"
  },
  {
   "cell_type": "code",
   "outputs": [],
   "source": [
    "# AngleEmbedding encodes the number of features equal to number of qubits\n",
    "feature_map = AngleEmbedding(\n",
    "    n_qubits=QUBITS_N\n",
    ")\n",
    "\n",
    "# EfficientSU2 ansatz\n",
    "ansatz = EfficientSU2(\n",
    "    n_qubits=QUBITS_N,\n",
    "    entanglement='full',\n",
    "    skip_last_rotations=False,\n",
    "    reps=1\n",
    ")"
   ],
   "metadata": {
    "collapsed": false,
    "ExecuteTime": {
     "end_time": "2024-02-10T14:17:30.809337300Z",
     "start_time": "2024-02-10T14:17:30.788230400Z"
    }
   },
   "id": "e0d33e9ce75b0ba7",
   "execution_count": 3
  },
  {
   "cell_type": "markdown",
   "source": [
    "Having all components let's create a QNNClassifier and draw it's circuit."
   ],
   "metadata": {
    "collapsed": false
   },
   "id": "991c9a3659f0b6c5"
  },
  {
   "cell_type": "code",
   "outputs": [
    {
     "name": "stdout",
     "output_type": "stream",
     "text": [
      "0: ─╭AngleEmbedding(M0)──RY(-0.05)──RX(0.07)──╭●─╭●─╭●───────────||──RY(-0.15)──RX(-0.10)──RY(-0.06)\n",
      "1: ─├AngleEmbedding(M0)──RY(0.18)───RX(0.04)──╰X─│──│──╭●─╭●─────||──RY(-0.04)──RX(0.18)───RY(-0.17)\n",
      "2: ─├AngleEmbedding(M0)──RY(0.12)───RX(-0.11)────╰X─│──╰X─│──╭●──||──RY(-0.13)──RX(-0.04)──RY(-0.08)\n",
      "3: ─╰AngleEmbedding(M0)──RY(0.01)───RX(-0.07)───────╰X────╰X─╰X──||──RY(-0.10)──RX(0.06)───RY(0.05)─\n",
      "\n",
      "───RX(-0.11)─╭●─╭●─╭●───────────||──RY(0.02)───RX(0.10)───RY(0.21)───RX(0.01)──╭●─╭●─╭●───────────||\n",
      "───RX(-0.06)─╰X─│──│──╭●─╭●─────||──RY(-0.01)──RX(-0.04)──RY(0.05)───RX(-0.02)─╰X─│──│──╭●─╭●─────||\n",
      "───RX(-0.03)────╰X─│──╰X─│──╭●──||──RY(-0.03)──RX(0.05)───RY(-0.03)──RX(0.02)─────╰X─│──╰X─│──╭●──||\n",
      "───RX(0.16)────────╰X────╰X─╰X──||──RY(0.05)───RX(0.15)───RY(-0.08)──RX(-0.01)───────╰X────╰X─╰X──||\n",
      "\n",
      "───RY(-0.16)──RX(-0.17)─┤  \n",
      "───RY(0.09)───RX(-0.11)─┤  \n",
      "───RY(-0.02)──RX(0.07)──┤  \n",
      "───RY(-0.03)──RX(-0.15)─┤  \n",
      "M0 = \n",
      "[[ 1.77093194 -1.38346463  0.17735198  0.11645401]]\n"
     ]
    }
   ],
   "source": [
    "# Create QNNClassifier model with defined ansatz and feature map\n",
    "model = QNNClassifier(\n",
    "    n_qubits=QUBITS_N,\n",
    "    feature_map=feature_map,\n",
    "    ansatz=ansatz,\n",
    "    loss_fn=optax.softmax_cross_entropy_with_integer_labels,\n",
    "    optimizer=optax.adam,\n",
    "    data_reuploading=False,\n",
    "    layers_num=3,\n",
    "    classes_num=3\n",
    ")\n",
    "\n",
    "model.draw_circuit()"
   ],
   "metadata": {
    "collapsed": false,
    "ExecuteTime": {
     "end_time": "2024-02-10T14:17:31.759157600Z",
     "start_time": "2024-02-10T14:17:30.802299200Z"
    }
   },
   "id": "1afdb9dfdce3d257",
   "execution_count": 4
  },
  {
   "cell_type": "markdown",
   "source": [
    "Now we can fit the model, with validation and early stopping mechanism."
   ],
   "metadata": {
    "collapsed": false
   },
   "id": "fe3d7a550414f988"
  },
  {
   "cell_type": "code",
   "outputs": [
    {
     "name": "stdout",
     "output_type": "stream",
     "text": [
      "Epoch 1/500 - train_loss: 1.10678 - val_loss: 1.00894\n",
      "Epoch 2/500 - train_loss: 1.04435 - val_loss: 0.94251\n",
      "Epoch 3/500 - train_loss: 0.99865 - val_loss: 0.91220\n",
      "Epoch 4/500 - train_loss: 0.96378 - val_loss: 0.89691\n",
      "Epoch 5/500 - train_loss: 0.94239 - val_loss: 0.87722\n",
      "Epoch 6/500 - train_loss: 0.92392 - val_loss: 0.85902\n",
      "Epoch 7/500 - train_loss: 0.90395 - val_loss: 0.84265\n",
      "Epoch 8/500 - train_loss: 0.87768 - val_loss: 0.82248\n",
      "Epoch 9/500 - train_loss: 0.85227 - val_loss: 0.79529\n",
      "Epoch 10/500 - train_loss: 0.82706 - val_loss: 0.76164\n",
      "Epoch 11/500 - train_loss: 0.79822 - val_loss: 0.72802\n",
      "Epoch 12/500 - train_loss: 0.77301 - val_loss: 0.70948\n",
      "Epoch 13/500 - train_loss: 0.76163 - val_loss: 0.71131\n",
      "Epoch 14/500 - train_loss: 0.76164 - val_loss: 0.71570\n",
      "Epoch 15/500 - train_loss: 0.76020 - val_loss: 0.70240\n",
      "Epoch 16/500 - train_loss: 0.74790 - val_loss: 0.67558\n",
      "Epoch 17/500 - train_loss: 0.72958 - val_loss: 0.65477\n",
      "Epoch 18/500 - train_loss: 0.71525 - val_loss: 0.64963\n",
      "Epoch 19/500 - train_loss: 0.71060 - val_loss: 0.65202\n",
      "Epoch 20/500 - train_loss: 0.71307 - val_loss: 0.65816\n",
      "Epoch 21/500 - train_loss: 0.71794 - val_loss: 0.66562\n",
      "Epoch 22/500 - train_loss: 0.72027 - val_loss: 0.66914\n",
      "Epoch 23/500 - train_loss: 0.71878 - val_loss: 0.66407\n",
      "Epoch 24/500 - train_loss: 0.71388 - val_loss: 0.65524\n",
      "Epoch 25/500 - train_loss: 0.70818 - val_loss: 0.64982\n",
      "Epoch 26/500 - train_loss: 0.70275 - val_loss: 0.64671\n",
      "Epoch 27/500 - train_loss: 0.69843 - val_loss: 0.64142\n",
      "Epoch 28/500 - train_loss: 0.69485 - val_loss: 0.63543\n",
      "Epoch 29/500 - train_loss: 0.69203 - val_loss: 0.63133\n",
      "Epoch 30/500 - train_loss: 0.68962 - val_loss: 0.62849\n",
      "Epoch 31/500 - train_loss: 0.68731 - val_loss: 0.62482\n",
      "Epoch 32/500 - train_loss: 0.68526 - val_loss: 0.61972\n",
      "Epoch 33/500 - train_loss: 0.68326 - val_loss: 0.61736\n",
      "Epoch 34/500 - train_loss: 0.68142 - val_loss: 0.61981\n",
      "Epoch 35/500 - train_loss: 0.67954 - val_loss: 0.62306\n",
      "Epoch 36/500 - train_loss: 0.67833 - val_loss: 0.62230\n",
      "Epoch 37/500 - train_loss: 0.67757 - val_loss: 0.61956\n",
      "Epoch 38/500 - train_loss: 0.67710 - val_loss: 0.61811\n",
      "Epoch 39/500 - train_loss: 0.67618 - val_loss: 0.61705\n",
      "Epoch 40/500 - train_loss: 0.67452 - val_loss: 0.61418\n",
      "Epoch 41/500 - train_loss: 0.67252 - val_loss: 0.61099\n",
      "Epoch 42/500 - train_loss: 0.67101 - val_loss: 0.60924\n",
      "Epoch 43/500 - train_loss: 0.66987 - val_loss: 0.60763\n",
      "Epoch 44/500 - train_loss: 0.66875 - val_loss: 0.60498\n",
      "Epoch 45/500 - train_loss: 0.66748 - val_loss: 0.60332\n",
      "Epoch 46/500 - train_loss: 0.66629 - val_loss: 0.60391\n",
      "Epoch 47/500 - train_loss: 0.66527 - val_loss: 0.60474\n",
      "Epoch 48/500 - train_loss: 0.66442 - val_loss: 0.60383\n",
      "Epoch 49/500 - train_loss: 0.66352 - val_loss: 0.60279\n",
      "Epoch 50/500 - train_loss: 0.66267 - val_loss: 0.60307\n",
      "Epoch 51/500 - train_loss: 0.66181 - val_loss: 0.60317\n",
      "Epoch 52/500 - train_loss: 0.66097 - val_loss: 0.60198\n",
      "Epoch 53/500 - train_loss: 0.66007 - val_loss: 0.60058\n",
      "Epoch 54/500 - train_loss: 0.65907 - val_loss: 0.59876\n",
      "Epoch 55/500 - train_loss: 0.65794 - val_loss: 0.59525\n",
      "Epoch 56/500 - train_loss: 0.65676 - val_loss: 0.59105\n",
      "Epoch 57/500 - train_loss: 0.65550 - val_loss: 0.58801\n",
      "Epoch 58/500 - train_loss: 0.65397 - val_loss: 0.58549\n",
      "Epoch 59/500 - train_loss: 0.65225 - val_loss: 0.58214\n",
      "Epoch 60/500 - train_loss: 0.65046 - val_loss: 0.57891\n",
      "Epoch 61/500 - train_loss: 0.64869 - val_loss: 0.57671\n",
      "Epoch 62/500 - train_loss: 0.64694 - val_loss: 0.57443\n",
      "Epoch 63/500 - train_loss: 0.64533 - val_loss: 0.57182\n",
      "Epoch 64/500 - train_loss: 0.64392 - val_loss: 0.57018\n",
      "Epoch 65/500 - train_loss: 0.64271 - val_loss: 0.56910\n",
      "Epoch 66/500 - train_loss: 0.64171 - val_loss: 0.56732\n",
      "Epoch 67/500 - train_loss: 0.64086 - val_loss: 0.56587\n",
      "Epoch 68/500 - train_loss: 0.64007 - val_loss: 0.56551\n",
      "Epoch 69/500 - train_loss: 0.63921 - val_loss: 0.56464\n",
      "Epoch 70/500 - train_loss: 0.63818 - val_loss: 0.56328\n",
      "Epoch 71/500 - train_loss: 0.63699 - val_loss: 0.56273\n",
      "Epoch 72/500 - train_loss: 0.63580 - val_loss: 0.56207\n",
      "Epoch 73/500 - train_loss: 0.63476 - val_loss: 0.56125\n",
      "Epoch 74/500 - train_loss: 0.63393 - val_loss: 0.56159\n",
      "Epoch 75/500 - train_loss: 0.63335 - val_loss: 0.56182\n",
      "Epoch 76/500 - train_loss: 0.63301 - val_loss: 0.56171\n",
      "Epoch 77/500 - train_loss: 0.63287 - val_loss: 0.56240\n",
      "Epoch 78/500 - train_loss: 0.63283 - val_loss: 0.56257\n",
      "Epoch 79/500 - train_loss: 0.63278 - val_loss: 0.56260\n",
      "Epoch 80/500 - train_loss: 0.63268 - val_loss: 0.56308\n",
      "Epoch 81/500 - train_loss: 0.63252 - val_loss: 0.56270\n",
      "Epoch 82/500 - train_loss: 0.63229 - val_loss: 0.56267\n",
      "Epoch 83/500 - train_loss: 0.63203 - val_loss: 0.56264\n",
      "Epoch 84/500 - train_loss: 0.63181 - val_loss: 0.56217\n",
      "Epoch 85/500 - train_loss: 0.63164 - val_loss: 0.56229\n",
      "Epoch 86/500 - train_loss: 0.63151 - val_loss: 0.56160\n",
      "Epoch 87/500 - train_loss: 0.63139 - val_loss: 0.56124\n",
      "Epoch 88/500 - train_loss: 0.63126 - val_loss: 0.56073\n",
      "Epoch 89/500 - train_loss: 0.63112 - val_loss: 0.56011\n",
      "Epoch 90/500 - train_loss: 0.63097 - val_loss: 0.55996\n",
      "Epoch 91/500 - train_loss: 0.63082 - val_loss: 0.55924\n",
      "Epoch 92/500 - train_loss: 0.63071 - val_loss: 0.55912\n",
      "Epoch 93/500 - train_loss: 0.63065 - val_loss: 0.55851\n",
      "Epoch 94/500 - train_loss: 0.63063 - val_loss: 0.55836\n",
      "Epoch 95/500 - train_loss: 0.63063 - val_loss: 0.55804\n",
      "Epoch 96/500 - train_loss: 0.63063 - val_loss: 0.55786\n",
      "Epoch 97/500 - train_loss: 0.63062 - val_loss: 0.55793\n",
      "Epoch 98/500 - train_loss: 0.63062 - val_loss: 0.55785\n",
      "Epoch 99/500 - train_loss: 0.63063 - val_loss: 0.55819\n",
      "Epoch 100/500 - train_loss: 0.63064 - val_loss: 0.55799\n",
      "Epoch 101/500 - train_loss: 0.63064 - val_loss: 0.55824\n",
      "Epoch 102/500 - train_loss: 0.63062 - val_loss: 0.55782\n",
      "Epoch 103/500 - train_loss: 0.63057 - val_loss: 0.55811\n",
      "Epoch 104/500 - train_loss: 0.63053 - val_loss: 0.55762\n",
      "Epoch 105/500 - train_loss: 0.63048 - val_loss: 0.55817\n",
      "Epoch 106/500 - train_loss: 0.63044 - val_loss: 0.55757\n",
      "Epoch 107/500 - train_loss: 0.63042 - val_loss: 0.55862\n",
      "Epoch 108/500 - train_loss: 0.63040 - val_loss: 0.55753\n",
      "Epoch 109/500 - train_loss: 0.63039 - val_loss: 0.55934\n",
      "Epoch 110/500 - train_loss: 0.63040 - val_loss: 0.55691\n",
      "Epoch 111/500 - train_loss: 0.63041 - val_loss: 0.56062\n",
      "Epoch 112/500 - train_loss: 0.63047 - val_loss: 0.55547\n",
      "Epoch 113/500 - train_loss: 0.63059 - val_loss: 0.56340\n",
      "Epoch 114/500 - train_loss: 0.63082 - val_loss: 0.55361\n",
      "Epoch 115/500 - train_loss: 0.63110 - val_loss: 0.56545\n",
      "Epoch 116/500 - train_loss: 0.63118 - val_loss: 0.55460\n",
      "Epoch 117/500 - train_loss: 0.63080 - val_loss: 0.55960\n",
      "Epoch 118/500 - train_loss: 0.63039 - val_loss: 0.56088\n",
      "Epoch 119/500 - train_loss: 0.63048 - val_loss: 0.55434\n",
      "Epoch 120/500 - train_loss: 0.63078 - val_loss: 0.56273\n",
      "Epoch 121/500 - train_loss: 0.63071 - val_loss: 0.55663\n",
      "Epoch 122/500 - train_loss: 0.63039 - val_loss: 0.55667\n",
      "Epoch 123/500 - train_loss: 0.63038 - val_loss: 0.56199\n",
      "Epoch 124/500 - train_loss: 0.63059 - val_loss: 0.55514\n",
      "Epoch 125/500 - train_loss: 0.63055 - val_loss: 0.55933\n",
      "Epoch 126/500 - train_loss: 0.63034 - val_loss: 0.55966\n",
      "Epoch 127/500 - train_loss: 0.63036 - val_loss: 0.55535\n",
      "Epoch 128/500 - train_loss: 0.63050 - val_loss: 0.56082\n",
      "Epoch 129/500 - train_loss: 0.63045 - val_loss: 0.55749\n",
      "Epoch 130/500 - train_loss: 0.63032 - val_loss: 0.55676\n",
      "Epoch 131/500 - train_loss: 0.63036 - val_loss: 0.56087\n",
      "Epoch 132/500 - train_loss: 0.63045 - val_loss: 0.55641\n",
      "Epoch 133/500 - train_loss: 0.63039 - val_loss: 0.55856\n",
      "Epoch 134/500 - train_loss: 0.63031 - val_loss: 0.55977\n",
      "Epoch 135/500 - train_loss: 0.63035 - val_loss: 0.55637\n",
      "Epoch 136/500 - train_loss: 0.63040 - val_loss: 0.55991\n",
      "Epoch 137/500 - train_loss: 0.63035 - val_loss: 0.55832\n",
      "Epoch 138/500 - train_loss: 0.63030 - val_loss: 0.55725\n",
      "Stopping early at epoch 138.\n"
     ]
    }
   ],
   "source": [
    "early_stopping = EarlyStopping(patience=25)\n",
    "\n",
    "model.fit(\n",
    "    train_data=X_train,\n",
    "    train_targets=y_train,\n",
    "    val_data=X_val,\n",
    "    val_targets=y_val,\n",
    "    num_epochs=EPOCHS_NUM,\n",
    "    learning_rate=LEARNING_RATE,\n",
    "    batch_size=len(y_train),\n",
    "    early_stopping=early_stopping\n",
    ")"
   ],
   "metadata": {
    "collapsed": false,
    "ExecuteTime": {
     "end_time": "2024-02-10T14:17:36.032460500Z",
     "start_time": "2024-02-10T14:17:31.762154900Z"
    }
   },
   "id": "41e6bb9f3a8c5f1d",
   "execution_count": 5
  },
  {
   "cell_type": "code",
   "outputs": [
    {
     "name": "stdout",
     "output_type": "stream",
     "text": [
      "              precision    recall  f1-score   support\n",
      "\n",
      "           0       1.00      1.00      1.00         3\n",
      "           1       1.00      0.50      0.67         6\n",
      "           2       0.62      1.00      0.77         5\n",
      "\n",
      "    accuracy                           0.79        14\n",
      "   macro avg       0.88      0.83      0.81        14\n",
      "weighted avg       0.87      0.79      0.77        14\n"
     ]
    },
    {
     "data": {
      "text/plain": "<Figure size 640x480 with 2 Axes>",
      "image/png": "[encoded data removed]"
     },
     "metadata": {},
     "output_type": "display_data"
    }
   ],
   "source": [
    "# Make predictions\n",
    "y_pred = model.predict(X_test)\n",
    "\n",
    "# Evaluate the classifier\n",
    "print(classification_report(y_test, y_pred))\n",
    "\n",
    "# Display confusion matrix\n",
    "cm = confusion_matrix(y_test, y_pred, labels=[0, 1, 2])\n",
    "disp = ConfusionMatrixDisplay(confusion_matrix=cm, display_labels=['setosa', 'versicolor', 'virginica'])\n",
    "disp.plot(cmap='Greens', xticks_rotation=45)\n",
    "plt.show()"
   ],
   "metadata": {
    "collapsed": false,
    "ExecuteTime": {
     "end_time": "2024-02-10T14:17:36.582212400Z",
     "start_time": "2024-02-10T14:17:36.031768300Z"
    }
   },
   "id": "eabe332aeff7b959",
   "execution_count": 6
  },
  {
   "cell_type": "markdown",
   "source": [
    "We have successfully trained a pretty decent Quantum Neural Network (QNN) using a straightforward and efficient approach. Our next objective is to further enhance the performance and efficiency of our QNN. To achieve this, we will be implementing the data reuploading technique. We will also use some custom entanglement scheme.\n",
    "\n",
    "Data reuploading is a powerful strategy that allows for repeated encoding of classical data into quantum states within a single quantum circuit. This technique effectively enhances the capacity of the quantum model to capture complex patterns and relationships in the data, leading to potentially improved performance in tasks like classification and regression."
   ],
   "metadata": {
    "collapsed": false
   },
   "id": "62ebd0369b0b8624"
  },
  {
   "cell_type": "code",
   "outputs": [],
   "source": [
    "# AngleEmbedding encodes the number of features equal to number of qubits\n",
    "feature_map = AngleEmbedding(\n",
    "    n_qubits=QUBITS_N\n",
    ")\n",
    "\n",
    "# TwoLocal ansatz with custom entanglement scheme\n",
    "custom_entanglement = [[0, 2], [1, 3], [2, 0], [1, 3]]\n",
    "\n",
    "ansatz = EfficientSU2(\n",
    "    n_qubits=QUBITS_N,\n",
    "    entanglement='full',\n",
    "    skip_last_rotations=True,\n",
    "    reps=1\n",
    ")"
   ],
   "metadata": {
    "collapsed": false,
    "ExecuteTime": {
     "end_time": "2024-02-10T14:17:36.588233600Z",
     "start_time": "2024-02-10T14:17:36.584212900Z"
    }
   },
   "id": "b9df94809494ef79",
   "execution_count": 7
  },
  {
   "cell_type": "code",
   "outputs": [],
   "source": [
    "# Create QNNClassifier model with defined ansatz and feature map\n",
    "# Use data reuploading technique by setting data_reuploading to True\n",
    "model = QNNClassifier(\n",
    "    n_qubits=QUBITS_N,\n",
    "    feature_map=feature_map,\n",
    "    ansatz=ansatz,\n",
    "    loss_fn=optax.softmax_cross_entropy_with_integer_labels,\n",
    "    optimizer=optax.adam,\n",
    "    data_reuploading=True,\n",
    "    layers_num=3,\n",
    "    classes_num=3\n",
    ")"
   ],
   "metadata": {
    "collapsed": false,
    "ExecuteTime": {
     "end_time": "2024-02-10T14:17:36.722297300Z",
     "start_time": "2024-02-10T14:17:36.587304900Z"
    }
   },
   "id": "304c3d51266ca55f",
   "execution_count": 8
  },
  {
   "cell_type": "code",
   "outputs": [
    {
     "name": "stdout",
     "output_type": "stream",
     "text": [
      "0: ─╭AngleEmbedding(M0)──RY(-0.02)──RX(-0.03)─╭●─╭●─╭●───────────||─╭AngleEmbedding(M0)──RY(-0.05)\n",
      "1: ─├AngleEmbedding(M0)──RY(-0.09)──RX(0.04)──╰X─│──│──╭●─╭●─────||─├AngleEmbedding(M0)──RY(-0.02)\n",
      "2: ─├AngleEmbedding(M0)──RY(-0.09)──RX(-0.06)────╰X─│──╰X─│──╭●──||─├AngleEmbedding(M0)──RY(0.09)─\n",
      "3: ─╰AngleEmbedding(M0)──RY(-0.03)──RX(0.02)────────╰X────╰X─╰X──||─╰AngleEmbedding(M0)──RY(0.09)─\n",
      "\n",
      "───RX(0.03)──╭●─╭●─╭●───────────||─╭AngleEmbedding(M0)──RY(-0.11)──RX(-0.18)─╭●─╭●─╭●───────────||─┤\n",
      "───RX(-0.14)─╰X─│──│──╭●─╭●─────||─├AngleEmbedding(M0)──RY(0.13)───RX(-0.01)─╰X─│──│──╭●─╭●─────||─┤\n",
      "───RX(-0.09)────╰X─│──╰X─│──╭●──||─├AngleEmbedding(M0)──RY(-0.02)──RX(0.14)─────╰X─│──╰X─│──╭●──||─┤\n",
      "───RX(-0.01)───────╰X────╰X─╰X──||─╰AngleEmbedding(M0)──RY(0.11)───RX(-0.07)───────╰X────╰X─╰X──||─┤\n",
      "\n",
      "   \n",
      "   \n",
      "   \n",
      "   \n",
      "M0 = \n",
      "[[-0.34546488  1.51519196 -1.2951873   0.0881133 ]]\n"
     ]
    }
   ],
   "source": [
    "model.draw_circuit()"
   ],
   "metadata": {
    "collapsed": false,
    "ExecuteTime": {
     "end_time": "2024-02-10T14:17:36.764269800Z",
     "start_time": "2024-02-10T14:17:36.723302300Z"
    }
   },
   "id": "acefd34ea1915e2b",
   "execution_count": 9
  },
  {
   "cell_type": "code",
   "outputs": [
    {
     "name": "stdout",
     "output_type": "stream",
     "text": [
      "Epoch 1/500 - train_loss: 1.22179 - val_loss: 1.08225\n",
      "Epoch 2/500 - train_loss: 1.14677 - val_loss: 1.03238\n",
      "Epoch 3/500 - train_loss: 1.08977 - val_loss: 0.98665\n",
      "Epoch 4/500 - train_loss: 1.04042 - val_loss: 0.94133\n",
      "Epoch 5/500 - train_loss: 0.99491 - val_loss: 0.89994\n",
      "Epoch 6/500 - train_loss: 0.95690 - val_loss: 0.86566\n",
      "Epoch 7/500 - train_loss: 0.92964 - val_loss: 0.84175\n",
      "Epoch 8/500 - train_loss: 0.91405 - val_loss: 0.82842\n",
      "Epoch 9/500 - train_loss: 0.90753 - val_loss: 0.82152\n",
      "Epoch 10/500 - train_loss: 0.90485 - val_loss: 0.81631\n",
      "Epoch 11/500 - train_loss: 0.90181 - val_loss: 0.80914\n",
      "Epoch 12/500 - train_loss: 0.89579 - val_loss: 0.79879\n",
      "Epoch 13/500 - train_loss: 0.88595 - val_loss: 0.78623\n",
      "Epoch 14/500 - train_loss: 0.87326 - val_loss: 0.77329\n",
      "Epoch 15/500 - train_loss: 0.85953 - val_loss: 0.76118\n",
      "Epoch 16/500 - train_loss: 0.84631 - val_loss: 0.74974\n",
      "Epoch 17/500 - train_loss: 0.83414 - val_loss: 0.73822\n",
      "Epoch 18/500 - train_loss: 0.82305 - val_loss: 0.72691\n",
      "Epoch 19/500 - train_loss: 0.81353 - val_loss: 0.71721\n",
      "Epoch 20/500 - train_loss: 0.80652 - val_loss: 0.71039\n",
      "Epoch 21/500 - train_loss: 0.80221 - val_loss: 0.70642\n",
      "Epoch 22/500 - train_loss: 0.79939 - val_loss: 0.70421\n",
      "Epoch 23/500 - train_loss: 0.79619 - val_loss: 0.70270\n",
      "Epoch 24/500 - train_loss: 0.79131 - val_loss: 0.70146\n",
      "Epoch 25/500 - train_loss: 0.78454 - val_loss: 0.70038\n",
      "Epoch 26/500 - train_loss: 0.77647 - val_loss: 0.69900\n",
      "Epoch 27/500 - train_loss: 0.76772 - val_loss: 0.69630\n",
      "Epoch 28/500 - train_loss: 0.75852 - val_loss: 0.69113\n",
      "Epoch 29/500 - train_loss: 0.74875 - val_loss: 0.68285\n",
      "Epoch 30/500 - train_loss: 0.73806 - val_loss: 0.67155\n",
      "Epoch 31/500 - train_loss: 0.72609 - val_loss: 0.65799\n",
      "Epoch 32/500 - train_loss: 0.71290 - val_loss: 0.64359\n",
      "Epoch 33/500 - train_loss: 0.69932 - val_loss: 0.63006\n",
      "Epoch 34/500 - train_loss: 0.68661 - val_loss: 0.61855\n",
      "Epoch 35/500 - train_loss: 0.67562 - val_loss: 0.60908\n",
      "Epoch 36/500 - train_loss: 0.66630 - val_loss: 0.60068\n",
      "Epoch 37/500 - train_loss: 0.65791 - val_loss: 0.59203\n",
      "Epoch 38/500 - train_loss: 0.64967 - val_loss: 0.58220\n",
      "Epoch 39/500 - train_loss: 0.64130 - val_loss: 0.57099\n",
      "Epoch 40/500 - train_loss: 0.63302 - val_loss: 0.55897\n",
      "Epoch 41/500 - train_loss: 0.62541 - val_loss: 0.54734\n",
      "Epoch 42/500 - train_loss: 0.61923 - val_loss: 0.53742\n",
      "Epoch 43/500 - train_loss: 0.61487 - val_loss: 0.52978\n",
      "Epoch 44/500 - train_loss: 0.61192 - val_loss: 0.52414\n",
      "Epoch 45/500 - train_loss: 0.60931 - val_loss: 0.51995\n",
      "Epoch 46/500 - train_loss: 0.60632 - val_loss: 0.51707\n",
      "Epoch 47/500 - train_loss: 0.60317 - val_loss: 0.51565\n",
      "Epoch 48/500 - train_loss: 0.60063 - val_loss: 0.51558\n",
      "Epoch 49/500 - train_loss: 0.59918 - val_loss: 0.51621\n",
      "Epoch 50/500 - train_loss: 0.59850 - val_loss: 0.51677\n",
      "Epoch 51/500 - train_loss: 0.59794 - val_loss: 0.51691\n",
      "Epoch 52/500 - train_loss: 0.59717 - val_loss: 0.51675\n",
      "Epoch 53/500 - train_loss: 0.59634 - val_loss: 0.51640\n",
      "Epoch 54/500 - train_loss: 0.59563 - val_loss: 0.51569\n",
      "Epoch 55/500 - train_loss: 0.59495 - val_loss: 0.51428\n",
      "Epoch 56/500 - train_loss: 0.59397 - val_loss: 0.51203\n",
      "Epoch 57/500 - train_loss: 0.59255 - val_loss: 0.50915\n",
      "Epoch 58/500 - train_loss: 0.59084 - val_loss: 0.50605\n",
      "Epoch 59/500 - train_loss: 0.58920 - val_loss: 0.50309\n",
      "Epoch 60/500 - train_loss: 0.58791 - val_loss: 0.50051\n",
      "Epoch 61/500 - train_loss: 0.58698 - val_loss: 0.49837\n",
      "Epoch 62/500 - train_loss: 0.58626 - val_loss: 0.49663\n",
      "Epoch 63/500 - train_loss: 0.58553 - val_loss: 0.49534\n",
      "Epoch 64/500 - train_loss: 0.58472 - val_loss: 0.49451\n",
      "Epoch 65/500 - train_loss: 0.58393 - val_loss: 0.49418\n",
      "Epoch 66/500 - train_loss: 0.58326 - val_loss: 0.49428\n",
      "Epoch 67/500 - train_loss: 0.58277 - val_loss: 0.49475\n",
      "Epoch 68/500 - train_loss: 0.58246 - val_loss: 0.49551\n",
      "Epoch 69/500 - train_loss: 0.58230 - val_loss: 0.49644\n",
      "Epoch 70/500 - train_loss: 0.58224 - val_loss: 0.49738\n",
      "Epoch 71/500 - train_loss: 0.58216 - val_loss: 0.49818\n",
      "Epoch 72/500 - train_loss: 0.58196 - val_loss: 0.49878\n",
      "Epoch 73/500 - train_loss: 0.58165 - val_loss: 0.49916\n",
      "Epoch 74/500 - train_loss: 0.58127 - val_loss: 0.49935\n",
      "Epoch 75/500 - train_loss: 0.58089 - val_loss: 0.49932\n",
      "Epoch 76/500 - train_loss: 0.58051 - val_loss: 0.49908\n",
      "Epoch 77/500 - train_loss: 0.58015 - val_loss: 0.49870\n",
      "Epoch 78/500 - train_loss: 0.57986 - val_loss: 0.49828\n",
      "Epoch 79/500 - train_loss: 0.57965 - val_loss: 0.49786\n",
      "Epoch 80/500 - train_loss: 0.57948 - val_loss: 0.49748\n",
      "Epoch 81/500 - train_loss: 0.57928 - val_loss: 0.49714\n",
      "Epoch 82/500 - train_loss: 0.57905 - val_loss: 0.49684\n",
      "Epoch 83/500 - train_loss: 0.57878 - val_loss: 0.49658\n",
      "Epoch 84/500 - train_loss: 0.57850 - val_loss: 0.49634\n",
      "Epoch 85/500 - train_loss: 0.57824 - val_loss: 0.49612\n",
      "Epoch 86/500 - train_loss: 0.57802 - val_loss: 0.49595\n",
      "Epoch 87/500 - train_loss: 0.57786 - val_loss: 0.49586\n",
      "Epoch 88/500 - train_loss: 0.57774 - val_loss: 0.49587\n",
      "Epoch 89/500 - train_loss: 0.57765 - val_loss: 0.49598\n",
      "Stopping early at epoch 89.\n"
     ]
    }
   ],
   "source": [
    "early_stopping = EarlyStopping(patience=25)\n",
    "\n",
    "model.fit(\n",
    "    train_data=X_train,\n",
    "    train_targets=y_train,\n",
    "    val_data=X_val,\n",
    "    val_targets=y_val,\n",
    "    learning_rate=LEARNING_RATE,\n",
    "    num_epochs=EPOCHS_NUM,\n",
    "    batch_size=len(y_train),\n",
    "    early_stopping=early_stopping\n",
    ")"
   ],
   "metadata": {
    "collapsed": false,
    "ExecuteTime": {
     "end_time": "2024-02-10T14:17:39.577531200Z",
     "start_time": "2024-02-10T14:17:36.760751300Z"
    }
   },
   "id": "bdd159b6bb2e681a",
   "execution_count": 10
  },
  {
   "cell_type": "code",
   "outputs": [
    {
     "name": "stdout",
     "output_type": "stream",
     "text": [
      "              precision    recall  f1-score   support\n",
      "\n",
      "           0       1.00      1.00      1.00         3\n",
      "           1       1.00      1.00      1.00         6\n",
      "           2       1.00      1.00      1.00         5\n",
      "\n",
      "    accuracy                           1.00        14\n",
      "   macro avg       1.00      1.00      1.00        14\n",
      "weighted avg       1.00      1.00      1.00        14\n"
     ]
    },
    {
     "data": {
      "text/plain": "<Figure size 640x480 with 2 Axes>",
      "image/png": "[encoded data removed]"
     },
     "metadata": {},
     "output_type": "display_data"
    }
   ],
   "source": [
    "# Make predictions\n",
    "y_pred = model.predict(X_test)\n",
    "\n",
    "# Evaluate the classifier\n",
    "print(classification_report(y_test, y_pred))\n",
    "\n",
    "# Display confusion matrix\n",
    "cm = confusion_matrix(y_test, y_pred, labels=[0, 1, 2])\n",
    "disp = ConfusionMatrixDisplay(confusion_matrix=cm, display_labels=['setosa', 'versicolor', 'virginica'])\n",
    "disp.plot(cmap='Greens')\n",
    "plt.show()"
   ],
   "metadata": {
    "collapsed": false,
    "ExecuteTime": {
     "end_time": "2024-02-10T14:17:39.868465400Z",
     "start_time": "2024-02-10T14:17:39.575530800Z"
    }
   },
   "id": "58e44998a2dcef7c",
   "execution_count": 11
  }
 ],
 "metadata": {
  "kernelspec": {
   "display_name": "Python 3",
   "language": "python",
   "name": "python3"
  },
  "language_info": {
   "codemirror_mode": {
    "name": "ipython",
    "version": 2
   },
   "file_extension": ".py",
   "mimetype": "text/x-python",
   "name": "python",
   "nbconvert_exporter": "python",
   "pygments_lexer": "ipython2",
   "version": "2.7.6"
  }
 },
 "nbformat": 4,
 "nbformat_minor": 5
}
